{
 "cells": [
  {
   "cell_type": "markdown",
   "metadata": {},
   "source": [
    "<img width=\"180px\" src=\"Figures/logo_trans.png\" alt=\"LyonHPC\" />\n",
    "<img width=\"200px\" src=\"Figures/python-logo.gif\" alt=\"LyonHPC\"/>\n",
    "\n",
    "# Correction des exercices"
   ]
  },
  {
   "cell_type": "code",
   "execution_count": null,
   "metadata": {},
   "outputs": [],
   "source": [
    "%matplotlib inline\n",
    "import numpy as np\n",
    "from IPython.display import HTML,display,IFrame,Video,Markdown"
   ]
  },
  {
   "cell_type": "markdown",
   "metadata": {},
   "source": [
    "## Test de colinéarité de 2 vecteurs\n",
    "\n",
    "$$\\mathbf{U} \\in \\mathcal{R}^n , \\mathbf{V} \\in \\mathcal{R}^n \\mbox{ si } \\left|\\mathbf{U}.\\mathbf{V}\\right| = \\left\\Vert\\mathbf{U}\\right\\Vert \\left\\Vert\\mathbf{V}\\right\\Vert \\mbox{ alors } \\mathbf{U} \\mbox{ et } \\mathbf{V} \\mbox{ sont colinéaires} $$\n",
    "\n",
    "Ecrire une fonction qui teste la colinéarité\n",
    "\n",
    "        colineaire(U,V)\n",
    "        \n",
    "Attention à la précision"
   ]
  },
  {
   "cell_type": "markdown",
   "metadata": {},
   "source": [
    "### Algorithme: Test de colinéarité de 2 vecteurs \n",
    "\n",
    "**attention:** calcul avec une précision $\\epsilon$\n",
    "\n",
    "$$ \\left|\\, \\left|\\mathbf{U}.\\mathbf{V}\\right| - \\left\\Vert\\mathbf{U}\\right\\Vert \\left\\Vert\\mathbf{V}\\right\\Vert \\,\\right| < \\epsilon$$\n",
    "\n",
    "    Algorithme colineaire(U,V)\n",
    "        n = dimension U et V\n",
    "        normU = 0.\n",
    "        normV = 0.\n",
    "        scalUV = 0.\n",
    "        pour i de 0 a n-1\n",
    "            normU  = normU  + U[i]*U[i]\n",
    "            normV  = normV  + V[i]*V[i]\n",
    "            scalUV = scalUV + U[i]*V[i]\n",
    "        fin pour\n",
    "        normU = sqrt(normU)\n",
    "        normV = sqrt(normV)\n",
    "        test  = abs(scalUV) - normU*normV\n",
    "        si abs(test)<epsilon\n",
    "            retour VRAI\n",
    "        sinon\n",
    "            retour FAUX\n",
    "\n",
    "### Programme Python"
   ]
  },
  {
   "cell_type": "code",
   "execution_count": null,
   "metadata": {},
   "outputs": [],
   "source": [
    "import numpy as np\n",
    "eps = 1.e-12\n",
    "def colineaire(U, V):\n",
    "    \"\"\" \n",
    "    test si U et V sont colinéaires \n",
    "    \"\"\"\n",
    "    n = U.size\n",
    "    normU = normV = scalUV = 0.0\n",
    "    for i in range(n):\n",
    "        normU = normU + U[i]**2\n",
    "        normV = normV + V[i]**2\n",
    "        scalUV = scalUV + U[i] * V[i]\n",
    "    normU = np.sqrt(normU)\n",
    "    normV = np.sqrt(normV)\n",
    "    test  = np.abs(scalUV) - normU * normV\n",
    "    return np.abs(test) < eps\n",
    "#\n",
    "U = np.random.rand(3)\n",
    "V = np.random.rand(3)\n",
    "print(\"U =\", U, \"V =\", V)\n",
    "print(colineaire(U, V))\n",
    "V = 2. * U\n",
    "print(\"U =\", U, \"V =\", V)\n",
    "print(colineaire(U, V))"
   ]
  },
  {
   "cell_type": "markdown",
   "metadata": {},
   "source": [
    "## Normalisation d'un vecteur X\n",
    "\n",
    "$$\\mathbf{U} \\in \\mathcal{R}^n \\mbox{ calcul } \\mathbf{U} \\leftarrow \\frac{\\mathbf{U}}{\\left\\Vert\\mathbf{U} \\right\\Vert}$$\n",
    "  \n",
    "Ecrire une fonction python qui normalise un vecteur X  \n",
    "  \n",
    "    Xn = normalisation(X)\n",
    "  \n",
    "attention au cas X=0  \n"
   ]
  },
  {
   "cell_type": "markdown",
   "metadata": {},
   "source": [
    "### Algorithme: normalisation d'un vecteur X\n",
    "\n",
    "    Algorithme normalisation(U)\n",
    "        n dimension de U\n",
    "        normU = 0.\n",
    "        pour i de 0 a n-1\n",
    "            normU = normU + U[i]**2\n",
    "        if normU > eps\n",
    "            U = U / normU\n",
    "        retour\n",
    "        \n",
    "### Programme Python: normalisation d'un vecteur X"
   ]
  },
  {
   "cell_type": "code",
   "execution_count": null,
   "metadata": {},
   "outputs": [],
   "source": [
    "from numpy import *\n",
    "eps = 1.e-12\n",
    "def normalisation(U):\n",
    "    \"\"\" normalisation du vecteur U: resultat dans U \"\"\"\n",
    "    n = size(U)\n",
    "    normU = 0.\n",
    "    for i in range(n):\n",
    "        normU = normU + U[i]**2\n",
    "    normU = sqrt(normU)\n",
    "    if normU > eps:\n",
    "        for i in range(n):\n",
    "            U[i] = U[i] / normU\n",
    "    return\n",
    "#\n",
    "U = random.rand(3)\n",
    "print(\"U=\",U)\n",
    "normalisation(U)\n",
    "print(\"U normalise=\",U)"
   ]
  },
  {
   "cell_type": "markdown",
   "metadata": {},
   "source": [
    "## Droite des moindres carrées\n",
    "\n",
    " Soient $n$ couples de points expérimentaux: $(X_i,Y_i)_{i=0,n-1}$, on cherche à lisser ces points par la droite des moindres carrés: $y = a x +b $\n",
    "  \n",
    "### Principe \n",
    " \n",
    " on détermine la droite $y = a x + b$ qui minimise l'erreur $Err$ entre les points de mesure et les points de la droite:\n",
    " \n",
    "$$ Err(a,b) = \\sum_{i=0}^{n-1} \\Delta_i ^2 $$\n",
    "\n",
    "où $\\Delta_i ^2 = (a X_i +b - Y_i)^2$ représente le carré de l'erreur entre un point de mesure $(X_i,Y_i)$ et le point correspondant de la droite  $(X_i, a X_i + b)$  \n",
    "\n",
    "Les valeurs de $a$ et $b$ sont déterminées en minimisant l'erreur $Err(a,b)$ par rapport à $a$ et $b$, i.e. tel que $\\frac{\\partial Err}{\\partial a} = 0 $ et  $\\frac{\\partial Err}{\\partial b} = 0$\n",
    "\n",
    "On obtient ainsi le système linéaire de 2 équations:\n",
    "\n",
    "$$  a \\overline{X} + b  = \\overline{Y} \\mbox{ avec }  \\overline{X}=\\frac{1}{n}\\sum_{i=0}^{n-1}{X_i} \\mbox{ et } \\overline{Y}=\\frac{1}{n}\\sum_{i=0}^{n-1}{Y_i}$$\n",
    "$$  a \\overline{X^2} + b \\overline{X} =  \\overline{XY} \\mbox{ avec } \\overline{X^2}=\\frac{1}{n}\\sum_{i=0}^{n-1}{X_i^2} \\mbox{ et } \\overline{XY}=\\frac{1}{n}\\sum_{i=0}^{n-1}{X_i Y_i}$$\n",
    "\n",
    "dont la solution s'écrit:\n",
    "\n",
    "$$ a = \\frac{\\overline{XY}- \\overline{X}\\ \\overline{Y}}{\\overline{X^2}- (\\overline{X})^2} \\mbox{ et }  b = \\overline{Y} - a \\overline{X} $$\n"
   ]
  },
  {
   "cell_type": "markdown",
   "metadata": {},
   "source": [
    "### Algorithme: moindre carré\n",
    "\n",
    "    initialiser n \n",
    "    X,Y tableaux de n reels\n",
    "    Xm=0.; XXm=0.\n",
    "    Ym=0.; XYm=0.\n",
    "    pour i de 0 a n-1\n",
    "        Xm  = Xm  + X[i]\n",
    "        XXm = XXm + X[i]*X[i]\n",
    "        Ym  = Ym  + Y[i]\n",
    "        XYm = XYm + X[i]*Y[i]\n",
    "    fin pour\n",
    "    Xm = Xm / n; XXm = XXm / n \n",
    "    Ym = Ym / n; XYm = XYm / n\n",
    "    a = (XYm - Xm*Ym)/(XXm - Xm*Xm)\n",
    "    b = Ym - a * Xm\n",
    "        \n",
    "### Programme Python \"moindre carré\""
   ]
  },
  {
   "cell_type": "code",
   "execution_count": null,
   "metadata": {},
   "outputs": [],
   "source": [
    "X = np.array([1., 2., 3., 4.])\n",
    "Y = np.array([1.01, 1.99, 3.1, 4.05])\n",
    "n = X.size\n",
    "Xm = XXm = 0 \n",
    "Ym = XYm = 0\n",
    "for i in range(n):\n",
    "    Xm = Xm + X[i]\n",
    "    Ym = Ym + Y[i]\n",
    "    XXm = XXm + X[i]**2\n",
    "    XYm = XYm + X[i] * Y[i]\n",
    "Xm = Xm / n; XXm = XXm / n\n",
    "Ym = Ym / n; XYm = XYm / n\n",
    "a = (XYm-Xm*Ym) / (XXm-Xm**2)\n",
    "b = Ym - a * Xm\n",
    "print(\"droite des moindres carres y = \", a, \" x + \", b)"
   ]
  },
  {
   "cell_type": "markdown",
   "metadata": {},
   "source": [
    "**Visualisation de l'execution du programme \"moindre carré\"**\n",
    "\n",
    "vous pouvez copier l'exemple de code python sur le site pour l'exécuter"
   ]
  },
  {
   "cell_type": "code",
   "execution_count": null,
   "metadata": {},
   "outputs": [],
   "source": [
    "display(Markdown(\"**Visualisation de l'execution sur le site pythontutor**\"))\n",
    "Video(\"VIDEO_COURS/pythonlive_exo1.mp4\", embed=True,width=700, height=300)"
   ]
  },
  {
   "cell_type": "markdown",
   "metadata": {},
   "source": [
    "**Remarque** quel résultat obtient-on si on remplace la première ligne par:\n",
    "\n",
    "    X=array([1,2,3,4])"
   ]
  },
  {
   "cell_type": "markdown",
   "metadata": {},
   "source": [
    "## Produit matrice-matrice\n",
    "\n",
    "$\\mathbf{C} = \\mathbf{A}\\ \\mathbf{B} $ pour $\\mathbf{A} \\in \\mathcal{R}^n\\times\\mathcal{R}^p$ , $\\mathbf{B} \\in \\mathcal{R}^p\\times\\mathcal{R}^q$ et $\\mathbf{C} \\in \\mathcal{R}^n\\times\\mathcal{R}^q$\n",
    "$$ C_{i,j} = \\sum_{k=0}^{p-1} A_{i,k} B_{k,j}$$\n",
    "\n",
    "## Algorithme: \"produit matrice-matrice\"\n",
    "    initialise n,p,q (dimension)\n",
    "    A matrice dimension n,p\n",
    "    B matrice dimension p,q\n",
    "    C matrice dimension n,q\n",
    "\n",
    "    pour i de 0 a n-1\n",
    "      pour j de 0 a q-1\n",
    "        C[i,j]=0.\n",
    "        pour k de 0 a p-1\n",
    "            C[i,j]=C[i,j]+A[i,k]*B[k,j]\n",
    "        fin pour k\n",
    "      fin pour j\n",
    "    fin pour i\n",
    "    affiche C\n",
    "    \n",
    "### Programme Python: \"produit matrice-matrice\""
   ]
  },
  {
   "cell_type": "code",
   "execution_count": null,
   "metadata": {},
   "outputs": [],
   "source": [
    "n, p, q = 2, 2, 3 \n",
    "A = np.reshape(np.arange(n*p), (n, p))\n",
    "B = np.reshape(np.arange(p*q), (p, q))\n",
    "C = np.zeros((n, q))\n",
    "for i in range(n):\n",
    "    for j in range(q):\n",
    "        for k in range(p):\n",
    "            C[i, j] = C[i, j] + A[i, k] * B[k, j]\n",
    "print(\"A =\",A)\n",
    "print(\"B =\",B)\n",
    "print(\"C = A.B\",C)"
   ]
  },
  {
   "cell_type": "markdown",
   "metadata": {},
   "source": [
    "## Calcul matrice de Vandermonde\n",
    "\n",
    "$$ V = \\left[ \\begin{array}{ccccc}\n",
    "1 & x_0 & x_0^2 & \\ldots & x_0^{n} \\\\\n",
    "1 & x_1 & x_1^2 & \\ldots & x_1^{n}\\\\\n",
    "\\ldots & \\ldots & \\ldots & \\ldots & \\ldots \\\\\n",
    "1 & x_n & x_n^2 & \\ldots & x_n^{n}\\\\\n",
    "\\end{array}\n",
    "\\right]\n",
    "$$\n",
    "\n",
    "Intervient dans le problème de la détermination du polynôme d'interpolation de degré $n$ passant par $n+1$ points $\\{x_i,y_i\\}_{i=0,n}$\n",
    "\n",
    "### Algorithme: vandermonde\n",
    "\n",
    "    initialiser n\n",
    "    X vecteur dimension n+1\n",
    "    V matrice dimension (n+1,n+1)\n",
    "    pour i de 0 a n\n",
    "        V[i,0]=1.0\n",
    "        pour j de 1 a n\n",
    "            V[i,j] = V[i,j]*X[i]\n",
    "        fin pour j\n",
    "    fin pour i\n",
    "    print V\n",
    "\n",
    "### Programme Python: vandermonde    "
   ]
  },
  {
   "cell_type": "code",
   "execution_count": null,
   "metadata": {},
   "outputs": [],
   "source": [
    "n = 4\n",
    "X = np.arange(1, n+2)\n",
    "print(X)\n",
    "V = np.zeros((n+1, n+1))\n",
    "for i in range(n+1):\n",
    "    V[i, 0] = 1.\n",
    "    for j in range(1, n+1):\n",
    "        V[i, j] = V[i, j-1] * X[i]\n",
    "print(V)"
   ]
  },
  {
   "cell_type": "markdown",
   "metadata": {},
   "source": [
    "## FIN des exercices\n",
    "\n",
    "<img width=\"180px\" src=\"Figures/logo_trans.png\" alt=\"LyonHPC\" />\n",
    "<img width=\"200px\" src=\"Figures/python-logo.gif\" alt=\"LyonHPC\"/>\n"
   ]
  },
  {
   "cell_type": "code",
   "execution_count": null,
   "metadata": {},
   "outputs": [],
   "source": []
  }
 ],
 "metadata": {
  "kernelspec": {
   "display_name": "Python 3",
   "language": "python",
   "name": "python3"
  },
  "language_info": {
   "codemirror_mode": {
    "name": "ipython",
    "version": 3
   },
   "file_extension": ".py",
   "mimetype": "text/x-python",
   "name": "python",
   "nbconvert_exporter": "python",
   "pygments_lexer": "ipython3",
   "version": "3.8.10"
  },
  "toc": {
   "base_numbering": 1,
   "nav_menu": {},
   "number_sections": true,
   "sideBar": true,
   "skip_h1_title": true,
   "title_cell": "Table of Contents",
   "title_sidebar": "Contenu",
   "toc_cell": false,
   "toc_position": {},
   "toc_section_display": true,
   "toc_window_display": false
  }
 },
 "nbformat": 4,
 "nbformat_minor": 1
}
