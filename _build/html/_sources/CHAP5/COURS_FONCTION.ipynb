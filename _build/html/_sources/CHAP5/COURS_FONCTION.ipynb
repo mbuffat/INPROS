{
 "cells": [
  {
   "cell_type": "markdown",
   "metadata": {},
   "source": [
    "<img src=\"Figures/logo_trans.png\" width=\"180px\" alt=\"LyonHPC\" />\n",
    "<img width=\"200px\" src=\"Figures/python-logo.gif\" alt=\"LyonHPC\"/>\n",
    "\n",
    "# Fonctions et procédures\n",
    "\n",
    "<img src=\"Figures/cloud_fonction.png\" alt=\"cloud\" width=\"300px\"/>"
   ]
  },
  {
   "cell_type": "code",
   "execution_count": null,
   "metadata": {},
   "outputs": [],
   "source": [
    "%matplotlib inline\n",
    "import numpy as np\n",
    "from IPython.display import HTML,display,IFrame,Video\n",
    "from IPython.display import YouTubeVideo,Markdown"
   ]
  },
  {
   "cell_type": "code",
   "execution_count": null,
   "metadata": {},
   "outputs": [],
   "source": [
    "display(Markdown(\"**Video du cours: Introduction**\"))\n",
    "YouTubeVideo('Q_yFr7sdyc0')"
   ]
  },
  {
   "cell_type": "markdown",
   "metadata": {},
   "source": [
    "```{tip} \n",
    "pour tester les programmes Python, vous pouvez vous connectez sur un serveur Jupyter, par exemple, pour \n",
    "les étudiants Lyon1 [https://jupyter.mecanique.univ-lyon1.fr](https://jupyter.mecanique.univ-lyon1.fr)\n",
    "```"
   ]
  },
  {
   "cell_type": "markdown",
   "metadata": {},
   "source": [
    "## Procédure et fonction"
   ]
  },
  {
   "cell_type": "markdown",
   "metadata": {},
   "source": [
    "\n",
    "### Procédure\n",
    "\n",
    "**procédure**: algorithme avec des paramètres d'entrée (données) et des paramètres de sortie (résultat)\n",
    "\n",
    "    Algorithme MaFonction(liste de paramètres)\n",
    "        variables locales\n",
    "        instructions\n",
    "        retour (liste de valeurs)\n",
    "\n",
    "    # utilisation\n",
    "    val = MaFonction(param1,param2,..)"
   ]
  },
  {
   "cell_type": "code",
   "execution_count": null,
   "metadata": {},
   "outputs": [],
   "source": [
    "display(Markdown(\"**Video du cours: procédure et fonction**\"))\n",
    "YouTubeVideo('CAsiebHnHAs')"
   ]
  },
  {
   "cell_type": "markdown",
   "metadata": {},
   "source": [
    "### Fonction en Python\n",
    "\n",
    "**implémentation d'une procédure** = **function** (C, Python) , subroutine (Fortran)\n",
    "\n",
    "    # définition\n",
    "    def MaFonction(liste arguments):\n",
    "        instructions\n",
    "        ....\n",
    "        return (liste de valeurs)\n",
    "    # utilisation\n",
    "    (val1, val2, ..) = MaFonction(arg1, arg2, ...) \n",
    "    \n",
    "### Passage des arguments\n",
    "\n",
    "\n",
    "on affecte aux arguments de la fonction la valeur des paramètres d'appel:\n",
    "\n",
    "    def MaFonction(a1, a2, a3):\n",
    "        ....\n",
    "        return (v1, v2)\n",
    "        \n",
    "    (V1, V2) = MaFonction(A1, A2, A3)\n",
    "    \n",
    "  - lors de l'appel, on a a1=A1 a2=A2 a3=A3\n",
    "\n",
    "- valeur de retour = liste\n",
    "\n",
    "  - lors du retour, V1=v1, V2=v2\n",
    "        \n",
    "**Exemple Python** \n",
    "\n",
    "**utilisation du site : http://pythontutor.com**\n",
    "\n",
    "*vous pouvez copier l'exemple de code python sur le site pour l'exécuter*\n",
    "\n",
    "        # definition\n",
    "        def MaFonc(a1,a2,a3):\n",
    "            v1 = a1 + a3\n",
    "            v2 = a2 + a3\n",
    "            return v1,v2\n",
    "        # utilisation\n",
    "        A1 = 1.0\n",
    "        V1,V2 = mafonc(A1,a.2,4*A1)\n",
    "        "
   ]
  },
  {
   "cell_type": "code",
   "execution_count": null,
   "metadata": {},
   "outputs": [],
   "source": [
    "display(Markdown(\"**Visualisation de l'execution sur le site pythontutor**\"))\n",
    "Video(\"VIDEO_COURS/pythonlive_fonc1.mp4\", embed=True,width=700, height=300)"
   ]
  },
  {
   "cell_type": "markdown",
   "metadata": {},
   "source": [
    "### Passage des arguments\n",
    "\n",
    "- pour les variables scalaires: valeur = valeur de la variable\n",
    "    - la variable n'est donc pas modifiée\n",
    "    \n",
    "- pour les listes et tableaux: valeur = adresse des données\n",
    "    - on peut donc modifier la valeur d'une liste ou tableau en argument\n",
    "    - mais à condition de ne pas faire de réaffectation\n",
    "\n",
    "**Exemple Initialisation de liste (tableau) : version 1**\n",
    "\n",
    "    # definition\n",
    "    def InitTab(X):\n",
    "        X[:] = [0,0,0]\n",
    "        n = len(X)\n",
    "        for i in range(n):\n",
    "            X[i] = i*i\n",
    "        return\n",
    "    # utilisation\n",
    "    Z = [1,1,1]\n",
    "    InitTab(Z)"
   ]
  },
  {
   "cell_type": "code",
   "execution_count": null,
   "metadata": {},
   "outputs": [],
   "source": [
    "display(Markdown(\"**Video du cours: arguments d'une fonction**\"))\n",
    "YouTubeVideo('I0uizg3B6LU')"
   ]
  },
  {
   "cell_type": "code",
   "execution_count": null,
   "metadata": {},
   "outputs": [],
   "source": [
    "display(Markdown(\"**Visualisation de l'execution sur le site pythontutor**\"))\n",
    "Video(\"VIDEO_COURS/pythonlive_fonc2.mp4\", embed=True,width=700, height=300)"
   ]
  },
  {
   "cell_type": "markdown",
   "metadata": {},
   "source": [
    "**Initialisation de liste (tableau): version 2**\n",
    "\n",
    "    # definition\n",
    "    def InitTab(X):\n",
    "        X = [0,0,0]\n",
    "        n = len(X)\n",
    "        for i in range(n):\n",
    "            X[i] = i*i\n",
    "        return\n",
    "    # utilisation\n",
    "    Z = [1,1,1]\n",
    "    InitTab(Z)"
   ]
  },
  {
   "cell_type": "code",
   "execution_count": null,
   "metadata": {},
   "outputs": [],
   "source": [
    "display(Markdown(\"**Visualisation de l'execution sur le site pythontutor**\"))\n",
    "Video(\"VIDEO_COURS/pythonlive_fonc3.mp4\", embed=True,width=700, height=300)"
   ]
  },
  {
   "cell_type": "markdown",
   "metadata": {},
   "source": [
    "```{admonition} Questions ?\n",
    "   - comparer la valeur de Z après l'appel de la fonction `InitTab` !\n",
    "   - à quoi correspond la variable X dans la fonction `InitTab` \n",
    "```"
   ]
  },
  {
   "cell_type": "markdown",
   "metadata": {},
   "source": [
    "## Exemples de procédures et de fonctions"
   ]
  },
  {
   "cell_type": "code",
   "execution_count": null,
   "metadata": {},
   "outputs": [],
   "source": [
    "display(Markdown(\"**Video du cours: exemple de procédure et fonction**\"))\n",
    "YouTubeVideo('1RWcWyOF2g8')"
   ]
  },
  {
   "cell_type": "markdown",
   "metadata": {},
   "source": [
    "```{attention} \n",
    "Les vidéos utilisent un ancien interpréteur python 2.7, pour lequel `print` est un mot clé, \n",
    "soit `print 'bonjour'`.\n",
    "Avec Python 3, `print` est une fonction et il faut donc utiliser des parenthèses, \n",
    "soit `print('bonjour')` \n",
    "```"
   ]
  },
  {
   "cell_type": "markdown",
   "metadata": {},
   "source": [
    "### Algorithme d'Euclide: calcul du PGCD de 2 entiers\n",
    "\n",
    "    # Calcul du PGCD\n",
    "    # paramètres d'entrée: 2 entiers positifs a et b\n",
    "    # en sortie: PGCD de a et b\n",
    "    #\n",
    "    Algorithme PGCD(a,b)\n",
    "        tant que a # b \n",
    "            si a>b alors a = a-b \n",
    "            sinon b = b - a \n",
    "        retour a\n",
    "    #\n",
    "\n",
    "#### Programme Python"
   ]
  },
  {
   "cell_type": "code",
   "execution_count": null,
   "metadata": {},
   "outputs": [],
   "source": [
    "def PGCD(a, b):\n",
    "    \"\"\" \n",
    "    Calcul du PGCD de a et b (entiers positifs) \n",
    "    \"\"\"\n",
    "    while a != b:\n",
    "        if a > b: \n",
    "            a = a - b\n",
    "        else:   \n",
    "            b = b - a\n",
    "    return a\n",
    "# utilisation\n",
    "a0, b0 = 15623532, 252568\n",
    "p = PGCD(a0, b0)\n",
    "print(\"PGCD de \", a0, b0, \"=\", p)"
   ]
  },
  {
   "cell_type": "markdown",
   "metadata": {},
   "source": [
    "### Algorithme: calcul de la somme d'une série\n",
    "\n",
    "$$ S_n = \\sum_{i=1}^n \\frac{1}{i^2} \\mbox{ et } \\lim_{n\\rightarrow\\infty} S_n = \\frac{\\pi^2}{6}$$  \n",
    "\n",
    "    # calcul de la somme Sn et de l'Écart par rapport à la limite\n",
    "    # entrée: n entier   sortie: somme, écart par rapport à limite\n",
    "    Algorithme Somme(n)\n",
    "        S=0.\n",
    "        pour i de 1 a n\n",
    "            S = S + 1./i**2\n",
    "        err = S - (pi**2/6.)\n",
    "        retour S,err\n",
    "        \n",
    "#### Programme Python"
   ]
  },
  {
   "cell_type": "code",
   "execution_count": null,
   "metadata": {},
   "outputs": [],
   "source": [
    "# fonction Python\n",
    "def Somme(n):\n",
    "    \"\"\" \n",
    "    Calcul de la somme de la série 1/i**2  pour i de 0 a n \n",
    "    en sortie: somme et écart par rapport à la limite\n",
    "    \"\"\"\n",
    "    S=0.\n",
    "    for i in range(1, n + 1):\n",
    "        S = S + 1. / (i*i)\n",
    "    ecart = S - (np.pi**2/6.)\n",
    "    return S, ecart\n",
    "#\n",
    "n = 100\n",
    "S, err = Somme(n)\n",
    "print(\"somme=\",S,\" erreur=\",err)\n",
    "print(Somme(1000))\n",
    "print(Somme(10000))"
   ]
  },
  {
   "cell_type": "markdown",
   "metadata": {},
   "source": [
    "## Paramètres optionnels d'une fonction\n",
    "\n",
    "- En Python possibilité de définir des paramètres optionnels avec une valeur par défaut\n",
    "- Nommage des paramètres (ordre indifférent)\n",
    "- Très utilisés dans les fonctions des bibliothèques\n",
    "\n",
    "\n",
    "        # Déclaration\n",
    "        def MaFonction(par, par1=valdef1, par2=valdef2)\n",
    "    \n",
    "        # Appel\n",
    "        MaFonction(val)\n",
    "        MaFonction(val, par1=val1)\n",
    "        MaFonction(val, par2=val2, par1=val1)"
   ]
  },
  {
   "cell_type": "code",
   "execution_count": null,
   "metadata": {},
   "outputs": [],
   "source": [
    "display(Markdown(\"**Video du cours: paramètres optionnels**\"))\n",
    "YouTubeVideo('fUDdLOxc2c0')"
   ]
  },
  {
   "cell_type": "markdown",
   "metadata": {},
   "source": [
    "```{attention} \n",
    "Les vidéos utilisent un ancien interpréteur python 2.7, pour lequel `print` est un mot clé, \n",
    "soit `print 'bonjour'`.\n",
    "Avec Python 3, `print` est une fonction et il faut donc utiliser des parenthèses, \n",
    "soit `print('bonjour')` \n",
    "```"
   ]
  },
  {
   "cell_type": "markdown",
   "metadata": {},
   "source": [
    " ### Exemple: algorithme de Héron (calcul de $\\sqrt{x}$)\n",
    "\n",
    "Pour calculer une approximation $u$ de $\\sqrt{a}$, on note que si $u\\approx\\sqrt(a)$ alors $a/u\\approx\\sqrt(a)$ et donc  $\\frac{u + a/u}{2}$  est sans doute une meilleur approximation de $\\sqrt{a}$.  \n",
    "On peut vérifier que cette méthode babylonienne est en fait un cas particulier de la méthode de Newton pour calculer la racine de $f(x)=u^2-a$\n",
    "\n",
    "#### Algorithme\n",
    "      Algorithme Heron(a)\n",
    "          u = a/2\n",
    "          eps = 1.e-6\n",
    "          tant que |u**2 - a| > eps\n",
    "              u = (u + a/u)/2\n",
    "          fin tantque\n",
    "          retour u\n",
    "\n",
    "#### Programme Python"
   ]
  },
  {
   "cell_type": "code",
   "execution_count": null,
   "metadata": {},
   "outputs": [],
   "source": [
    "import numpy as np\n",
    "def Heron(a, eps=1e-03, itmax=100):\n",
    "    \"\"\" \n",
    "    calcul une approximation de sqrt(a) avec une precision eps\n",
    "    et une nombre maxi d'iterations itmax \"\"\"\n",
    "    u = a/2.\n",
    "    it = 0\n",
    "    while abs(u**2 - a) > eps:\n",
    "        u  = (u + a/u) / 2.\n",
    "        it = it + 1\n",
    "        if it > itmax:\n",
    "            print(\"Attention nbre maxi d'iterations atteint\", it)\n",
    "            break\n",
    "    return u, it\n",
    "# utilisation\n",
    "b = 200.\n",
    "print(\"sqrt(200) ~\",Heron(b))\n",
    "print(\"a 10^-8  pres sqrt(200) ~\",Heron(b, 1.e-08))\n",
    "print(\"a 10^-13 pres sqrt(200) ~\",Heron(b, eps=1.e-13))\n",
    "print(\"a 10^-14 pres sqrt(200) ~\",Heron(b, eps=1.e-14))\n",
    "print(\"a 10^-14 pres sqrt(200) ~\",Heron(b, itmax=200, eps=1.e-14))\n",
    "print(\"valeur avec numpy \",np.sqrt(b))"
   ]
  },
  {
   "cell_type": "markdown",
   "metadata": {},
   "source": [
    "## Fonction Lambda\n",
    "\n",
    "- permet de définir des mini-fonctions (à la Lisp)\n",
    "- utile pour des fonctions simples (mais pas obligatoire!!)\n",
    "- **définition** fonction F(args)  où args est la liste des arguments\n",
    "\n",
    "        F = lambda args : expression(args)"
   ]
  },
  {
   "cell_type": "code",
   "execution_count": null,
   "metadata": {},
   "outputs": [],
   "source": [
    "import numpy as np\n",
    "F = lambda x: np.cos(x**2)\n",
    "print(F(1))\n",
    "G = lambda x, y: F(x) + y**2\n",
    "print(G(1, 1))"
   ]
  },
  {
   "cell_type": "markdown",
   "metadata": {},
   "source": [
    "## Méthodes, classes et fonctions de bibliothèque\n",
    "\n",
    "### Définition\n",
    "**classe** = type de structure de données définissant des données + fonctions pour manipuler ces données\n",
    "\n",
    "**méthode** = fonction associée à une classe pour manipuler les données de la classe\n",
    "\n",
    "**objet** = instance de classe = variable  [données + méthodes]\n",
    "\n",
    "sous Python toute variable (list, string, real, int) est un objet et possède des méthodes (p.e pour l'afficher)"
   ]
  },
  {
   "cell_type": "code",
   "execution_count": null,
   "metadata": {},
   "outputs": [],
   "source": [
    "display(Markdown(\"**Video du cours: notion de classes et méthodes**\"))\n",
    "YouTubeVideo('N6TLygH5p4c')"
   ]
  },
  {
   "cell_type": "markdown",
   "metadata": {},
   "source": [
    "```{attention} \n",
    "Les vidéos utilisent un ancien interpréteur python 2.7, pour lequel `print` est un mot clé, \n",
    "soit `print 'bonjour'`.\n",
    "Avec Python 3, `print` est une fonction et il faut donc utiliser des parenthèses, \n",
    "soit `print('bonjour')` \n",
    "```"
   ]
  },
  {
   "cell_type": "markdown",
   "metadata": {},
   "source": [
    "### Syntaxe d'utilisation d'une méthode sous Python\n",
    "\n",
    "pour un objet A avec un methode func1\n",
    "\n",
    "    A.func1(arg1,arg2,...)\n",
    "    \n",
    "équivalent à\n",
    "\n",
    "    func1(A,arg1,arg2,..)\n",
    "    \n",
    "\n",
    "### Exemple en Python"
   ]
  },
  {
   "cell_type": "code",
   "execution_count": null,
   "metadata": {},
   "outputs": [],
   "source": [
    "S=\"mon nom\"\n",
    "print(S.upper())\n",
    "L=[1,2,3]\n",
    "L.reverse()\n",
    "print(L)\n",
    "X=3.14157\n",
    "print(X.as_integer_ratio())"
   ]
  },
  {
   "cell_type": "markdown",
   "metadata": {},
   "source": [
    "### Aide sous Ipython\n",
    "Sous Ipython, pour avoir la liste des méthodes associées à un objet A\n",
    "\n",
    "    A. <tab>   # liste des methodes\n",
    "    A.meth?    # aide sur la methode meth\n",
    "\n",
    "\n",
    "**exemple**\n",
    "    \n",
    "    np.abs?\n",
    "    \n",
    "renvoie    \n",
    "\n",
    "    Call signature:  np.abs(*args, **kwargs)\n",
    "    Type:            ufunc\n",
    "    String form:     <ufunc 'absolute'>\n",
    "    File:            /usr/local/lib/python3.8/dist-packages/numpy/__init__.py\n",
    "    Docstring:      \n",
    "    absolute(x, /, out=None, *, where=True, casting='same_kind', order='K', dtype=None, subok=True[, signature, extobj])\n",
    "\n",
    "    Calculate the absolute value element-wise.\n",
    "\n",
    "    ``np.abs`` is a shorthand for this function.\n",
    "\n",
    "    Parameters\n",
    "    ----------\n",
    "    x : array_like\n",
    "        Input array.\n",
    "    out : ndarray, None, or tuple of ndarray and None, optional\n",
    "        A location into which the result is stored. If provided, it must have\n",
    "        a shape that the inputs broadcast to. If not provided or None,\n",
    "        a freshly-allocated array is returned. A tuple (possible only as a\n",
    "        keyword argument) must have length equal to the number of outputs.\n",
    "    where : array_like, optional\n",
    "        This condition is broadcast over the input. At locations where the\n",
    "        condition is True, the `out` array will be set to the ufunc result.\n",
    "        Elsewhere, the `out` array will retain its original value.\n",
    "        Note that if an uninitialized `out` array is created via the default\n",
    "        ``out=None``, locations within it where the condition is False will\n",
    "        remain uninitialized.\n",
    "    **kwargs\n",
    "        For other keyword-only arguments, see the\n",
    "        :ref:`ufunc docs <ufuncs.kwargs>`.\n",
    "\n",
    "    Returns\n",
    "    -------\n",
    "    absolute : ndarray\n",
    "        An ndarray containing the absolute value of\n",
    "        each element in `x`.  For complex input, ``a + ib``, the\n",
    "        absolute value is :math:`\\sqrt{ a^2 + b^2 }`.\n",
    "        This is a scalar if `x` is a scalar."
   ]
  },
  {
   "cell_type": "markdown",
   "metadata": {},
   "source": [
    "### Fonctions d'une bibliothéque\n",
    "\n",
    "espace de nom = nom de la bibliothéque bibli\n",
    "\n",
    "    import bibli\n",
    "\n",
    "nom de la fonction func dans la bibliothéque \n",
    "\n",
    "    bibli.func\n",
    "    bibli.sous_bibli.func\n",
    "    \n",
    "simplification du nommage\n",
    "\n",
    "    import bibli as bib\n",
    "    import bibli.sous_bibli as sbib\n",
    "    \n",
    "importation d'une fonction\n",
    "\n",
    "    from bibli import func"
   ]
  },
  {
   "cell_type": "code",
   "execution_count": null,
   "metadata": {},
   "outputs": [],
   "source": [
    "import numpy as np\n",
    "print(np.sqrt(3))\n",
    "from numpy import tanh\n",
    "print(tanh(1))"
   ]
  },
  {
   "cell_type": "markdown",
   "metadata": {},
   "source": [
    "## Bibliographie\n",
    "\n",
    "1. Les classes sous Python \n",
    "\n",
    "   - [\"Classes sous Python\"](http://fr.wikibooks.org/wiki/Apprendre_%C3%A0_programmer_avec_Python/Classes,_objets,_attributs),<br> \n",
    "\n",
    "    chapitre du livre \"Apprendre à programmer avec Python\"\n",
    "\n",
    "   - [\"Apprendre à programmer avec Python\"](http://inforef.be/swi/python.htm) de Gérard Swinnen"
   ]
  },
  {
   "cell_type": "markdown",
   "metadata": {},
   "source": [
    "## Fin de la leçon\n",
    "\n",
    "<img src=\"Figures/cloud_fonction.png\" alt=\"cloud\" width=\"300px\"/>"
   ]
  }
 ],
 "metadata": {
  "kernelspec": {
   "display_name": "Python 3",
   "language": "python",
   "name": "python3"
  },
  "language_info": {
   "codemirror_mode": {
    "name": "ipython",
    "version": 3
   },
   "file_extension": ".py",
   "mimetype": "text/x-python",
   "name": "python",
   "nbconvert_exporter": "python",
   "pygments_lexer": "ipython3",
   "version": "3.8.10"
  },
  "toc": {
   "base_numbering": 1,
   "nav_menu": {},
   "number_sections": true,
   "sideBar": true,
   "skip_h1_title": true,
   "title_cell": "Contenu du chapitre",
   "title_sidebar": "Contenu",
   "toc_cell": false,
   "toc_position": {},
   "toc_section_display": true,
   "toc_window_display": false
  }
 },
 "nbformat": 4,
 "nbformat_minor": 1
}
