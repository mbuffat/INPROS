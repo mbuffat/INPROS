{
 "cells": [
  {
   "cell_type": "markdown",
   "metadata": {},
   "source": [
    "<img src=\"Figures/logo_trans.png\" width=\"180px\" alt=\"LyonHPC\" />\n",
    "<img width=\"200px\" src=\"Figures/python-logo.gif\" alt=\"LyonHPC\"/>\n",
    "\n",
    "# Gestion de fichiers et E/S\n",
    "\n",
    "<img src=\"Figures/python_file.png\" width=\"300px\" />"
   ]
  },
  {
   "cell_type": "code",
   "execution_count": null,
   "metadata": {},
   "outputs": [],
   "source": [
    "%matplotlib inline\n",
    "import numpy as np\n",
    "from IPython.display import HTML,display,IFrame\n",
    "from IPython.display import YouTubeVideo,Markdown,Video"
   ]
  },
  {
   "cell_type": "markdown",
   "metadata": {},
   "source": [
    "## Fichier informatique\n",
    "\n",
    "**définition (Wikipédia)**\n",
    "un fichier informatique est  une collection d'informations numériques (séquences d'octets) réunies sous un même nom, enregistrées sur un support de stockage tel qu'un disque dur, un CD-ROM, une clé USB ...\n",
    "\n",
    "En vue de faciliter leur organisation, les fichiers sont disposés dans des systèmes de fichiers qui permettent de placer les fichiers dans des emplacements appelés répertoires ou dossiers eux-mêmes organisés selon le même principe de manière à former une hiérarchie arborescente\n",
    "\n",
    "Sur le système de l'ordinateur, un fichier est repéré par son nom avec éventuellement une extension et le répertoire dans lequel il se trouve.\n",
    "\n",
    "En calcul scientifique, on considère 2 types principaux de fichiers:\n",
    "\n",
    "- des fichiers de **programmes** qui contiennent un code informatique exécutable par l'ordinateur, sous 2 formes principales:\n",
    "\n",
    "   - fichiers **exécutables** qui contiennent un code binaire directement exécutable par le processeur (extension **.exe** sous windows). Ces programmes ne sont pas modifiables et sont propre à l'ordinateur utilisé (programmes commerciaux ou propriétaires)\n",
    "   - fichiers **sources** qui contiennent le code source du programme dans un langage de programmation (extension **.py** pour les programmes Python). Ces programmes peuvent être modifiés et être exécuter sur n'importe quel ordinateur.\n",
    "  \n",
    "\n",
    "- des fichiers de **données** qui contiennent des données (data) crées et manipulées par les programmes, sous 2 formes principales:\n",
    "\n",
    "   - des fichiers **binaires** qui contiennent l'information brute, utilisant le codage de l'ordinateur (le plus efficace pour le stockage)\n",
    "   - des fichiers **textes** qui contiennent les données écrites sous forme de lignes de texte (format le plus simple à manipuler)\n",
    " \n",
    " Dans la suite on ne considérera que les fichiers programmes Python (extension .py) et des fichiers de données textes (extension .dat).\n",
    " \n",
    " Pour éviter des problèmes de compatibilités entre systèmes informatiques, on choisira des noms de fichiers sans caractères accentués, sans espace ni caractéres spéciaux (autre que **.** ou **_** ou **-** ) "
   ]
  },
  {
   "cell_type": "markdown",
   "metadata": {},
   "source": [
    "## Fichier de programme (ou script) sous Python\n",
    "\n",
    "un fichier contenant un programme Python a par convention une extension **.py**. Un simple éditeur de texte (notepad sous Windows) suffit pour créer et modifier un programme Python\n",
    "\n",
    "- **gedit** [\"voir le site gedit\"](http://wiki.gnome.org/Apps/Gedit) un éditeur simple et efficace\n",
    "- **vim** et variante [\"soir le site vim\"](http://wiki.python.org/moin/Vim) un éditeur de référence pour les programmeurs\n",
    "- **spyder** [\"voir le site spyder\"](http://pythonhosted.org/spyder/) un environnement de développement Python à la matlab pour les applications scientifiques. *Sous Spyder, on utilisera plutôt la console Ipython pour exécuter les programmes, que la console par défaut qui utilise des conventions matlab différentes d'un interpréteur Python classique*."
   ]
  },
  {
   "cell_type": "markdown",
   "metadata": {},
   "source": [
    "### Exemple: trace de courbes de Lissajous\n",
    "\n",
    "Une courbe de Lissajous (d'après le physicien français [\"Jules Antoine Lissajous\"](http://fr.wikipedia.org/wiki/Jules_Lissajous])) est une courbe paramétrique du plan dont les composantes sont des fonctions périodiques du paramètre (en générale le temps en physique, et que l'on peut observer avec un oscilloscope).\n",
    "\n",
    "Le programme Python suivant **lissajous.py** trace les courbes de Lissajous suivantes\n",
    "\n",
    "\\begin{eqnarray} \n",
    "x(t) &=&  \\sin{(\\frac{2\\pi}{p} t)}\\\\\n",
    "y(t) &=&  \\sin{(\\frac{2\\pi}{q} t + \\phi)}\n",
    "\\end{eqnarray}\n",
    "\n",
    "Le rapport $n=\\frac{p}{q}$ est le paramètre de la courbe et $\\phi$ le déphassage. Le temps $T$ de parcours de la courbe est le plus petit commun multiple de $p$ et $q$:\n",
    "$$T=pcm(p,q)=\\frac{pq}{pgcd(p,q)}$$"
   ]
  },
  {
   "cell_type": "markdown",
   "metadata": {},
   "source": [
    "#### fichier lissajous.py"
   ]
  },
  {
   "cell_type": "code",
   "execution_count": null,
   "metadata": {},
   "outputs": [],
   "source": [
    "# excution de commandes\n",
    "!ls -al lissajous.py\n",
    "!cat lissajous.py"
   ]
  },
  {
   "cell_type": "markdown",
   "metadata": {},
   "source": [
    "#### exécution du programme"
   ]
  },
  {
   "cell_type": "code",
   "execution_count": null,
   "metadata": {},
   "outputs": [],
   "source": [
    "# execution cde\n",
    "!echo \"execution avec interpreteur python\"\n",
    "!python3 lissajous.py\n",
    "!ls -al lissajous.png"
   ]
  },
  {
   "cell_type": "code",
   "execution_count": null,
   "metadata": {},
   "outputs": [],
   "source": [
    "# execution dans une cellule\n",
    "%run lissajous.py"
   ]
  },
  {
   "cell_type": "markdown",
   "metadata": {},
   "source": [
    "#### utilisation en tant que module (ou librairie)\n",
    "\n",
    "**module**  fichier contenant des fonctions et des définitions en python (bibliothèque)\n",
    "\n",
    "**nom du module** nom du fichier sans l'extension .py\n",
    "\n",
    "**utilisation** du module mon_module.py\n",
    "\n",
    "    import mon_module\n",
    "    import mon_module as mn\n",
    "    from mom_module import ma_fonction\n",
    "    from mon_module import *"
   ]
  },
  {
   "cell_type": "code",
   "execution_count": null,
   "metadata": {},
   "outputs": [],
   "source": [
    "from lissajous import pgcd,LissajousFigure\n",
    "print(pgcd(21,9))\n",
    "LissajousFigure(5,3,np.pi/2)"
   ]
  },
  {
   "cell_type": "markdown",
   "metadata": {},
   "source": [
    "**rem** si votre bibliothèque n'est pas dans le répertoire courant, il faudra \n",
    "alors spécifier son chemin d’accès (path) (voir documentation Python)"
   ]
  },
  {
   "cell_type": "markdown",
   "metadata": {},
   "source": [
    "## Fichier de données sous Python\n",
    "\n",
    "Comme dans la pluspart des langages informatiques, lire ou écrire dans un fichier, on va associer à un fichier (à son nom) une variable informatique de type **file**, qui posséde des fonctions (ou méthodes) permettant de lire ou écrire des données dans le fichier.\n",
    "\n",
    "###  fonction de lecture/écriture\n",
    "\n",
    "- ouverture d'un fichier *mon_fichier.dat* en lecture:\n",
    "        f=open(\"nom_fichier.dat\",'r')\n",
    "- ou en écriture:\n",
    "        f=open(\"nom_fichier.dat\",'w')\n",
    "- lecture / ecriture (caractères)\n",
    "        f.read(n) ou f.readline() \n",
    "        f.write(chaine)\n",
    "- lecture / écriture de tableaux (numpy)\n",
    "        A=loadtxt(file (ou nom de fichier))\n",
    "        savetxt(file (ou nom de fichier), A)   \n",
    "- fermeture du fichier\n",
    "        f.close()"
   ]
  },
  {
   "cell_type": "markdown",
   "metadata": {},
   "source": [
    "### Exemple: écriture de données\n",
    "\n",
    "écriture sur fichiers de $n$  points d'une courbe de Lissajous avec le format suivant \n",
    "\n",
    "    # ligne de commentaire\n",
    "    # n\n",
    "    t0 x0 y0\n",
    "    .......\n",
    "    ti xi yi\n",
    "    .......\n",
    "    tn-1 xn-1 yn-1\n",
    "                \n",
    "#### Programme Python"
   ]
  },
  {
   "cell_type": "code",
   "execution_count": null,
   "metadata": {},
   "outputs": [],
   "source": [
    "import numpy as np\n",
    "import matplotlib.pyplot as plt\n",
    "from lissajous import Lissajous\n",
    "# calcul des points\n",
    "p=1; q=2; \n",
    "N=50\n",
    "t,x,y=Lissajous(p,q,np.pi/2,N)\n",
    "# mise sur fichier\n",
    "F=open(\"lissajous.dat\",\"wb\")\n",
    "F.write(str.encode(\"# courbe de lissajous avec p=%d q=%d\\n\"%(p,q)))\n",
    "F.write(str.encode(\"# %d\\n\"%(N)))\n",
    "np.savetxt(F,np.transpose([t,x,y]))\n",
    "F.close()"
   ]
  },
  {
   "cell_type": "code",
   "execution_count": null,
   "metadata": {},
   "outputs": [],
   "source": [
    "%%bash --err /dev/null\n",
    "ls -al lissajous.dat\n",
    "cat lissajous.dat"
   ]
  },
  {
   "cell_type": "markdown",
   "metadata": {},
   "source": [
    "### Exemple: lecture de données\n",
    "\n",
    "lecture des données précédentes et tracer de la courbe"
   ]
  },
  {
   "cell_type": "code",
   "execution_count": null,
   "metadata": {},
   "outputs": [],
   "source": [
    "import numpy as np\n",
    "import matplotlib.pyplot as plt\n",
    "\n",
    "A=np.loadtxt(\"lissajous.dat\")\n",
    "print(\"lecture des données taille=\",A.shape)\n",
    "x=A[:,1]\n",
    "y=A[:,2]\n",
    "# tracer\n",
    "plt.plot(x,y,lw=2)\n",
    "plt.show()"
   ]
  },
  {
   "cell_type": "markdown",
   "metadata": {},
   "source": [
    "### Lecture d'un fichier ligne par ligne"
   ]
  },
  {
   "cell_type": "code",
   "execution_count": null,
   "metadata": {},
   "outputs": [],
   "source": [
    "F=open(\"lissajous.dat\",\"r\")\n",
    "nlines=0\n",
    "nval=0\n",
    "for line in F:\n",
    "    if line[0] != \"#\" :\n",
    "        nval = nval + 1\n",
    "    nlines = nlines + 1\n",
    "F.close()\n",
    "print(\"nbre de lignes lues =\",nlines,\" nbre de valeurs =\",nval)"
   ]
  },
  {
   "cell_type": "markdown",
   "metadata": {},
   "source": [
    "### Ecriture format CSV\n",
    "\n",
    "le format CSV (Comma-Separated Values) permet de partagé les données avec un tableur (localc, excel). Il suffit de délimiter les données avec une '**,**'. \n",
    "\n",
    "**Attention:** *pour un tableur francisé, il faut lire le fichier avec l'option langue=US pour une conversion correcte des nombres réels. Python (comme beaucoup de langage informatique) utilise le point (cad la convention anglo-saxonne) et non la virgule pour représenter un nombre réel*."
   ]
  },
  {
   "cell_type": "code",
   "execution_count": null,
   "metadata": {},
   "outputs": [],
   "source": [
    "np.savetxt(\"lissajous.csv\",np.transpose([t,x,y]),delimiter=\",\")"
   ]
  },
  {
   "cell_type": "code",
   "execution_count": null,
   "metadata": {},
   "outputs": [],
   "source": [
    "%%bash --err /dev/null\n",
    "ls -al lissajous.csv\n",
    "cat lissajous.csv"
   ]
  },
  {
   "cell_type": "markdown",
   "metadata": {},
   "source": [
    "## Entrée Sortie en python\n",
    "\n",
    "### Lecture au clavier\n",
    "lecture au clavier **input** d'une valeur sans conversion\n",
    "\n",
    "    val = input(\"message\")\n",
    "\n",
    "ensuite on doit faire une conversion \n",
    "\n",
    "    val = int(input(\"entier =\"))\n",
    "    print(val,type(val))\n",
    "    chaine = input(\"chaine =\")\n",
    "    print(chaine,type(chaine))\n",
    "    \n",
    "    entier =1\n",
    "    1 <class 'int'>\n",
    "    chaine =1\n",
    "    1 <class 'str'>    "
   ]
  },
  {
   "cell_type": "markdown",
   "metadata": {},
   "source": [
    "### Écriture avec formatage (mise en forme)\n",
    "\n",
    "    print(format%(val1,val2,..)\n",
    "**format** est une chaîne de caractères contenant des champs **%[n][t]** \n",
    "\n",
    "- n = entier optionnel spécifiant la largueur (en colonnes) du champ\n",
    "- t  spécifie le type du champ: **d**=entier (décimal), **f**=réel (float) , **e**=réel avec exposant, **g**=réel (format général),  **s**=chaîne (string)"
   ]
  },
  {
   "cell_type": "code",
   "execution_count": null,
   "metadata": {},
   "outputs": [],
   "source": [
    "i=1425\n",
    "print(\"i=%d i=%8d\"%(i,i))\n",
    "x=3242.627\n",
    "print(\"x=%15f x=%12.4e x=%g\"%(x,x,x))\n",
    "ch=\"chaine\"\n",
    "print(\"ch1=%s ch2=%8s\"%(ch,ch))"
   ]
  },
  {
   "cell_type": "markdown",
   "metadata": {},
   "source": [
    "### format avec python 3\n",
    "\n",
    "    string.format(var1,var2,..)\n",
    " \n",
    " où string est une chaine avec des {} pour spécifier la position des variables "
   ]
  },
  {
   "cell_type": "code",
   "execution_count": null,
   "metadata": {},
   "outputs": [],
   "source": [
    "print(\"i={}  x={}\".format(i,x))"
   ]
  },
  {
   "cell_type": "markdown",
   "metadata": {},
   "source": [
    "## Référence\n",
    "\n",
    "### Programme Python Lissajous"
   ]
  },
  {
   "cell_type": "code",
   "execution_count": null,
   "metadata": {},
   "outputs": [],
   "source": [
    "import numpy as np\n",
    "\n",
    "def pgcd(a, b):\n",
    "    \"\"\"calcul du pgcd de a et b par l'algorithme d'Euclide.\"\"\"\n",
    "    while b:\n",
    "        a, b = b, a % b\n",
    "    return a\n",
    "\n",
    "def Lissajous(p,q,phi,N):\n",
    "    \"\"\" calcul de N points d'une courbe de Lissajous\"\"\"\n",
    "    omega1 = 2*np.pi/p\n",
    "    omega2 = 2*np.pi/q\n",
    "    # temps d'étude\n",
    "    T = p*q/pgcd(p,q)\n",
    "    t = np.linspace(0., T, N)\n",
    "    # equations parametriques\n",
    "    x = np.sin(omega1*t)\n",
    "    y = np.sin(omega2*t+phi)\n",
    "    return t,x,y"
   ]
  },
  {
   "cell_type": "markdown",
   "metadata": {},
   "source": [
    "## FIN de la leçon\n",
    "\n",
    "<img src=\"Figures/python_file.png\" width=\"300px\" />"
   ]
  }
 ],
 "metadata": {
  "kernelspec": {
   "display_name": "Python 3",
   "language": "python",
   "name": "python3"
  },
  "language_info": {
   "codemirror_mode": {
    "name": "ipython",
    "version": 3
   },
   "file_extension": ".py",
   "mimetype": "text/x-python",
   "name": "python",
   "nbconvert_exporter": "python",
   "pygments_lexer": "ipython3",
   "version": "3.8.10"
  },
  "toc": {
   "base_numbering": 1,
   "nav_menu": {},
   "number_sections": true,
   "sideBar": true,
   "skip_h1_title": true,
   "title_cell": "Contenu du chapitre",
   "title_sidebar": "Contenu",
   "toc_cell": false,
   "toc_position": {},
   "toc_section_display": true,
   "toc_window_display": false
  }
 },
 "nbformat": 4,
 "nbformat_minor": 1
}
