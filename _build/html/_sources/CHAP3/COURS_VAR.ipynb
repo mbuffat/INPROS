{
 "cells": [
  {
   "cell_type": "markdown",
   "metadata": {},
   "source": [
    "<img src=\"Figures/logo_trans.png\" width=\"180px\" alt=\"LyonHPC\" />\n",
    "\n",
    "# Variable et éléments de base\n",
    "\n",
    "<img src=\"Figures/cloud_variable.png\" alt=\"sommaire\" width=\"300px\"/>"
   ]
  },
  {
   "cell_type": "markdown",
   "metadata": {
    "toc": true
   },
   "source": [
    "<h1>Contenu du cours<span class=\"tocSkip\"></span></h1>\n",
    "<div class=\"toc\"><ul class=\"toc-item\"><li><span><a href=\"#Premier-programme-Python\" data-toc-modified-id=\"Premier-programme-Python-1\"><span class=\"toc-item-num\">1&nbsp;&nbsp;</span>Premier programme Python</a></span></li><li><span><a href=\"#Types-de-base\" data-toc-modified-id=\"Types-de-base-2\"><span class=\"toc-item-num\">2&nbsp;&nbsp;</span>Types de base</a></span><ul class=\"toc-item\"><li><span><a href=\"#Syntaxe\" data-toc-modified-id=\"Syntaxe-2.1\"><span class=\"toc-item-num\">2.1&nbsp;&nbsp;</span>Syntaxe</a></span></li><li><span><a href=\"#Erreur-de-syntaxe\" data-toc-modified-id=\"Erreur-de-syntaxe-2.2\"><span class=\"toc-item-num\">2.2&nbsp;&nbsp;</span>Erreur de syntaxe</a></span></li><li><span><a href=\"#Exercice-1\" data-toc-modified-id=\"Exercice-1-2.3\"><span class=\"toc-item-num\">2.3&nbsp;&nbsp;</span><a href=\"#ici012\">Exercice 1</a><a id=\"ici012\"></a></a></span></li><li><span><a href=\"#Correction\" data-toc-modified-id=\"Correction-2.4\"><span class=\"toc-item-num\">2.4&nbsp;&nbsp;</span>Correction</a></span></li></ul></li><li><span><a href=\"#Notion-de-variable\" data-toc-modified-id=\"Notion-de-variable-3\"><span class=\"toc-item-num\">3&nbsp;&nbsp;</span>Notion de variable</a></span><ul class=\"toc-item\"><li><span><a href=\"#visualisation-de-l'exécution\" data-toc-modified-id=\"visualisation-de-l'exécution-3.1\"><span class=\"toc-item-num\">3.1&nbsp;&nbsp;</span>visualisation de l'exécution</a></span></li><li><span><a href=\"#règles-d'utilisation-des-variables\" data-toc-modified-id=\"règles-d'utilisation-des-variables-3.2\"><span class=\"toc-item-num\">3.2&nbsp;&nbsp;</span>règles d'utilisation des variables</a></span></li><li><span><a href=\"#Exercice-2\" data-toc-modified-id=\"Exercice-2-3.3\"><span class=\"toc-item-num\">3.3&nbsp;&nbsp;</span>Exercice 2</a></span></li><li><span><a href=\"#Correction-exercice\" data-toc-modified-id=\"Correction-exercice-3.4\"><span class=\"toc-item-num\">3.4&nbsp;&nbsp;</span>Correction exercice</a></span></li></ul></li><li><span><a href=\"#Fonctions-mathématiques\" data-toc-modified-id=\"Fonctions-mathématiques-4\"><span class=\"toc-item-num\">4&nbsp;&nbsp;</span>Fonctions mathématiques</a></span><ul class=\"toc-item\"><li><span><a href=\"#Exercise-3\" data-toc-modified-id=\"Exercise-3-4.1\"><span class=\"toc-item-num\">4.1&nbsp;&nbsp;</span>Exercise 3</a></span></li><li><span><a href=\"#Solution\" data-toc-modified-id=\"Solution-4.2\"><span class=\"toc-item-num\">4.2&nbsp;&nbsp;</span>Solution</a></span></li></ul></li><li><span><a href=\"#Les-listes\" data-toc-modified-id=\"Les-listes-5\"><span class=\"toc-item-num\">5&nbsp;&nbsp;</span>Les listes</a></span><ul class=\"toc-item\"><li><span><a href=\"#Exemples\" data-toc-modified-id=\"Exemples-5.1\"><span class=\"toc-item-num\">5.1&nbsp;&nbsp;</span>Exemples</a></span></li></ul></li><li><span><a href=\"#Les-dictionnaires\" data-toc-modified-id=\"Les-dictionnaires-6\"><span class=\"toc-item-num\">6&nbsp;&nbsp;</span>Les dictionnaires</a></span><ul class=\"toc-item\"><li><span><a href=\"#Exemple\" data-toc-modified-id=\"Exemple-6.1\"><span class=\"toc-item-num\">6.1&nbsp;&nbsp;</span>Exemple</a></span></li></ul></li><li><span><a href=\"#Fin-de-la-leçon\" data-toc-modified-id=\"Fin-de-la-leçon-7\"><span class=\"toc-item-num\">7&nbsp;&nbsp;</span>Fin de la leçon</a></span></li></ul></div>"
   ]
  },
  {
   "cell_type": "code",
   "execution_count": null,
   "metadata": {},
   "outputs": [],
   "source": [
    "%matplotlib inline\n",
    "from IPython.display import HTML,display,IFrame\n",
    "from IPython.display import YouTubeVideo,Markdown"
   ]
  },
  {
   "cell_type": "code",
   "execution_count": null,
   "metadata": {},
   "outputs": [],
   "source": [
    "display(Markdown(\"**Video du cours: Introduction**\"))\n",
    "YouTubeVideo('UrNZF0fAvIU')"
   ]
  },
  {
   "cell_type": "markdown",
   "metadata": {},
   "source": [
    "## Premier programme Python\n",
    "\n",
    "Utilisation de **print** pour afficher la valeur d'une expression"
   ]
  },
  {
   "cell_type": "code",
   "execution_count": null,
   "metadata": {},
   "outputs": [],
   "source": [
    "print(\"Surface du disque =\", 3.14159*2.2*2.2)"
   ]
  },
  {
   "cell_type": "markdown",
   "metadata": {},
   "source": [
    "Vous pouvez tester en ligne les exemples Python en utilisant un serveur jupyter\n",
    "\n",
    "- <a href=\"http://jupyter.mecanique.Univ-lyon1.fr\">serveur Jupyter dpt mécanique Lyon 1</a>\n",
    "\n",
    "Vous pouvez aussi utiliser l'interpréteur Python sur votre ordinateur.\n",
    "\n",
    "**bonnes pratiques:** privilégier la lissibilité et utiliser des commentaires\n",
    "\n",
    "        # ceci est un commentaire sous python"
   ]
  },
  {
   "cell_type": "markdown",
   "metadata": {},
   "source": [
    "## Types de base\n",
    "Les 3 principaux types de base sous Python sont:\n",
    "\n",
    "1. les nombres entiers\n",
    "\n",
    "2. les nombres réels avec un **.** pour dénoter la virgule\n",
    "\n",
    "3. les chaines de caractères, délimités par **\"** ou **'**"
   ]
  },
  {
   "cell_type": "code",
   "execution_count": null,
   "metadata": {},
   "outputs": [],
   "source": [
    "display(Markdown(\"**Video du cours: type de base en Python**\"))\n",
    "YouTubeVideo('uCPXYS8dc9M')"
   ]
  },
  {
   "cell_type": "code",
   "execution_count": null,
   "metadata": {},
   "outputs": [],
   "source": [
    "print(\"ceci est un entier =\", 2)\n",
    "print(\"mais ceci est un nombre réel =\", 2.)\n",
    "print(\"et ceci une chaine de caractères =\", \"deux\", 'deux')"
   ]
  },
  {
   "cell_type": "markdown",
   "metadata": {},
   "source": [
    "Notation avec exposant **2.0e11** $=2\\ 10^{11}$ \n",
    "\n",
    "Les opérations **+,-,x,/** sont exactes pour les nombres entiers, mais approchées avec les nombres réels (car non représentables exactement en base 2 !)"
   ]
  },
  {
   "cell_type": "code",
   "execution_count": null,
   "metadata": {},
   "outputs": [],
   "source": [
    "print(\"res=\",1. + 2.)\n",
    "print(\"res=\",0.1 + 0.2)"
   ]
  },
  {
   "cell_type": "markdown",
   "metadata": {},
   "source": [
    "Attention l'affichage avec **print** peut être trompeur!! (**repr**)"
   ]
  },
  {
   "cell_type": "code",
   "execution_count": null,
   "metadata": {},
   "outputs": [],
   "source": [
    "print(repr(1.+2.))\n",
    "print(repr(.1+.2))"
   ]
  },
  {
   "cell_type": "markdown",
   "metadata": {},
   "source": [
    "### Syntaxe\n",
    "\n",
    "* un programme informatique obéit à une syntaxe rigide\n",
    "\n",
    "* chaque langage informatique à sa propre syntaxe\n",
    "\n",
    "* mais en général les règles de syntaxe sont simples\n",
    "\n",
    "* la programmation n'est pas l'apprentissage de la syntaxe\n",
    "\n",
    "###  Erreur de syntaxe\n",
    "\n",
    "* en écrivant un programme, on fait souvent des erreurs de syntaxe\n",
    "\n",
    "* en générale elles sont faciles à corriger\n",
    "\n",
    "\n",
    "**exemple**\n",
    "\n",
    "    print(\"valeur =\"  1)\n",
    "        \n",
    "    File \"<ipython-input-8-4fc9e1c50a01>\", line 1\n",
    "    print(\"valeur =\"  1)\n",
    "                      ^\n",
    "    SyntaxError: invalid syntax  "
   ]
  },
  {
   "cell_type": "markdown",
   "metadata": {},
   "source": [
    "**Attention** en Python, les instructions doivent respectées une mise en page\n",
    "\n",
    "**exemple**\n",
    "\n",
    "    print(\"valeur =\",1)\n",
    "     print(\"valeur =\",2)\n",
    "     \n",
    "    File \"<ipython-input-18-6fdc615a9693>\", line 2\n",
    "     print(\"valeur =\",2)\n",
    "     ^\n",
    "    IndentationError: unexpected indent"
   ]
  },
  {
   "cell_type": "markdown",
   "metadata": {},
   "source": [
    "### <a href=\"#ici012\">Exercice 1</a><a id=\"ici012\"></a>\n",
    "Ecrire un programme Python affichant<br>\n",
    "1 <br>\n",
    "1 2 <br>\n",
    "1 2 3 <br>"
   ]
  },
  {
   "cell_type": "code",
   "execution_count": null,
   "metadata": {},
   "outputs": [],
   "source": []
  },
  {
   "cell_type": "markdown",
   "metadata": {},
   "source": [
    "### Correction"
   ]
  },
  {
   "cell_type": "code",
   "execution_count": null,
   "metadata": {},
   "outputs": [],
   "source": [
    "# solution\n",
    "print(1)\n",
    "print(1,2)\n",
    "print(1,2,3)"
   ]
  },
  {
   "cell_type": "markdown",
   "metadata": {},
   "source": [
    "Modifier le programme pour afficher\n",
    "\n",
    "&nbsp;&nbsp;&nbsp;&nbsp;&nbsp;&nbsp;&nbsp;1 <br>\n",
    "&nbsp;&nbsp;&nbsp;2&nbsp;&nbsp;1 <br>\n",
    "3&nbsp;2&nbsp;&nbsp;1 <br>"
   ]
  },
  {
   "cell_type": "markdown",
   "metadata": {},
   "source": [
    "## Notion de variable\n",
    "<img src=\"Figures/a2box.png\" alt=\"variable\" width=\"200px\"/>\n",
    "\n",
    "* une variable est comme une boîte qui sert à stocker une valeur\n",
    "\n",
    "        a = 2\n",
    "\n",
    "* la ligne précédente stocke la valeur 2 dans la variable a\n",
    "\n",
    "* c'est une instruction d'affectation (et non d'égalité)"
   ]
  },
  {
   "cell_type": "code",
   "execution_count": null,
   "metadata": {},
   "outputs": [],
   "source": [
    "display(Markdown(\"**Video du cours: les variables en Python**\"))\n",
    "YouTubeVideo('mNsU270boC0')"
   ]
  },
  {
   "cell_type": "code",
   "execution_count": null,
   "metadata": {},
   "outputs": [],
   "source": [
    "x = 1\n",
    "print(\"x = \",x)\n",
    "x = x + 1\n",
    "print(\"maintenant x = \",x)"
   ]
  },
  {
   "cell_type": "markdown",
   "metadata": {},
   "source": [
    "### visualisation de l'exécution\n",
    "\n",
    "utilisation du site : http://pythontutor.com"
   ]
  },
  {
   "cell_type": "code",
   "execution_count": null,
   "metadata": {},
   "outputs": [],
   "source": [
    "display(IFrame(\"http://pythontutor.com/iframe-embed.html#code=x%3D1%0Ax%3Dx%2B1%0Ay%3D1.0%0As%3D%22un%22&cumulative=false&heapPrimitives=false&drawParentPointers=false&textReferences=false&showOnlyOutputs=false&py=2&curInstr=0&codeDivWidth=350&codeDivHeight=400\",width=\"800\",height=\"300\"))"
   ]
  },
  {
   "cell_type": "markdown",
   "metadata": {},
   "source": [
    "### règles d'utilisation des variables\n",
    "\n",
    "* le nom des variables est quelconque ( à condition de commencer par une lettre et de ne pas contenir d'espace),"
   ]
  },
  {
   "cell_type": "code",
   "execution_count": null,
   "metadata": {},
   "outputs": [],
   "source": [
    "ma_variable = 10.0\n",
    "print(2*ma_variable)"
   ]
  },
  {
   "cell_type": "markdown",
   "metadata": {},
   "source": [
    "**Attention**: erreur dans le nom d'une variable\n",
    "\n",
    "**exemple**\n",
    "\n",
    "    ma variable = 15\n",
    "    1x = 5\n",
    "    \n",
    "    File \"<ipython-input-14-c3e989711734>\", line 1\n",
    "    ma variable = 15\n",
    "       ^\n",
    "    SyntaxError: invalid syntax"
   ]
  },
  {
   "cell_type": "markdown",
   "metadata": {},
   "source": [
    "* une variable doit être initialisée avant d'être utilisée,\n",
    "\n",
    "**exemple**\n",
    "\n",
    "    z = 10\n",
    "    z = Z + 1\n",
    "    print(z)\n",
    "      \n",
    "    NameError                                 Traceback (most recent call last)\n",
    "    <ipython-input-24-7844d14ee663> in <module>\n",
    "          1 z = 10\n",
    "    ----> 2 z = Z + 1\n",
    "          3 print(z)\n",
    "\n",
    "    NameError: name 'Z' is not defined  "
   ]
  },
  {
   "cell_type": "markdown",
   "metadata": {},
   "source": [
    "* une variable est associée à une adresse mémoire où se trouve effectivement stocké sa valeur, ainsi qu'à un type de données"
   ]
  },
  {
   "cell_type": "code",
   "execution_count": null,
   "metadata": {},
   "outputs": [],
   "source": [
    "x = 5.8\n",
    "print(\"x=\",x,\" adresse \",id(x),\" type \",type(x))\n",
    "y = 1\n",
    "print(\"y=\",y,\" adresse \",id(y),\" type \",type(y))\n",
    "s = \"mon 'texte'\"\n",
    "print(\"s=\",s,\" adresse \",id(s),\" type \",type(s))"
   ]
  },
  {
   "cell_type": "markdown",
   "metadata": {},
   "source": [
    "* **Attention** type de la variable = type expression"
   ]
  },
  {
   "cell_type": "code",
   "execution_count": null,
   "metadata": {},
   "outputs": [],
   "source": [
    "x = 2//3\n",
    "print(x , type(x))\n",
    "x = 2./3.\n",
    "print(x , type(x))"
   ]
  },
  {
   "cell_type": "markdown",
   "metadata": {},
   "source": [
    "* **Attention** le symbole = représente l'affectation, et non l'égalité mathématique.\n",
    "\n",
    "$x=x^2 + 0.25 \\ \\Longleftrightarrow\\  (x-0.5)^2=0 \\ \\Longleftrightarrow\\  x=0.5$"
   ]
  },
  {
   "cell_type": "code",
   "execution_count": null,
   "metadata": {},
   "outputs": [],
   "source": [
    "x = 2.\n",
    "x = x*x + 0.25\n",
    "print(\"x=\",x)"
   ]
  },
  {
   "cell_type": "markdown",
   "metadata": {},
   "source": [
    "### Exercice 2\n",
    "\n",
    "Ecrire un programme Python qui affiche la table de multiplication d'un nombre n\n",
    "\n",
    "    Table de multiplication de n=7\n",
    "    7 14 21 28 35 42 49 56 63 70"
   ]
  },
  {
   "cell_type": "code",
   "execution_count": null,
   "metadata": {},
   "outputs": [],
   "source": []
  },
  {
   "cell_type": "markdown",
   "metadata": {},
   "source": [
    "### Correction exercice"
   ]
  },
  {
   "cell_type": "code",
   "execution_count": null,
   "metadata": {},
   "outputs": [],
   "source": [
    "n = 12\n",
    "print(\"Table de multiplication de \",n)\n",
    "print(n, 2*n, 3*n, 4*n, 5*n, 6*n, 7*n, 8*n, 9*n, 10*n)"
   ]
  },
  {
   "cell_type": "markdown",
   "metadata": {},
   "source": [
    "## Fonctions mathématiques\n",
    "\n",
    "Bibliothèques de fonctions mathématiques: \n",
    "\n",
    "- fonctions **puissances**: sqrt(x)=$\\sqrt{x}$, power(x,y)=$x^y$\n",
    "- fonctions **trigonométriques** (x angle en radian): sin(x), cos(x), tan(x), asin(y), acos(y), atan(y)\n",
    "- **logarithme** log(x), log10(x), exp(x) \n",
    "- fonctions **hyperboliques**: sinh(x), cosh(x), tanh(x), asinh(x), acosh(x), atanh(x)\n",
    "- constantes mathématiques: **pi** $=\\pi$ et **e** $=exp(1)$\n",
    "- opérateurs mathématiques: + , - , \\* , / , //,  \\*\\* , %\n",
    " - ** x\\*\\*n $ = x^n$ ** élévation à une puissance entière\n",
    " - ** p%q = r ** modulo ou reste de la division entière $p = n q + r$\n",
    " - ** // ** division entière\n",
    "- avec des opérateurs d'affectation: += , -= , *= , /=\n",
    "\n",
    "2 bibliothéques mathématiques disponible sous python:\n",
    "\n",
    "- **math** (module de base sous python )\n",
    "- **numpy** (module optionnel, mais indispensable en calcul scientifique)\n",
    "\n",
    "utilisation avec **import**\n",
    "\n",
    "    import numpy as np \n"
   ]
  },
  {
   "cell_type": "code",
   "execution_count": null,
   "metadata": {},
   "outputs": [],
   "source": [
    "display(Markdown(\"**Video du cours: fonctions mathématiques et liste**\"))\n",
    "YouTubeVideo('uxZtQA606oI')"
   ]
  },
  {
   "cell_type": "code",
   "execution_count": null,
   "metadata": {},
   "outputs": [],
   "source": [
    "import numpy as np\n",
    "x = 1.0\n",
    "print(np.cos(x*np.pi), np.exp(x), np.log(x), np.tanh(x))"
   ]
  },
  {
   "cell_type": "markdown",
   "metadata": {},
   "source": [
    "### Exercise 3\n",
    "\n",
    "Ecrire un programme python pour calculer la valeur de la formule mathématique suivante:\n",
    "\n",
    "$$ y = \\sqrt{\\log(1+x^2)+\\frac{x^{\\sin(2\\pi*x)}}{\\tanh(2.)}}$$"
   ]
  },
  {
   "cell_type": "code",
   "execution_count": null,
   "metadata": {},
   "outputs": [],
   "source": [
    "# votre programme\n"
   ]
  },
  {
   "cell_type": "markdown",
   "metadata": {},
   "source": [
    "### Solution\n",
    "\n",
    "**attention aux parenthéses !!!**"
   ]
  },
  {
   "cell_type": "code",
   "execution_count": null,
   "metadata": {},
   "outputs": [],
   "source": [
    "x = 2.0\n",
    "y1 = np.sqrt(np.log(1+x**2)+np.power(x,np.sin(2*np.pi*x))/np.tanh(2.))\n",
    "y2 = np.sqrt(np.log(1+x**2)+np.power(x,np.sin(2*np.pi*x)))/np.tanh(2.)\n",
    "print(x,y1,y2)"
   ]
  },
  {
   "cell_type": "markdown",
   "metadata": {},
   "source": [
    "## Les listes\n",
    "\n",
    "**Liste: **  ensemble ordonné d'éléments accessible à partir d'un indice\n",
    "\n",
    "*structure de données plus générale qu'un tableau*\n",
    "\n",
    "- les éléments peuvent etre de tous du même type ou de type différent\n",
    "- la taille d'une liste peut varier (structure dynamique)\n",
    "        len(L)\n",
    "- on peut enlever, insérer ou ajouter des éléments dans la liste\n",
    "- structure de base sous Python \n",
    "        L = [elt1 , elt2, ...,eltn ]\n",
    "- ième élément de la liste (**indice à partir de 0** )\n",
    "        L[i-1]\n",
    "- liste non modifiable (tuple ou n-uplet)\n",
    "        L = (elt1 , elt2, ...,eltn )    \n",
    "- liste de n entiers à partir de 0 \n",
    "        L = range(n )\n",
    "- on peut utiliser des listes pour représenter des vecteurs ou des matrices\n",
    "- **ATTENTION** c'est en général inéfficace\n",
    "\n",
    "### Exemples"
   ]
  },
  {
   "cell_type": "code",
   "execution_count": null,
   "metadata": {},
   "outputs": [],
   "source": [
    "L=[1.,2,3,4.]\n",
    "print(type(L))\n",
    "print(type(L[0]),type(L[1]))\n",
    "L.append(\"cinq\")\n",
    "print(L)\n",
    "L.insert(1,8.)\n",
    "print(L)\n",
    "del L[5]\n",
    "print(L)"
   ]
  },
  {
   "cell_type": "markdown",
   "metadata": {},
   "source": [
    "## Les dictionnaires\n",
    "\n",
    "**dictionnaire:** ensemble de données accessible à partir d'une **clé** (nom) (au lieu d'un indice)\n",
    "\n",
    "    dict = { 'cle1':val1 , 'cle2':val2, ....}\n",
    "    dict['cle1']\n",
    "### Exemple"
   ]
  },
  {
   "cell_type": "code",
   "execution_count": null,
   "metadata": {},
   "outputs": [],
   "source": [
    "french = { 'is':'est', 'my':'mon', 'nobody':'personne', \n",
    "           'name':'nom',' your':'ton'}\n",
    "print(\"clés du dictionnaire \",french.keys())\n",
    "L = ['my','name','is','nobody']\n",
    "print(\"phrase à traduire: \",L)\n",
    "print(\"traduction       : \",french[L[0]],french[L[1]],french[L[2]],french[L[3]])"
   ]
  },
  {
   "cell_type": "markdown",
   "metadata": {},
   "source": [
    "## Fin de la leçon\n",
    "\n",
    "<img src=\"Figures/cloud_variable.png\" width=\"300px\">"
   ]
  }
 ],
 "metadata": {
  "hide_input": false,
  "kernelspec": {
   "display_name": "Python 3",
   "language": "python",
   "name": "python3"
  },
  "language_info": {
   "codemirror_mode": {
    "name": "ipython",
    "version": 3
   },
   "file_extension": ".py",
   "mimetype": "text/x-python",
   "name": "python",
   "nbconvert_exporter": "python",
   "pygments_lexer": "ipython3",
   "version": "3.8.10"
  },
  "toc": {
   "base_numbering": 1,
   "nav_menu": {},
   "number_sections": true,
   "sideBar": true,
   "skip_h1_title": true,
   "title_cell": "Contenu du cours",
   "title_sidebar": "Contenu",
   "toc_cell": true,
   "toc_position": {},
   "toc_section_display": true,
   "toc_window_display": false
  }
 },
 "nbformat": 4,
 "nbformat_minor": 1
}
