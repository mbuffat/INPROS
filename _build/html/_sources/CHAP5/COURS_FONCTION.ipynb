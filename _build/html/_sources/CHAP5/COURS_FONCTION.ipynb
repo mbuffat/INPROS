{
 "cells": [
  {
   "cell_type": "markdown",
   "metadata": {},
   "source": [
    "<img src=\"Figures/logo_trans.png\" width=\"180px\" alt=\"LyonHPC\" />\n",
    "<img width=\"200px\" src=\"Figures/python-logo.gif\" alt=\"LyonHPC\"/>\n",
    "\n",
    "# Fonctions et procédures\n",
    "\n",
    "<img src=\"Figures/cloud_fonction.png\" alt=\"cloud\" width=\"300px\"/>"
   ]
  },
  {
   "cell_type": "code",
   "execution_count": null,
   "metadata": {},
   "outputs": [],
   "source": [
    "%matplotlib inline\n",
    "import numpy as np\n",
    "from IPython.display import HTML,display,IFrame,Video\n",
    "from IPython.display import YouTubeVideo,Markdown"
   ]
  },
  {
   "cell_type": "code",
   "execution_count": null,
   "metadata": {},
   "outputs": [],
   "source": [
    "display(Markdown(\"**Video du cours: Introduction**\"))\n",
    "YouTubeVideo('Q_yFr7sdyc0')"
   ]
  },
  {
   "cell_type": "markdown",
   "metadata": {},
   "source": [
    "```{tip} \n",
    "pour tester les programmes Python, vous pouvez vous connectez sur un serveur Jupyter, par exemple, pour \n",
    "les étudiants Lyon1 [https://jupyter.mecanique.univ-lyon1.fr](https://jupyter.mecanique.univ-lyon1.fr)\n",
    "```"
   ]
  },
  {
   "cell_type": "markdown",
   "metadata": {},
   "source": [
    "## Procédure et fonction"
   ]
  },
  {
   "cell_type": "markdown",
   "metadata": {},
   "source": [
    "\n",
    "### Procédure\n",
    "\n",
    "**procédure**: algorithme avec des paramètres d'entrée (données) et des paramètres de sortie (résultat)\n",
    "\n",
    "    Algorithme MaFonction(liste de paramètres)\n",
    "        variables locales\n",
    "        instructions\n",
    "        retour (liste de valeurs)\n",
    "\n",
    "    # utilisation\n",
    "    val = MaFonction(param1,param2,..)"
   ]
  },
  {
   "cell_type": "code",
   "execution_count": null,
   "metadata": {},
   "outputs": [],
   "source": [
    "display(Markdown(\"**Video du cours: procédure et fonction**\"))\n",
    "YouTubeVideo('CAsiebHnHAs')"
   ]
  },
  {
   "cell_type": "markdown",
   "metadata": {},
   "source": [
    "### Fonction en Python\n",
    "\n",
    "**implémentation d'une procédure** = **function** (C, Python) , subroutine (Fortran)\n",
    "\n",
    "    # définition\n",
    "    def MaFonction(liste arguments):\n",
    "        instructions\n",
    "        ....\n",
    "        return (liste de valeurs)\n",
    "    # utilisation\n",
    "    (val1, val2, ..) = MaFonction(arg1, arg2, ...) \n",
    "    \n",
    "### Passage des arguments\n",
    "\n",
    "\n",
    "on affecte aux arguments de la fonction la valeur des paramètres d'appel:\n",
    "\n",
    "    def MaFonction(a1, a2, a3):\n",
    "        ....\n",
    "        return (v1, v2)\n",
    "        \n",
    "    (V1, V2) = MaFonction(A1, A2, A3)\n",
    "    \n",
    "  - lors de l'appel, on a a1=A1 a2=A2 a3=A3\n",
    "\n",
    "- valeur de retour = liste\n",
    "\n",
    "  - lors du retour, V1=v1, V2=v2\n",
    "        \n",
    "**Exemple Python** \n",
    "\n",
    "**utilisation du site : http://pythontutor.com**\n",
    "\n",
    "*vous pouvez copier l'exemple de code python sur le site pour l'exécuter*\n",
    "\n",
    "        # definition\n",
    "        def MaFonc(a1,a2,a3):\n",
    "            v1 = a1 + a3\n",
    "            v2 = a2 + a3\n",
    "            return v1,v2\n",
    "        # utilisation\n",
    "        A1 = 1.0\n",
    "        V1,V2 = mafonc(A1,a.2,4*A1)\n",
    "        "
   ]
  },
  {
   "cell_type": "code",
   "execution_count": null,
   "metadata": {},
   "outputs": [],
   "source": [
    "display(Markdown(\"**Visualisation de l'execution sur le site pythontutor**\"))\n",
    "Video(\"VIDEO_COURS/pythonlive_fonc1.mp4\", embed=True,width=700, height=300)"
   ]
  },
  {
   "cell_type": "markdown",
   "metadata": {},
   "source": [
    "### Passage des arguments\n",
    "\n",
    "- pour les variables scalaires: valeur = valeur de la variable\n",
    "    - la variable n'est donc pas modifiée\n",
    "    \n",
    "- pour les listes et tableaux: valeur = adresse des données\n",
    "    - on peut donc modifier la valeur d'une liste ou tableau en argument\n",
    "    - mais à condition de ne pas faire de réaffectation\n",
    "\n",
    "**Exemple Initialisation de liste (tableau) : version 1**\n",
    "\n",
    "    # definition\n",
    "    def InitTab(X):\n",
    "        X[:] = [0,0,0]\n",
    "        n = len(X)\n",
    "        for i in range(n):\n",
    "            X[i] = i*i\n",
    "        return\n",
    "    # utilisation\n",
    "    Z = [1,1,1]\n",
    "    InitTab(Z)"
   ]
  },
  {
   "cell_type": "code",
   "execution_count": null,
   "metadata": {},
   "outputs": [],
   "source": [
    "display(Markdown(\"**Video du cours: arguments d'une fonction**\"))\n",
    "YouTubeVideo('I0uizg3B6LU')"
   ]
  },
  {
   "cell_type": "code",
   "execution_count": null,
   "metadata": {},
   "outputs": [],
   "source": [
    "display(Markdown(\"**Visualisation de l'execution sur le site pythontutor**\"))\n",
    "Video(\"VIDEO_COURS/pythonlive_fonc2.mp4\", embed=True,width=700, height=300)"
   ]
  },
  {
   "cell_type": "markdown",
   "metadata": {},
   "source": [
    "**Initialisation de liste (tableau): version 2**\n",
    "\n",
    "    # definition\n",
    "    def InitTab(X):\n",
    "        X = [0,0,0]\n",
    "        n = len(X)\n",
    "        for i in range(n):\n",
    "            X[i] = i*i\n",
    "        return\n",
    "    # utilisation\n",
    "    Z = [1,1,1]\n",
    "    InitTab(Z)"
   ]
  },
  {
   "cell_type": "code",
   "execution_count": null,
   "metadata": {},
   "outputs": [],
   "source": [
    "display(Markdown(\"**Visualisation de l'execution sur le site pythontutor**\"))\n",
    "Video(\"VIDEO_COURS/pythonlive_fonc3.mp4\", embed=True,width=700, height=300)"
   ]
  },
  {
   "cell_type": "markdown",
   "metadata": {},
   "source": [
    "```{admonition} Questions ?\n",
    "   - comparer la valeur de Z après l'appel de la fonction `InitTab` !\n",
    "   - à quoi correspond la variable X dans la fonction `InitTab` \n",
    "```"
   ]
  },
  {
   "cell_type": "markdown",
   "metadata": {},
   "source": [
    "## Exemples de procédures et de fonctions"
   ]
  },
  {
   "cell_type": "code",
   "execution_count": null,
   "metadata": {},
   "outputs": [],
   "source": [
    "display(Markdown(\"**Video du cours: exemple de procédure et fonction**\"))\n",
    "YouTubeVideo('1RWcWyOF2g8')"
   ]
  },
  {
   "cell_type": "markdown",
   "metadata": {},
   "source": [
    "```{attention} \n",
    "Les vidéos utilisent un ancien interpréteur python 2.7, pour lequel `print` est un mot clé, \n",
    "soit `print 'bonjour'`.\n",
    "Avec Python 3, `print` est une fonction et il faut donc utiliser des parenthèses, \n",
    "soit `print('bonjour')` \n",
    "```"
   ]
  },
  {
   "cell_type": "markdown",
   "metadata": {},
   "source": [
    "### Algorithme d'Euclide: calcul du PGCD de 2 entiers\n",
    "\n",
    "    # Calcul du PGCD\n",
    "    # paramètres d'entrée: 2 entiers positifs a et b\n",
    "    # en sortie: PGCD de a et b\n",
    "    #\n",
    "    Algorithme PGCD(a,b)\n",
    "        tant que a # b \n",
    "            si a>b alors a = a-b \n",
    "            sinon b = b - a \n",
    "        retour a\n",
    "    #\n",
    "\n",
    "#### Programme Python"
   ]
  },
  {
   "cell_type": "code",
   "execution_count": null,
   "metadata": {},
   "outputs": [],
   "source": [
    "def PGCD(a, b):\n",
    "    \"\"\" \n",
    "    Calcul du PGCD de a et b (entiers positifs) \n",
    "    \"\"\"\n",
    "    while a != b:\n",
    "        if a > b: \n",
    "            a = a - b\n",
    "        else:   \n",
    "            b = b - a\n",
    "    return a\n",
    "# utilisation\n",
    "a0, b0 = 15623532, 252568\n",
    "p = PGCD(a0, b0)\n",
    "print(\"PGCD de \", a0, b0, \"=\", p)"
   ]
  },
  {
   "cell_type": "markdown",
   "metadata": {},
   "source": [
    "### Algorithme: calcul de la somme d'une série\n",
    "\n",
    "$$ S_n = \\sum_{i=1}^n \\frac{1}{i^2} \\mbox{ et } \\lim_{n\\rightarrow\\infty} S_n = \\frac{\\pi^2}{6}$$  \n",
    "\n",
    "    # calcul de la somme Sn et de l'Écart par rapport à la limite\n",
    "    # entrée: n entier   sortie: somme, écart par rapport à limite\n",
    "    Algorithme Somme(n)\n",
    "        S=0.\n",
    "        pour i de 1 a n\n",
    "            S = S + 1./i**2\n",
    "        err = S - (pi**2/6.)\n",
    "        retour S,err\n",
    "        \n",
    "#### Programme Python"
   ]
  },
  {
   "cell_type": "code",
   "execution_count": null,
   "metadata": {},
   "outputs": [],
   "source": [
    "# fonction Python\n",
    "def Somme(n):\n",
    "    \"\"\" \n",
    "    Calcul de la somme de la série 1/i**2  pour i de 0 a n \n",
    "    en sortie: somme et écart par rapport à la limite\n",
    "    \"\"\"\n",
    "    S=0.\n",
    "    for i in range(1, n + 1):\n",
    "        S = S + 1. / (i*i)\n",
    "    ecart = S - (np.pi**2/6.)\n",
    "    return S, ecart\n",
    "#\n",
    "n = 100\n",
    "S, err = Somme(n)\n",
    "print(\"somme=\",S,\" erreur=\",err)\n",
    "print(Somme(1000))\n",
    "print(Somme(10000))"
   ]
  },
  {
   "cell_type": "markdown",
   "metadata": {},
   "source": [
    "## Paramètres optionnels d'une fonction\n",
    "\n",
    "- En Python possibilité de définir des paramètres optionnels avec une valeur par défaut\n",
    "- Nommage des paramètres (ordre indifférent)\n",
    "- Très utilisés dans les fonctions des bibliothèques\n",
    "\n",
    "\n",
    "        # Déclaration\n",
    "        def MaFonction(par, par1=valdef1, par2=valdef2)\n",
    "    \n",
    "        # Appel\n",
    "        MaFonction(val)\n",
    "        MaFonction(val, par1=val1)\n",
    "        MaFonction(val, par2=val2, par1=val1)"
   ]
  },
  {
   "cell_type": "code",
   "execution_count": null,
   "metadata": {},
   "outputs": [],
   "source": [
    "display(Markdown(\"**Video du cours: paramètres optionnels**\"))\n",
    "YouTubeVideo('fUDdLOxc2c0')"
   ]
  },
  {
   "cell_type": "markdown",
   "metadata": {},
   "source": [
    "```{attention} \n",
    "Les vidéos utilisent un ancien interpréteur python 2.7, pour lequel `print` est un mot clé, \n",
    "soit `print 'bonjour'`.\n",
    "Avec Python 3, `print` est une fonction et il faut donc utiliser des parenthèses, \n",
    "soit `print('bonjour')` \n",
    "```"
   ]
  },
  {
   "cell_type": "markdown",
   "metadata": {},
   "source": [
    " ### Exemple: algorithme de Héron (calcul de $\\sqrt{x}$)\n",
    "\n",
    "Pour calculer une approximation $u$ de $\\sqrt{a}$, on note que si $u\\approx\\sqrt(a)$ alors $a/u\\approx\\sqrt(a)$ et donc  $\\frac{u + a/u}{2}$  est sans doute une meilleur approximation de $\\sqrt{a}$.  \n",
    "On peut vérifier que cette méthode babylonienne est en fait un cas particulier de la méthode de Newton pour calculer la racine de $f(x)=u^2-a$\n",
    "\n",
    "#### Algorithme\n",
    "      Algorithme Heron(a)\n",
    "          u = a/2\n",
    "          eps = 1.e-6\n",
    "          tant que |u**2 - a| > eps\n",
    "              u = (u + a/u)/2\n",
    "          fin tantque\n",
    "          retour u\n",
    "\n",
    "#### Programme Python"
   ]
  },
  {
   "cell_type": "code",
   "execution_count": null,
   "metadata": {},
   "outputs": [],
   "source": [
    "import numpy as np\n",
    "def Heron(a, eps=1e-03, itmax=100):\n",
    "    \"\"\" \n",
    "    calcul une approximation de sqrt(a) avec une precision eps\n",
    "    et une nombre maxi d'iterations itmax \"\"\"\n",
    "    u = a/2.\n",
    "    it = 0\n",
    "    while abs(u**2 - a) > eps:\n",
    "        u  = (u + a/u) / 2.\n",
    "        it = it + 1\n",
    "        if it > itmax:\n",
    "            print(\"Attention nbre maxi d'iterations atteint\", it)\n",
    "            break\n",
    "    return u, it\n",
    "# utilisation\n",
    "b = 200.\n",
    "print(\"sqrt(200) ~\",Heron(b))\n",
    "print(\"a 10^-8  pres sqrt(200) ~\",Heron(b, 1.e-08))\n",
    "print(\"a 10^-13 pres sqrt(200) ~\",Heron(b, eps=1.e-13))\n",
    "print(\"a 10^-14 pres sqrt(200) ~\",Heron(b, eps=1.e-14))\n",
    "print(\"a 10^-14 pres sqrt(200) ~\",Heron(b, itmax=200, eps=1.e-14))\n",
    "print(\"valeur avec numpy \",np.sqrt(b))"
   ]
  },
  {
   "cell_type": "markdown",
   "metadata": {},
   "source": [
    "## Fonction Lambda\n",
    "\n",
    "- permet de définir des mini-fonctions (à la Lisp)\n",
    "- utile pour des fonctions simples (mais pas obligatoire!!)\n",
    "- **définition** fonction F(args)  où args est la liste des arguments\n",
    "\n",
    "        F = lambda args : expression(args)"
   ]
  },
  {
   "cell_type": "code",
   "execution_count": null,
   "metadata": {},
   "outputs": [],
   "source": [
    "import numpy as np\n",
    "F = lambda x: np.cos(x**2)\n",
    "print(F(1))\n",
    "G = lambda x, y: F(x) + y**2\n",
    "print(G(1, 1))"
   ]
  },
  {
   "cell_type": "markdown",
   "metadata": {},
   "source": [
    "## Méthodes, classes et fonctions de bibliothèque\n",
    "\n",
    "### Définition\n",
    "**classe** = type de structure de données définissant des données + fonctions pour manipuler ces données\n",
    "\n",
    "**méthode** = fonction associée à une classe pour manipuler les données de la classe\n",
    "\n",
    "**objet** = instance de classe = variable  [données + méthodes]\n",
    "\n",
    "sous Python toute variable (list, string, real, int) est un objet et possède des méthodes (p.e pour l'afficher)"
   ]
  },
  {
   "cell_type": "code",
   "execution_count": null,
   "metadata": {},
   "outputs": [],
   "source": [
    "display(Markdown(\"**Video du cours: notion de classes et méthodes**\"))\n",
    "YouTubeVideo('N6TLygH5p4c')"
   ]
  },
  {
   "cell_type": "markdown",
   "metadata": {},
   "source": [
    "```{attention} \n",
    "Les vidéos utilisent un ancien interpréteur python 2.7, pour lequel `print` est un mot clé, \n",
    "soit `print 'bonjour'`.\n",
    "Avec Python 3, `print` est une fonction et il faut donc utiliser des parenthèses, \n",
    "soit `print('bonjour')` \n",
    "```"
   ]
  },
  {
   "cell_type": "markdown",
   "metadata": {},
   "source": [
    "### Syntaxe d'utilisation d'une méthode sous Python\n",
    "\n",
    "pour un objet A avec un methode func1\n",
    "\n",
    "    A.func1(arg1,arg2,...)\n",
    "    \n",
    "équivalent à\n",
    "\n",
    "    func1(A,arg1,arg2,..)\n",
    "    \n",
    "\n",
    "### Exemple en Python"
   ]
  },
  {
   "cell_type": "code",
   "execution_count": null,
   "metadata": {},
   "outputs": [],
   "source": [
    "S=\"mon nom\"\n",
    "print(S.upper())\n",
    "L=[1,2,3]\n",
    "L.reverse()\n",
    "print(L)\n",
    "X=3.14157\n",
    "print(X.as_integer_ratio())"
   ]
  },
  {
   "cell_type": "markdown",
   "metadata": {},
   "source": [
    "### Aide sous Ipython\n",
    "Sous Ipython, pour avoir la liste des méthodes associées à un objet A\n",
    "\n",
    "    A. <tab>   # liste des methodes\n",
    "    A.meth?    # aide sur la methode meth\n",
    "\n",
    "\n",
    "**exemple**\n",
    "    \n",
    "    np.abs?\n",
    "    \n",
    "renvoie    \n",
    "\n",
    "    Call signature:  np.abs(*args, **kwargs)\n",
    "    Type:            ufunc\n",
    "    String form:     <ufunc 'absolute'>\n",
    "    File:            /usr/local/lib/python3.8/dist-packages/numpy/__init__.py\n",
    "    Docstring:      \n",
    "    absolute(x, /, out=None, *, where=True, casting='same_kind', order='K', dtype=None, subok=True[, signature, extobj])\n",
    "\n",
    "    Calculate the absolute value element-wise.\n",
    "\n",
    "    ``np.abs`` is a shorthand for this function.\n",
    "\n",
    "    Parameters\n",
    "    ----------\n",
    "    x : array_like\n",
    "        Input array.\n",
    "    out : ndarray, None, or tuple of ndarray and None, optional\n",
    "        A location into which the result is stored. If provided, it must have\n",
    "        a shape that the inputs broadcast to. If not provided or None,\n",
    "        a freshly-allocated array is returned. A tuple (possible only as a\n",
    "        keyword argument) must have length equal to the number of outputs.\n",
    "    where : array_like, optional\n",
    "        This condition is broadcast over the input. At locations where the\n",
    "        condition is True, the `out` array will be set to the ufunc result.\n",
    "        Elsewhere, the `out` array will retain its original value.\n",
    "        Note that if an uninitialized `out` array is created via the default\n",
    "        ``out=None``, locations within it where the condition is False will\n",
    "        remain uninitialized.\n",
    "    **kwargs\n",
    "        For other keyword-only arguments, see the\n",
    "        :ref:`ufunc docs <ufuncs.kwargs>`.\n",
    "\n",
    "    Returns\n",
    "    -------\n",
    "    absolute : ndarray\n",
    "        An ndarray containing the absolute value of\n",
    "        each element in `x`.  For complex input, ``a + ib``, the\n",
    "        absolute value is :math:`\\sqrt{ a^2 + b^2 }`.\n",
    "        This is a scalar if `x` is a scalar."
   ]
  },
  {
   "cell_type": "markdown",
   "metadata": {},
   "source": [
    "### Fonctions d'une bibliothéque\n",
    "\n",
    "espace de nom = nom de la bibliothéque bibli\n",
    "\n",
    "    import bibli\n",
    "\n",
    "nom de la fonction func dans la bibliothéque \n",
    "\n",
    "    bibli.func\n",
    "    bibli.sous_bibli.func\n",
    "    \n",
    "simplification du nommage\n",
    "\n",
    "    import bibli as bib\n",
    "    import bibli.sous_bibli as sbib\n",
    "    \n",
    "importation d'une fonction\n",
    "\n",
    "    from bibli import func"
   ]
  },
  {
   "cell_type": "code",
   "execution_count": null,
   "metadata": {},
   "outputs": [],
   "source": [
    "import numpy as np\n",
    "print(np.sqrt(3))\n",
    "from numpy import tanh\n",
    "print(tanh(1))"
   ]
  },
  {
   "cell_type": "markdown",
   "metadata": {},
   "source": [
    "## Programmation structurée\n",
    "\n",
    "**principe:** *\"Divide and Conquer\"*\n",
    "\n",
    "découpage du problème en une suite de problèmes plus simples\n",
    "\n",
    "### Analyse algorithmique \"Top-Down design\"\n",
    "\n",
    "<img width=\"500px\" src=\"Figures/analyse_topdown.png\" alt=\"Analyse\" />\n",
    "\n",
    "### Principes de l'analyse top down\n",
    "\n",
    "- on découpe le problème en une série de sous-problèmes plus simples (si possible indépendant)\n",
    "- on spécifie ce qui doit résolu dans chacun des sous-problèmes sans forcément dire comment\n",
    "- puis on itère au niveau des sous problèmes.\n",
    "\n",
    "### Programmation \"Botton-up programming\"\n",
    "\n",
    "- on part des sous-problèmes élémentaires que l'on programme sous forme de fonctions (ou procédures)\n",
    "- on valide les fonctions\n",
    "- puis on réitère en remontant dans l'arbre jusqu'au programme principal\n",
    "\n",
    "**règles** réutiliser les fonctions déjà écrites et validées (bibliothèques): *principe du moindre effort !*\n"
   ]
  },
  {
   "cell_type": "markdown",
   "metadata": {},
   "source": [
    "## Exemple: simuler l'alunissage de Neil Amstrong (Apollo 11)\n",
    "\n",
    "- basé sur une simulation d'alunissage du module lunaire écrit en basic en 1969, puis popularisé en 1979 sur ATARI (Lunar Lander).\n",
    "\n",
    "<img width=\"300px\" src=\"Figures/Moon_Lander_v2.png\" alt=\"Moon Lander\" />\n"
   ]
  },
  {
   "cell_type": "code",
   "execution_count": null,
   "metadata": {},
   "outputs": [],
   "source": [
    "display(Markdown(\"**Video du cours: Programmation structurée sur un exemple 'Lunar Lander'**\"))\n",
    "YouTubeVideo('7QGM_BtCxRE')"
   ]
  },
  {
   "cell_type": "markdown",
   "metadata": {},
   "source": [
    "```{attention} \n",
    "Les vidéos utilisent un ancien interpréteur python 2.7, pour lequel `print` est un mot clé, \n",
    "soit `print 'bonjour'`.\n",
    "Avec Python 3, `print` est une fonction et il faut donc utiliser des parenthèses, \n",
    "soit `print('bonjour')` \n",
    "```"
   ]
  },
  {
   "cell_type": "markdown",
   "metadata": {},
   "source": [
    "\n",
    "### jeu \"Lunar Lander\"\n",
    "\n",
    "Poser le module lunaire (LEM) sur la lune en arrivant avec une vitesse quasiment nulle. Pour cela on dispose de rétro-fusées permettant de ralentir la chute du LEM. \n",
    "\n",
    "- On contrôle manuellement ces rétro-fusées en sélectionnant une poussée (de 0 à 9), correspondant à l'éjection de carburant avec un débit $Qe$ variable et une vitesse $Ue$ fixe. \n",
    "- Mais on dispose d'une quantité limitée de carburant que l'on doit utiliser avec modération pour pouvoir atterrir en douceur.\n",
    "\n",
    "#### modèle physique:\n",
    "Le LEM, de masse initiale $M0$, est soumis à la gravité $g$ de la lune et à la poussée des rétro-fusées, correspondant à l'éjection d'un débit de fuel $Qe$ à un vitesse $Ve$ . \n",
    "\n",
    "<img style=\" float:center; display:inline; width:450px;\" src=\"Figures/LEM.png\" alt=\"LEM\" />\n",
    "\n",
    "#### modèle mathématique:\n",
    "Equation du mouvement:\n",
    "\n",
    "$$ \\frac{d^2 Z}{dt^2} = -g + \\frac{Qe*Ue}{M0-Qe*t}$$\n",
    "\n",
    "en intégrant sur la durée d'une commande $T$ $\\rightarrow$ vitesse $V$\n",
    "\n",
    "$$ V = V0 + g*T + Ue * \\ln{(1 - \\frac{Qe*T}{M0})} $$\n",
    "\n",
    "La masse du LEM $M$ diminue \n",
    "\n",
    "$$M = M0 -Qe*T$$\n",
    "\n",
    "Approximation par DL car $X=\\frac{Qe*T}{M0} \\ll 1$\n",
    "\n",
    "$$ V = V0 + g*T - Ue*(X + \\frac{X^2}{2} + \\frac{X^3}{3}  + \\frac{X^4}{4} + \\frac{X^5}{5})$$\n",
    "d'où l'altitude $Z$\n",
    "\n",
    "$$ Z = Z0 - V0*T - g \\frac{T^2}{2} + Ue*T*(\\frac{X}{2} + \\frac{X^2}{6} + \\frac{X^3}{12}  + \\frac{X^4}{20} + \\frac{X^5}{30})$$\n",
    "\n",
    "expression utilisée dans les premiers programmes en BASIC.\n",
    "\n",
    "#### cas particuliers\n",
    "\n",
    "1. Si le fuel est épuisé ($Qe=0$), le LEM atteins la surface lunaire au bout d'un temps $T$ solution de l'équation du 2nd degré:\n",
    "\n",
    "$$ 0 = Z0 - V0*T -g \\frac{T^2}{2}$$\n",
    "\n",
    "soit $T = (-V0 + \\sqrt{V0^2 + 2 g Z0})/g$\n",
    "\n",
    "2. Près de la surface,  $T$ trop grand $\\rightarrow$ prédiction $Z0 < 0$\n",
    "   - calcul  $T$ donnant l'altitude $Z=0$, solution d'une équation du 6ième degré. \n",
    "   - calcul par approximations successives en utilisant un DL de $Z(t)$ \n",
    "     1. estimation $T0$ de $T$\n",
    "     \n",
    "     $$ T0 = \\frac{-V0 + \\sqrt{V0^2 + 2 (g-\\frac{Ue*Qe}{M0}) Z0}}{g-\\frac{Ue*Qe}{M0}} $$\n",
    "     \n",
    "     2. recalcule $V0$ et $Z0$, puis recommence."
   ]
  },
  {
   "cell_type": "markdown",
   "metadata": {},
   "source": [
    "### Algorithme: analyse top-down\n",
    "\n",
    "#### problème global\n",
    "\n",
    "<img width=\"450px\" src=\"Figures/Algorithme1.png\" alt=\"Algorithme\" />\n",
    "\n",
    "#### sous-probleme Lecture_cde\n",
    "\n",
    "<img width=\"450px\" src=\"Figures/Algorithme2.png\" alt=\"Algorithme\" />\n",
    "\n",
    "#### sous-problème VitesseAltitude\n",
    "\n",
    "applications des formules mathématiques de l'analyse précédente\n",
    "\n",
    "$$ V = V0 + g*T - Ue*(X + \\frac{X^2}{2} + \\frac{X^3}{3}  + \\frac{X^4}{4} + \\frac{X^5}{5})$$\n",
    "$$ Z = Z0 - V0*T - g \\frac{T^2}{2} + Ue*T*(\\frac{X}{2} + \\frac{X^2}{6} + \\frac{X^3}{12}  + \\frac{X^4}{20} + \\frac{X^5}{30})$$\n",
    "\n",
    "#### sous-probleme Alunissage\n",
    "\n",
    "<img width=\"450px\" src=\"Figures/Algorithme3.png\" alt=\"Algorithme\" />"
   ]
  },
  {
   "cell_type": "markdown",
   "metadata": {},
   "source": [
    "### Programmation Python bottom up\n",
    "#### Fonction Lecture_Cde"
   ]
  },
  {
   "cell_type": "code",
   "execution_count": null,
   "metadata": {},
   "outputs": [],
   "source": [
    "import numpy as np\n",
    "from random import sample\n",
    "import sys\n",
    "# constantes en unité SI (kg/m/s)\n",
    "g  = 1.6     # gravité\n",
    "Ue = 2900.   # vitesse d'ejection\n",
    "# \n",
    "def Lecture_Cde(Me,dt):\n",
    "    \"\"\" lecture de la commande (poussée) avec test carburant \"\"\"\n",
    "    T=dt\n",
    "    if Me>0 :\n",
    "        # lecture poussee\n",
    "        while True:\n",
    "            # lecture clavier\n",
    "            # ch = input(\"Entrez la valeur de la poussée (0-9) (en 10eme kg/s) = \")[0]\n",
    "            # lecture aleatoire\n",
    "            ch = sample(['0','1','2','3','4','5','6','7','8','9'],1)[0]\n",
    "            #\n",
    "            if (ch>='0') and (ch<='9') :\n",
    "                Qe = int(ch)*10 # pousse en kg/s\n",
    "                break;\n",
    "            if (ch=='Q') : sys.exit(1)\n",
    "            print(\"Erreur: entrer un chiffre entre 0 et 9 \")\n",
    "        # test si reserve de fuel suffisante\n",
    "        if (Me-Qe*T)<0 :\n",
    "            # temps restant d'utilisation du fuel\n",
    "            T = Me/Qe\n",
    "    else:\n",
    "        print(\"Plus de fuel \")\n",
    "        Qe = 0\n",
    "        # calcul du temps T pour parcourir Z0 (alunissage)\n",
    "        T = (-V0 + np.sqrt(V0*V0 + 2*g*Z0)) / g\n",
    "    return Qe,T"
   ]
  },
  {
   "cell_type": "markdown",
   "metadata": {},
   "source": [
    "#### Fonction VitesseAltitude"
   ]
  },
  {
   "cell_type": "code",
   "execution_count": null,
   "metadata": {},
   "outputs": [],
   "source": [
    "def VitesseAltitude(v0,Z0,X,T):\n",
    "    \"\"\" calcul de la nvlle vitesse en fonction de la vitesse init V0\n",
    "        un débit sans dimension X=Qe*T/M0 de fuel, pendant un temps T\n",
    "        ainsi que de la nouvelle altitude du LEM\n",
    "    \"\"\"\n",
    "    global g,Ue\n",
    "    V = V0 + g*T - Ue*(X + X*X/2. + X**3/3. + X**4/4. + X**5/5.)\n",
    "    Z = Z0 - V0*T - g*T*T/2. + Ue*T*(X/2. + X*X/6. + X**3/12. + X**4/20. + X**5/30.)\n",
    "    return V,Z"
   ]
  },
  {
   "cell_type": "markdown",
   "metadata": {},
   "source": [
    "#### Fonction Alunissage"
   ]
  },
  {
   "cell_type": "code",
   "execution_count": null,
   "metadata": {},
   "outputs": [],
   "source": [
    "def Alunissage(V0,Z0,M0,Qe):\n",
    "    \"\"\" calcul etat a Z=0 a partir d'une CI V0,Z0,M0 et une poussée Qe \"\"\"\n",
    "    global g,Ue\n",
    "    # calcul du temps T pour alunissage par approximation successive\n",
    "    T0 = 0\n",
    "    while np.abs(Z0) > 1.e-2:\n",
    "            T= (-V0 + np.sqrt(V0*V0 + 2*(g-Ue*Qe/M0)*Z0)) / (g-Ue*Qe/M0)\n",
    "            V0,Z0 = VitesseAltitude(V0,Z0,Qe*T/M0,T)\n",
    "            T0 = T0+ T\n",
    "    return V0,Z0,T0"
   ]
  },
  {
   "cell_type": "markdown",
   "metadata": {},
   "source": [
    "#### Programme principal"
   ]
  },
  {
   "cell_type": "code",
   "execution_count": null,
   "metadata": {},
   "outputs": [],
   "source": [
    "# conditions initiales\n",
    "Z0 = 190000. # position\n",
    "V0 = 1580.   # et vitesse\n",
    "M0 = 15000.  # masse initiale du LEM\n",
    "Me = 8000.   # dont une masse de fuel\n",
    "t  = 0.      # temps simulation\n",
    "dt = 10.     # pas en temps entre chaque commande\n",
    "#\n",
    "print(\"Simulation alunissage\")\n",
    "while np.abs(Z0)>1.e-2 :\n",
    "    Qe,T = Lecture_Cde(Me,dt)\n",
    "    # calcul de la nouvelle position du LEM\n",
    "    V1,Z1 = VitesseAltitude(V0,Z0,Qe*T/M0,T)\n",
    "    # test si alunnissage\n",
    "    if Z1 < 1.e-2 :\n",
    "        V1,Z1,T = Alunissage(V0,Z0,M0,Qe)\n",
    "    # mise a jour de la position du LEM\n",
    "    Z0 = Z1;      V0 = V1\n",
    "    Me = Me-Qe*T; M0 = M0-Qe*T\n",
    "    t  = t + T\n",
    "    print(\"t=\",int(t),\"s Z=\",int(Z0),\"m V=\",int(V0),\"m/s fuel=\",int(Me),\"kg\")\n",
    "# fin simulation\n",
    "print(\"Alunissage avec une vitesse \",int(V0),\" m/s\")\n",
    "if V0<=0.5 :\n",
    "    print(\"Alunissage parfait\")\n",
    "elif V0<=5. :\n",
    "    print(\"Bon alunissage, mais perfectible\")\n",
    "elif V0<=27.:\n",
    "    print(\"Accident à l'alunissage. Attendez les secours en esperant que vous avez assez d'oxygene !!!\")\n",
    "else :\n",
    "    print(\"Crash fatal: aucun survivant\")"
   ]
  },
  {
   "cell_type": "markdown",
   "metadata": {},
   "source": [
    "## Exercice: simulation d'un lancer de balle\n",
    "\n",
    "ou comment programmer le célébre jeux Candy Crush !\n",
    "\n",
    "<img width=\"300px\" src=\"Figures/angry-birds.jpg\" alt=\"Angry-Birds\" />\n"
   ]
  },
  {
   "cell_type": "code",
   "execution_count": null,
   "metadata": {},
   "outputs": [],
   "source": [
    "display(Markdown(\"**Video du cours: Exercice 'Lancer de balle'**\"))\n",
    "YouTubeVideo('QazORncfuIM')"
   ]
  },
  {
   "cell_type": "markdown",
   "metadata": {},
   "source": [
    "### Modèle physique:\n",
    "\n",
    "<img style=\" float:center; display:inline; width:520px;\" src=\"Figures/lancer_balle.png\" alt=\"Algorithme\" />\n",
    "\n",
    "### Modèle mathématique:\n",
    "\n",
    "Ce modèle admet une solution analytique simple pour la position $x_0$\n",
    "\n",
    "$$ x_0 = \\frac{ 2 V_0^2 \\sin{\\alpha} \\cos{\\alpha}}{g} $$\n",
    "\n",
    "### Objectif du programme\n",
    "\n",
    "Écrire un programme Python qui simule le jeux angry birds en mode texte. On pose un bloc à une distance $L$ du joueur, qui doit envoyer une balle pour le démolir (i.e. atteindre $L$ avec une précision donnée).\n",
    "\n",
    "Le joueur choisit 2 paramètres à valeurs discrètes:\n",
    "\n",
    "- l'angle $\\alpha$ (de 1 à 8 pour un angle de 10 à 45 degré par pas de 5)\n",
    "- la vitesse initiale $V_0$ (de 1 à 5 par pas 1).\n",
    "\n",
    "Le joueur a 3 essais, et pour chaque essai, le programme indique la distance atteinte par la balle par rapport au bloc visé."
   ]
  },
  {
   "cell_type": "markdown",
   "metadata": {},
   "source": [
    "## Bibliographie\n",
    "\n",
    "1. Programme originel \"Lunar Lander\" en Basic sur ATARI:\n",
    "\n",
    "   - [\"Lunar Lander basic programme\"](http://atariarchives.org/basicgames/showpage.php?page=106)\n",
    "\n",
    "2. Les classes sous Python \n",
    "\n",
    "   - [\"Classes sous Python\"](http://fr.wikibooks.org/wiki/Apprendre_%C3%A0_programmer_avec_Python/Classes,_objets,_attributs),<br> \n",
    "\n",
    "    chapitre du livre \"Apprendre à programmer avec Python\"\n",
    "\n",
    "   - [\"Apprendre à programmer avec Python\"](http://inforef.be/swi/python.htm) de Gérard Swinnen"
   ]
  },
  {
   "cell_type": "markdown",
   "metadata": {},
   "source": [
    "## Fin de la leçon\n",
    "\n",
    "<img src=\"Figures/cloud_fonction.png\" alt=\"cloud\" width=\"300px\"/>"
   ]
  }
 ],
 "metadata": {
  "kernelspec": {
   "display_name": "Python 3",
   "language": "python",
   "name": "python3"
  },
  "language_info": {
   "codemirror_mode": {
    "name": "ipython",
    "version": 3
   },
   "file_extension": ".py",
   "mimetype": "text/x-python",
   "name": "python",
   "nbconvert_exporter": "python",
   "pygments_lexer": "ipython3",
   "version": "3.8.10"
  },
  "toc": {
   "base_numbering": 1,
   "nav_menu": {},
   "number_sections": true,
   "sideBar": true,
   "skip_h1_title": true,
   "title_cell": "Contenu du chapitre",
   "title_sidebar": "Contenu",
   "toc_cell": false,
   "toc_position": {},
   "toc_section_display": true,
   "toc_window_display": false
  }
 },
 "nbformat": 4,
 "nbformat_minor": 1
}
