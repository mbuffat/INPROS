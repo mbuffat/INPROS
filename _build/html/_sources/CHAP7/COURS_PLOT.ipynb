{
 "cells": [
  {
   "cell_type": "markdown",
   "metadata": {},
   "source": [
    "<img width=\"180px\" src=\"Figures/logo_trans.png\" alt=\"LyonHPC\" />\n",
    "<img width=\"200px\" src=\"Figures/python-logo.gif\" alt=\"LyonHPC\"/>\n",
    "\n",
    "# Tracé avec matplotlib\n",
    "\n",
    "<img width=\"250px\" src=\"Figures/plot3d.png\" alt=\"plot3d\" />"
   ]
  },
  {
   "cell_type": "code",
   "execution_count": null,
   "metadata": {},
   "outputs": [],
   "source": [
    "%matplotlib inline\n",
    "import numpy as np\n",
    "from IPython.display import HTML,display,IFrame,Video\n",
    "from IPython.display import YouTubeVideo,Markdown"
   ]
  },
  {
   "cell_type": "code",
   "execution_count": null,
   "metadata": {},
   "outputs": [],
   "source": [
    "display(Markdown(\"**Video du cours: Introduction**\"))\n",
    "YouTubeVideo('UJI79P8voAI')"
   ]
  },
  {
   "cell_type": "markdown",
   "metadata": {},
   "source": [
    "```{tip} \n",
    "Pour tester les programmes Python, vous pouvez vous connectez sur un serveur Jupyter, par exemple, pour \n",
    "les étudiants Lyon1 [https://jupyter.mecanique.univ-lyon1.fr](https://jupyter.mecanique.univ-lyon1.fr)\n",
    "```"
   ]
  },
  {
   "cell_type": "markdown",
   "metadata": {},
   "source": [
    "## Introduction à matplotlib\n",
    "\n",
    "Matplotlib est une bibliothèque de Python destinée à tracer et visualiser des données sous formes de graphiques.  Combinée avec numpy,\n",
    "elle permet une analyse des simulations numériques, à la fois sous forme interactive et pour produire des documents de très grande qualité, directement utilisable dans les publications scientifiques."
   ]
  },
  {
   "cell_type": "markdown",
   "metadata": {},
   "source": [
    "###  Site web [http://matplotlib.org]"
   ]
  },
  {
   "cell_type": "code",
   "execution_count": null,
   "metadata": {},
   "outputs": [],
   "source": [
    "display(IFrame(\"https://matplotlib.org/stable/gallery/index.html\",width=800,height=300))"
   ]
  },
  {
   "cell_type": "markdown",
   "metadata": {},
   "source": [
    "### Tutorial en anglais\n",
    "[http://scipy-lectures.org/intro/matplotlib/]"
   ]
  },
  {
   "cell_type": "markdown",
   "metadata": {},
   "source": [
    "### Utilisation\n",
    "il faut importer la librairie matplolib et son module pyplot ainsi que numpy:"
   ]
  },
  {
   "cell_type": "code",
   "execution_count": null,
   "metadata": {},
   "outputs": [],
   "source": [
    "import numpy as np\n",
    "import matplotlib.pyplot as plt"
   ]
  },
  {
   "cell_type": "markdown",
   "metadata": {},
   "source": [
    "### Exemple: tracer simple d'une courbe\n",
    "\n",
    "fonction **plot** pour tracer la fonction y=f(x) donnée par ses valeurs Y en des points discrets X "
   ]
  },
  {
   "cell_type": "code",
   "execution_count": null,
   "metadata": {},
   "outputs": [],
   "source": [
    "import numpy as np\n",
    "import matplotlib.pyplot as plt\n",
    "\n",
    "X=np.linspace(-6*np.pi,6*np.pi,400)\n",
    "Y=np.sin(X)/X\n",
    "plt.plot(X,Y)\n",
    "plt.show()"
   ]
  },
  {
   "cell_type": "markdown",
   "metadata": {},
   "source": [
    "#### remarques\n",
    "\n",
    "- l'utilisation de la fonction **plt.show()** n'est pas obligatoire en mode interactif avec ipython (mais nécessaire avec python)\n",
    "- l'importation de la librairie **pyplot** sous le nom **plt** est une convention souvant utilisée\n",
    "\n",
    "        import matplotlib.pyplot as plt\n",
    "        \n",
    "- de même, on peut importer numpy implicitement au lieu d'utiliser le nom np (courant)\n",
    "\n",
    "        from numpy import *"
   ]
  },
  {
   "cell_type": "markdown",
   "metadata": {},
   "source": [
    "#### question\n",
    "\n",
    "Que fait le programme précédent avec **X=np.linspace(-6\\*np.pi,6\\*np.pi,401)**\n",
    "     "
   ]
  },
  {
   "cell_type": "markdown",
   "metadata": {},
   "source": [
    "## Tracé de courbes"
   ]
  },
  {
   "cell_type": "code",
   "execution_count": null,
   "metadata": {},
   "outputs": [],
   "source": [
    "display(Markdown(\"**Video du cours: tracé de courbes**\"))\n",
    "YouTubeVideo('OoHCpbQMM2Y')"
   ]
  },
  {
   "cell_type": "markdown",
   "metadata": {},
   "source": [
    "```{attention} \n",
    "Les vidéos utilisent un ancien interpréteur python 2.7, pour lequel `print` est un mot clé, \n",
    "soit `print 'bonjour'`.\n",
    "Avec Python 3, `print` est une fonction et il faut donc utiliser des parenthèses, \n",
    "soit `print('bonjour')` \n",
    "```"
   ]
  },
  {
   "cell_type": "markdown",
   "metadata": {},
   "source": [
    "\n",
    "\n",
    "### Fonctions de tracé de courbes avec sous-figures, légende et titre\n",
    "* plt.**subplot**(nline,ncol,num)\n",
    "* plt.**xlabel**(titre axe des X) plt.**ylabel**(titre axe des Y)\n",
    "* plt.**legend**(loc=position,fontsize=size)\n",
    "* plt.**title**(titre,fontsize=size)\n",
    "\n",
    "### Exemple: tracer avec sous-figures"
   ]
  },
  {
   "cell_type": "code",
   "execution_count": null,
   "metadata": {},
   "outputs": [],
   "source": [
    "# augmente la taille du texte par defaut\n",
    "plt.rc('font', family='serif', size='16')\n",
    "plt.figure(figsize=(16,8))\n",
    "plt.subplot(1,2,1)\n",
    "plt.plot(X,np.sin(X)/X,'-r',lw=2,label=\"sin(x)/x\")\n",
    "plt.plot(X,np.sin(2*X)/X,'--g',lw=1,label=\"$\\\\frac{\\sin 2x}{x}$\")\n",
    "plt.xlabel('x'); plt.ylabel('y(x)')\n",
    "plt.title('sous figure 1',fontsize=18)\n",
    "plt.legend(loc=0)\n",
    "plt.subplot(1,2,2)\n",
    "plt.plot(X,(1-np.cos(X))/X,'-b',lw=2,label=\"$\\\\frac{1-\\cos x}{x}$\")\n",
    "plt.plot(X,(1-np.cos(2*X))/X,'--c',lw=1,label=\"$\\\\frac{1-\\cos 2x}{x}$\")\n",
    "plt.legend(loc=0)\n",
    "plt.xlabel('t'); plt.ylabel('z(t)')\n",
    "plt.title('sous figure 2',fontsize=24)\n",
    "plt.show()"
   ]
  },
  {
   "cell_type": "markdown",
   "metadata": {},
   "source": [
    "### Sélection des limites des axes\n",
    "\n",
    "* plt.**xlim**(xmin,xmax)\n",
    "\n",
    "* plt.**ylim**(ymin,ymax)"
   ]
  },
  {
   "cell_type": "code",
   "execution_count": null,
   "metadata": {},
   "outputs": [],
   "source": [
    "plt.figure(figsize=(12,6))\n",
    "plt.xlim(-10,10)\n",
    "plt.ylim(-1.,1)\n",
    "plt.plot(X,np.sin(X)/X,'-r',lw=2,label=\"$\\\\frac{\\sin x}{x}$\")\n",
    "plt.plot(X,np.sin(2*X)/X,'--g',lw=1,label=\"$\\\\frac{\\sin 2x}{x}$\")\n",
    "plt.legend(loc=0,fontsize=20);"
   ]
  },
  {
   "cell_type": "markdown",
   "metadata": {},
   "source": [
    "### Sauvegarde sur fichiers (pdf, eps, png)\n",
    "\n",
    "* plt.**savefig**(nom_fichier)"
   ]
  },
  {
   "cell_type": "code",
   "execution_count": null,
   "metadata": {},
   "outputs": [],
   "source": [
    "plt.figure(figsize=(12,8))\n",
    "plt.plot(X,np.sin(X)/X,'-r',lw=2,label=\"$\\\\omega=1$\")\n",
    "plt.plot(X,np.sin(2*X)/X,'--g',lw=1,label=\"$\\\\omega=2$\")\n",
    "plt.legend(loc=0,fontsize=20)\n",
    "plt.title('fonction $\\\\frac{\\sin{\\omega x}}{x}$',fontsize=24)\n",
    "plt.savefig('mafigure.pdf',bbox_inches='tight')"
   ]
  },
  {
   "cell_type": "code",
   "execution_count": null,
   "metadata": {},
   "outputs": [],
   "source": [
    "%%bash\n",
    "ls -al mafigure.pdf"
   ]
  },
  {
   "cell_type": "markdown",
   "metadata": {},
   "source": [
    "## Tracé de surface en 3D"
   ]
  },
  {
   "cell_type": "code",
   "execution_count": null,
   "metadata": {},
   "outputs": [],
   "source": [
    "display(Markdown(\"**Video du cours: tracé en 3D et animation**\"))\n",
    "YouTubeVideo('x-NVB2tWNtM')"
   ]
  },
  {
   "cell_type": "markdown",
   "metadata": {},
   "source": [
    "```{attention} \n",
    "Les vidéos utilisent un ancien interpréteur python 2.7, pour lequel `print` est un mot clé, \n",
    "soit `print 'bonjour'`.\n",
    "Avec Python 3, `print` est une fonction et il faut donc utiliser des parenthèses, \n",
    "soit `print('bonjour')` \n",
    "```"
   ]
  },
  {
   "cell_type": "markdown",
   "metadata": {},
   "source": [
    "- **mplot3d** bibliothèque (toolkit) de tracés 3D simples (\\*) sous matplotlib\n",
    "\n",
    "(\\*) *pour des tracés complexes: librairies spécialisées OpenGL (<a href=\"http://mayavi.sourceforge.net/\">Mayavi</a> avec VTK)*\n",
    "\n",
    "- **surface**(X,Y,Z,rstride=1,cstride=1)\n",
    "\n",
    "### Exemple"
   ]
  },
  {
   "cell_type": "code",
   "execution_count": null,
   "metadata": {},
   "outputs": [],
   "source": [
    "from mpl_toolkits.mplot3d import Axes3D\n",
    "import matplotlib.pyplot as plt\n",
    "import numpy as np\n",
    "fig = plt.figure(figsize=(10,6))\n",
    "ax = Axes3D(fig)\n",
    "X = np.arange(-5, 5, 0.25)\n",
    "Y = np.arange(-5, 5, 0.25)\n",
    "X, Y = np.meshgrid(X, Y)\n",
    "R = np.sqrt(X**2 + Y**2)\n",
    "Z = np.sin(R)\n",
    "surf = ax.plot_surface(X, Y, Z,rstride=1,cstride=1,cmap='jet')\n",
    "ax.set_zlim(-1.5,1.5)\n",
    "ax.view_init(elev=30, azim=30)\n",
    "plt.show()"
   ]
  },
  {
   "cell_type": "markdown",
   "metadata": {},
   "source": [
    "## Animation\n",
    "\n",
    "utilisation de la bibliothéque **matplotlib.animation** et de la fonction\n",
    "* **FuncAnimation**(figure,animate,init_func=init,frames=n,interval=pas,blit=True)\n",
    "\n",
    "**principe:** on génère n images avec une fonction utilisateur **animate**(i) (i numéro de l'image), et on obtiens une vidéo avec un délai de pas millisecondes entre l'appel de la fonction.\n",
    "La fonction utilisateur **init()** permet une initialisation de la séquence.\n",
    "\n",
    "### Exemple d'animation"
   ]
  },
  {
   "cell_type": "code",
   "execution_count": null,
   "metadata": {},
   "outputs": [],
   "source": [
    "import numpy as np\n",
    "from matplotlib import animation\n",
    "# tracer d'une onde sin(x)/x*cos(omega*t)\n",
    "L=4*np.pi\n",
    "X=np.linspace(-L,L,100)\n",
    "Y=np.sin(X)/X\n",
    "omega=1.0\n",
    "T=4*np.pi # periode d'étude\n",
    "N=100\n",
    "dt=T/(N-1)\n",
    "# initialise la figure et les axes\n",
    "fig = plt.figure(figsize=(10,6))\n",
    "ax  = plt.axes(xlim=(-L, L), ylim=(-1, 1))\n",
    "ax.set_title(\"Evolution en temps d'une onde\")\n",
    "line, = ax.plot([], [], lw=2)\n",
    "# initialise les données\n",
    "def init():\n",
    "    global line\n",
    "    line.set_data([], [])\n",
    "    return line,\n",
    "# fonction animation : i numero d'image\n",
    "def animate(i):\n",
    "    global dt,omega,T,line\n",
    "    t=i*dt\n",
    "    line.set_data(X, Y*np.cos(omega*t))\n",
    "    return line,\n",
    "# animation\n",
    "anim = animation.FuncAnimation(fig, animate, init_func=init,\n",
    "                               frames=100, interval=20, blit=True,repeat=False)\n",
    "# sauvegarde la video dans le fichier mon_animation.mp4 à 30 images/sec\n",
    "anim.save('mon_animation.mp4', fps=30, extra_args=['-vcodec', 'libx264'])"
   ]
  },
  {
   "cell_type": "markdown",
   "metadata": {},
   "source": [
    "### Remarques\n",
    "\n",
    "* notez la virgule dans la ligne return des fonctions animate et init: elle est obligatoire car on retourne une liste\n",
    "\n",
    "* la fonction save utilise un programme externe pour générer la vidéo: ffmepg qui doit donc être installé pour pouvoir l'utiliser\n",
    "\n",
    "* en interactif on peut utiliser plt.show() pour afficher l'animation sous python"
   ]
  },
  {
   "cell_type": "code",
   "execution_count": null,
   "metadata": {},
   "outputs": [],
   "source": [
    "%%bash\n",
    "ls -al *mp4"
   ]
  },
  {
   "cell_type": "markdown",
   "metadata": {},
   "source": [
    "### Visualisation de l'animation"
   ]
  },
  {
   "cell_type": "code",
   "execution_count": null,
   "metadata": {},
   "outputs": [],
   "source": [
    "from IPython.display import HTML\n",
    "HTML(anim.to_html5_video())"
   ]
  },
  {
   "cell_type": "markdown",
   "metadata": {},
   "source": [
    "## FIN de la leçon"
   ]
  },
  {
   "cell_type": "markdown",
   "metadata": {},
   "source": [
    "\n",
    "<img src=\"Figures/plot3d.png\" alt=\"plot3d\" width=\"300px\"/>\n"
   ]
  }
 ],
 "metadata": {
  "kernelspec": {
   "display_name": "Python 3",
   "language": "python",
   "name": "python3"
  },
  "language_info": {
   "codemirror_mode": {
    "name": "ipython",
    "version": 3
   },
   "file_extension": ".py",
   "mimetype": "text/x-python",
   "name": "python",
   "nbconvert_exporter": "python",
   "pygments_lexer": "ipython3",
   "version": "3.8.10"
  },
  "toc": {
   "base_numbering": 1,
   "nav_menu": {},
   "number_sections": true,
   "sideBar": true,
   "skip_h1_title": true,
   "title_cell": "Contenu du chapitre",
   "title_sidebar": "Contenu",
   "toc_cell": false,
   "toc_position": {},
   "toc_section_display": true,
   "toc_window_display": false
  }
 },
 "nbformat": 4,
 "nbformat_minor": 1
}
