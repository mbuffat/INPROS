{
 "cells": [
  {
   "cell_type": "markdown",
   "metadata": {},
   "source": [
    "# Introduction \n",
    "\n",
    "<img src=\"Figures/logo_trans.png\" width=\"180px\" alt=\"LyonHPC\" />\n",
    "\n",
    "<img src=\"Figures/cloud_intro.png\" alt=\"sommaire\" width=\"300px\"/>\n"
   ]
  },
  {
   "cell_type": "markdown",
   "metadata": {
    "toc": true
   },
   "source": [
    "<h1>Contenu du chapitre<span class=\"tocSkip\"></span></h1>\n",
    "<div class=\"toc\"><ul class=\"toc-item\"><li><span><a href=\"#Format-du-cours\" data-toc-modified-id=\"Format-du-cours-1\"><span class=\"toc-item-num\">1&nbsp;&nbsp;</span>Format du cours</a></span></li><li><span><a href=\"#Que-peut-on-faire-avec-un-ordinateur-?\" data-toc-modified-id=\"Que-peut-on-faire-avec-un-ordinateur-?-2\"><span class=\"toc-item-num\">2&nbsp;&nbsp;</span>Que peut-on faire avec un ordinateur ?</a></span></li><li><span><a href=\"#Utilité-d'un-ordinateur-en-Science?\" data-toc-modified-id=\"Utilité-d'un-ordinateur-en-Science?-3\"><span class=\"toc-item-num\">3&nbsp;&nbsp;</span>Utilité d'un ordinateur en Science?</a></span><ul class=\"toc-item\"><li><span><a href=\"#Modélisation-numérique\" data-toc-modified-id=\"Modélisation-numérique-3.1\"><span class=\"toc-item-num\">3.1&nbsp;&nbsp;</span>Modélisation numérique</a></span></li><li><span><a href=\"#Méthode\" data-toc-modified-id=\"Méthode-3.2\"><span class=\"toc-item-num\">3.2&nbsp;&nbsp;</span>Méthode</a></span></li><li><span><a href=\"#Programmation-sous-Python\" data-toc-modified-id=\"Programmation-sous-Python-3.3\"><span class=\"toc-item-num\">3.3&nbsp;&nbsp;</span>Programmation sous Python</a></span></li></ul></li><li><span><a href=\"#Algorithme\" data-toc-modified-id=\"Algorithme-4\"><span class=\"toc-item-num\">4&nbsp;&nbsp;</span>Algorithme</a></span><ul class=\"toc-item\"><li><span><a href=\"#Quelques-repères-historiques\" data-toc-modified-id=\"Quelques-repères-historiques-4.1\"><span class=\"toc-item-num\">4.1&nbsp;&nbsp;</span><a href=\"#ici031\" rel=\"nofollow\">Quelques repères historiques</a><a id=\"ici031\" rel=\"nofollow\"></a></a></span></li></ul></li><li><span><a href=\"#Python-langage-de-programmation-scientifique\" data-toc-modified-id=\"Python-langage-de-programmation-scientifique-5\"><span class=\"toc-item-num\">5&nbsp;&nbsp;</span>Python langage de programmation scientifique</a></span><ul class=\"toc-item\"><li><span><a href=\"#Historique\" data-toc-modified-id=\"Historique-5.1\"><span class=\"toc-item-num\">5.1&nbsp;&nbsp;</span>Historique</a></span></li><li><span><a href=\"#Propriétés\" data-toc-modified-id=\"Propriétés-5.2\"><span class=\"toc-item-num\">5.2&nbsp;&nbsp;</span>Propriétés</a></span></li><li><span><a href=\"#Le-Zen-de-Python\" data-toc-modified-id=\"Le-Zen-de-Python-5.3\"><span class=\"toc-item-num\">5.3&nbsp;&nbsp;</span>Le Zen de Python</a></span></li><li><span><a href=\"#traduction-de-Cécile-Trevian-et-Bob-Cordeau\" data-toc-modified-id=\"traduction-de-Cécile-Trevian-et-Bob-Cordeau-5.4\"><span class=\"toc-item-num\">5.4&nbsp;&nbsp;</span>traduction de Cécile Trevian et <a href=\"http://perso.limsi.fr/pointal/python:courspython3\" rel=\"nofollow\" target=\"_blank\">Bob Cordeau</a></a></span></li></ul></li><li><span><a href=\"#Objectifs-du-cours\" data-toc-modified-id=\"Objectifs-du-cours-6\"><span class=\"toc-item-num\">6&nbsp;&nbsp;</span>Objectifs du cours</a></span></li><li><span><a href=\"#Fin-de-la-leçon\" data-toc-modified-id=\"Fin-de-la-leçon-7\"><span class=\"toc-item-num\">7&nbsp;&nbsp;</span>Fin de la leçon</a></span></li></ul></div>"
   ]
  },
  {
   "cell_type": "code",
   "execution_count": null,
   "metadata": {},
   "outputs": [],
   "source": [
    "%matplotlib inline\n",
    "import numpy as np\n",
    "import matplotlib.pyplot as plt\n",
    "from IPython.display import HTML,display,Markdown\n",
    "from IPython.display import YouTubeVideo"
   ]
  },
  {
   "cell_type": "markdown",
   "metadata": {},
   "source": [
    "## Format du cours\n",
    "\n",
    "- Utilise un document écrit interactif (*IPython notebook*)\n",
    "avec du texte, des diagrammes, des exemples de code\n",
    "et des programmes interactifs\n",
    "   - Vidéo, notes de cours en PDF , notebook en HTML\n",
    "- A la fin de chaque leçon de cours: quiz et exercices en ligne\n",
    "- La programmation s'apprend en pratiquant !!\n",
    "- Cours basé sur des exemples\n",
    "\n",
    "<img src=\"Figures/exemples.png\" width=\"400px\"/>"
   ]
  },
  {
   "cell_type": "code",
   "execution_count": null,
   "metadata": {},
   "outputs": [],
   "source": [
    "display(Markdown(\"**Video du cours: introduction à la simulation scientifique**\"))\n",
    "YouTubeVideo('o-RdTDVbF3E')"
   ]
  },
  {
   "cell_type": "markdown",
   "metadata": {},
   "source": [
    "## Que peut-on faire avec un ordinateur ?\n",
    "\n",
    "**Équation de base des ordinateurs (Nick Parlante)**\n",
    ">**Ordinateur = <font color='red'>Puissance</font> + <font color='green'>Stupidité</font>**\n",
    "\n",
    "- <font color='red'>**puissance**:</font>\n",
    "un ordinateur peut traiter des masses de données en exécutant des milliards d'opérations par seconde.\n",
    "- <font color='green'>**stupidité**:</font> mais les opérations sont simples et mécaniques et l'ordinateur ne possède aucune capacité d'analyse.\n",
    "- <font color='blue'>**l'intelligence**:</font> vient du programme, c'est à dire de l'être humain !\n",
    "\n",
    "\"*The effective exploitation of his powers of abstraction must be regarded as one of the most vital activities of a competent programmer*\" (Edsger W. Dijkstra)\n",
    "\n",
    "Les ordinateurs sont cependant extrêmement utiles. \n",
    "Mais toute l'intelligence est dans le logiciel, d'où *l'importance de connaître les principes de la programmation* pour maîtriser l'outil informatique, particulièrement en science.\n",
    "\n",
    "Les ordinateurs actuels ne sont pas les ordinateurs **HAL 9000** (Heuristically programmed ALgorithmic computer), imaginés par de Stanley Kubrick dans *l'odyssée de l'espace* \n",
    "\n",
    "\n",
    "<img src=\"Figures/odysse1.jpeg\" width=\"350px\" alt=\"odyssée de l'espace\"/>\n",
    "\n",
    "<img src=\"Figures/odysse2.png\" width=\"300px\" alt=\"odyssée de l'espace\"/>\n"
   ]
  },
  {
   "cell_type": "markdown",
   "metadata": {},
   "source": [
    "## Utilité d'un ordinateur en Science?"
   ]
  },
  {
   "cell_type": "markdown",
   "metadata": {},
   "source": [
    "Un ordinateur exécute très rapidement des instructions élémentaires codées en binaire: $\\approx 4*6000$ MIPS ou bogoMIPS (millions d'instruction par seconde) sur un ordinateur de bureau (Intel Core I5 4 coeurs). Et il les exécute de façon mécanique."
   ]
  },
  {
   "cell_type": "markdown",
   "metadata": {},
   "source": [
    "**Question:**  Comment peut-on utiliser un ordinateur pour simuler un problème physique ?\n",
    "\n",
    "Par exemple calculer le mouvement d'un pendule simple, puisque l'ordinateur ne connaît ni la mécanique, ni les équations, ni les méthodes de résolutions de ces équations !\n",
    "\n",
    "### Modélisation numérique\n",
    "\n",
    "<img src=\"Figures/programmation1.png\" alt=\"Programmation\" width=\"400px\"/>\n",
    "\n",
    "### Méthode\n",
    "le scientifique imagine un algorithme pour résoudre le problème de façon mécanique, et le traduit ensuite dans un langage de programmation pour être exécuté par un ordinateur. Il peut ensuite faire l'étude paramétrique du problème comme avec une expérience.\n",
    "\n",
    "**Problème physique**\n",
    "\n",
    "<img src=\"Figures/penduleschema.png\" alt=\"Physique\" width=\"200px\"/> \n",
    "\n",
    "**Modèle mathématique** \n",
    " \n",
    " $$ m l \\frac{d^2 \\theta}{d t^2} = m g \\sin(\\theta) $$ \n",
    " $$ Y = [ \\theta, \\frac{d \\theta}{dt} ] $$     \n",
    " $$ Y_0=[\\theta_0, 0]$$\n",
    " \n",
    " $$ \\frac{d Y}{dt} = F(Y,t) $$     \n",
    "\n",
    "    \n",
    "**Algorithme RK2** <br>\n",
    "\n",
    "    Y = Y0\n",
    "    Pour i de 1 a n\n",
    "        Y1 = Y + 0.5 * dt *F(Y,t)\n",
    "        Y = Y +  dt *F(Y1,t+dt/2)\n",
    "        t=t+dt\n",
    "    Fin Pour\n"
   ]
  },
  {
   "cell_type": "markdown",
   "metadata": {},
   "source": [
    "### Programmation sous Python"
   ]
  },
  {
   "cell_type": "code",
   "execution_count": null,
   "metadata": {},
   "outputs": [],
   "source": [
    "import numpy as np\n",
    "from anim_pendule import Trace\n",
    "# parametres\n",
    "g, l = 9.81, 1.\n",
    "omega = np.sqrt(g/l)\n",
    "#  second membre de l'EDO\n",
    "def F(Y):\n",
    "    return np.array([Y[1], -omega**2*np.sin(Y[0])])\n",
    "# condition initiale: angle à t=0\n",
    "theta0 = 0.5*np.pi\n",
    "Y = np.array([theta0, 0.])\n",
    "# n=nbre points par période, etude sur 3 periodes\n",
    "n = 128\n",
    "dt = 2 * np.pi / omega / n\n",
    "N = 3 * n\n",
    "# calcul solution theta\n",
    "t = np.zeros(N)\n",
    "theta = np.zeros(N)\n",
    "theta[0] = theta0\n",
    "# boucle d'intégration en temps\n",
    "for i in range(1, N):\n",
    "    t[i] = t[i-1] + dt\n",
    "    Y1 = Y + 0.5 * dt * F(Y)\n",
    "    Y = Y + dt * F(Y1)\n",
    "    theta[i] = Y[0]\n",
    "# trace et animation\n",
    "anim=Trace(l,theta,t)"
   ]
  },
  {
   "cell_type": "code",
   "execution_count": null,
   "metadata": {},
   "outputs": [],
   "source": [
    "HTML(anim.to_html5_video())"
   ]
  },
  {
   "cell_type": "markdown",
   "metadata": {},
   "source": [
    "## Algorithme\n",
    "\n",
    "<img src=\"Figures/Euclid_2.jpg\" width=\"150px\" alt=\"Euclide\"/>\n",
    "<img src=\"Figures/Euclide.png\"  width=\"200px\" alt=\"Algorithme\"/> \n",
    "<img src=\"Figures/al-khawarizmi.jpg\" width=\"80px\" alt=\"al-Khwarizmi\"/>"
   ]
  },
  {
   "cell_type": "markdown",
   "metadata": {},
   "source": [
    "*Un algorithme est une suite finie et non ambigüe d’opérations ou d'instructions permettant de résoudre un problème*. Les algorithmes sont connus depuis l'antiquité (Euclide). \n",
    "\n",
    "Le mot **algorithme** vient du nom du mathématicien perse du 9ième siècle (AJC) *Abu Abdullah Muhammad ibn Musa al-Khwarizmi*. L'algorithmique correspond à la phase préparatoire avant une quelconque programmation. Elle permet de décrire un problème sous une forme que l'on peut ensuite programmer sur un ordinateur et ceci dans un langage naturel, indépendant d'un langage de programmation. \n",
    "\n",
    "> **algorithme numérique**  suite finie et non ambiguë d’opérations ou d'instructions sur des nombres permettant de résoudre un problème.\n",
    "\n",
    "Et il n'est pas nécessaire d'avoir un ordinateur pour exécuter un algorithme (machine de Turing inventé en 1936 avant l’ordinateur)!\n",
    "\n",
    "### <a href=\"#ici031\">Quelques repères historiques</a><a id=\"ici031\"></a>\n",
    "\n",
    "- Boulier (12e siècle): 1er abaque (dans # civilisations)\n",
    "- Pascaline (1642): 1ere machine à calculer mécanique\n",
    "- Arithmométre (1820) (cylindre de Leibnitz 1706)\n",
    "- Principe d'un ordinateur (Babbage 1834): machine analytique à partir de cartes perforées\n",
    "- Première définition d'un ordinateur (machine de Turing 1936)\n",
    "- Premier ordinateur à lampe ENIAC (1943)\n",
    "- Premier ordinateur à base de transistors IBM 7000 (1960)\n",
    "- Création d'Internet (Arpanet 1969)\n",
    "- Premier micro-ordinateur: Micral et Altair 8000 (1973)\n",
    "- Micro-ordinateurs personnels : Apple (1976), IBM PC (1981)\n",
    "- Loi de Moore (1965) : doublement de la puissance des ordinateurs tous les 18 mois\n",
    "- Naissance du système Linux (Linus Torvalds 1991)\n",
    "- Supercalculateur Curie (2012) $10^{10}$ fois plus puissant qu'un IBM PC de 1981\n",
    "\n",
    "**Puissance de calcul de Curie**  en 1s $\\equiv 10^{15} flops $ (peta flops) $\\approx$  calcul pendant 48h de la population du globe équipée de boulier  \n",
    "\n",
    "<img src=\"Figures/histoireinfo.png\" alt=\"histoire des ordinateurs\" width=\"500px\"/>\n"
   ]
  },
  {
   "cell_type": "markdown",
   "metadata": {},
   "source": [
    "## Python langage de programmation scientifique\n",
    "<img src=\"Figures/zen-of-python.png\" width=\"150px\"/>"
   ]
  },
  {
   "cell_type": "code",
   "execution_count": null,
   "metadata": {},
   "outputs": [],
   "source": [
    "display(Markdown(\"**Video du cours: introduction au langage Python**\"))\n",
    "YouTubeVideo('OkIroRFkNxQ')"
   ]
  },
  {
   "cell_type": "markdown",
   "metadata": {},
   "source": [
    "\n",
    "### Historique\n",
    "\n",
    "Créé en 1989 par Guido van Rossum\n",
    "\n",
    "- « Benevolent Dictator For Life » (BDFL)\n",
    "- **Gratuit, libre et multi-plateformes (portable)** \n",
    "- Le nom provient de la série britannique \n",
    " - «Monty Python’s Flying Circus» (voir [http://fr.wikipedia.org/wiki/Monty_Python])\n",
    "\n",
    "\n",
    "<img src=\"Figures/ungood-guido-van-rossum.jpeg\"  width=\"200px\" alt=\"Guido_van_Rossum\"/>\n",
    "<img src=\"Figures/python.png\" width=\"200px\" alt=\"Python\"/>\n",
    "<img src=\"Figures/Monty-python-flying-circus-theredlist.jpg\" width=\"150px\" alt=\"Monty-python\"/>\n",
    "\n",
    "\n",
    "### Propriétés\n",
    "\n",
    "- Langage **interprété** (facile à utiliser)\n",
    "- **Usage général**: on peut tout faire\n",
    "    - interfaces graphiques\n",
    "    - calcul scientifique\n",
    "    - applications webs\n",
    "    - base de données\n",
    "    - etc. \n",
    "- **Vaste librairie de modules** (bibliothèques)\n",
    "- **Syntaxe cohérente** \n",
    "    - Langage orienté objet \n",
    "    - Langage fonctionnel \n",
    "- **Facile** à apprendre / agréable à utiliser \n",
    "- Excellent premier langage de programmation\n",
    "- **Interfaçage facile** avec les autres langages (C/C++, Fortran, Java) \n",
    "- **Défauts ?**\n",
    "    - selon les circonstances, les programmes écrits en Python peuvent comporter des problèmes de performance \n",
    "    - mais c’est le cas de tous les langages interprétés"
   ]
  },
  {
   "cell_type": "markdown",
   "metadata": {},
   "source": [
    "### Le Zen de Python \n",
    "\n",
    "<img src=\"Figures/zen.png\" width=\"100px\" />\n",
    "\n",
    "Voici 19 règles de programmation Python d'après le BDFL, que l'on trouve sur tout interpréteur python en tapant"
   ]
  },
  {
   "cell_type": "code",
   "execution_count": null,
   "metadata": {},
   "outputs": [],
   "source": [
    "import this"
   ]
  },
  {
   "cell_type": "markdown",
   "metadata": {},
   "source": [
    "### traduction de Cécile Trevian et [Bob Cordeau](http://perso.limsi.fr/pointal/python:courspython3)\n",
    "\n",
    "1. Préfère la beauté à la laideur,\n",
    "- Préfère l’explicite à l’implicite,\n",
    "- Préfère le simple au complexe\n",
    "- Préfère le complexe au compliqué,\n",
    "- Préfère le déroulé à l’imbriqué,\n",
    "- Préfère l’aéré au compact.\n",
    "- Prends en compte la lisibilité.\n",
    "- Les cas particuliers ne le sont jamais assez pour violer les règles.\n",
    "- Mais, à la pureté, privilégie l’aspect pratique.\n",
    "- Ne passe pas les erreurs sous silence, ou bâillonne-les explicitement.\n",
    "- Face à l’ambiguïté, à deviner ne te laisse pas aller.\n",
    "- Sache qu’il ne devrait avoir qu’une et une seule façon de procéder, même si, de prime abord, elle n’est pas évidente, à moins d’être Néerlandais.\n",
    "- Mieux vaut maintenant que jamais.\n",
    "- Cependant jamais est souvent mieux qu’immédiatement.\n",
    "- Si l’implémentation s’explique difficilement, c’est une mauvaise idée.\n",
    "- Si l’implémentation s’explique aisément, c’est peut-être une bonne idée.\n",
    "- Les espaces de nommage! Sacrée bonne idée! Faisons plus de trucs comme ça."
   ]
  },
  {
   "cell_type": "markdown",
   "metadata": {},
   "source": [
    "## Objectifs du cours\n",
    "\n",
    "- A la fin de ce cours, vous serez capable d'écrire des programmes à partir d'algorithmes pour résoudre des problèmes scientifiques.\n",
    "<img src=\"Figures/exemples.png\" style=\"display:center; width:200px;\"/>\n",
    "- Vous maîtriserez les bases du langage de programmation **Python** pour faire du calcul scientifique.\n",
    "\n",
    "- Attention: certains aspects du langage Python ne seront pas traités.\n",
    "\n",
    "- Mais n'oubliez pas, la programmation, si elle peut être une science ou un art, peut aussi être **ludique**. \n",
    "\n",
    ">*\"Most good programmers do programming not because they expect to get paid or get adulation by the public, but because it is fun to program\".*\n",
    "\n",
    "Linus Torvalds (créateur de Linux)\n",
    "\n",
    "\n",
    "<img src=\"Figures/LinuxFun.png\" width=\"200px\" alt=\"Linux\"/>\n",
    "<img src=\"Figures/linus.jpg\" width=\"100px\" alt=\"Linux\"/>\n",
    "<img src=\"Figures/steam_linux.png\" width=\"180px\" alt=\"Linux\"/>\n"
   ]
  },
  {
   "cell_type": "markdown",
   "metadata": {},
   "source": [
    "## Fin de la leçon\n",
    "\n",
    "<img src=\"Figures/cloud_intro.png\" alt=\"sommaire\" width=\"4000px\"/>\n"
   ]
  },
  {
   "cell_type": "code",
   "execution_count": null,
   "metadata": {},
   "outputs": [],
   "source": []
  }
 ],
 "metadata": {
  "hide_input": false,
  "kernelspec": {
   "display_name": "Python 3",
   "language": "python",
   "name": "python3"
  },
  "language_info": {
   "codemirror_mode": {
    "name": "ipython",
    "version": 3
   },
   "file_extension": ".py",
   "mimetype": "text/x-python",
   "name": "python",
   "nbconvert_exporter": "python",
   "pygments_lexer": "ipython3",
   "version": "3.8.10"
  },
  "toc": {
   "base_numbering": 1,
   "nav_menu": {},
   "number_sections": true,
   "sideBar": true,
   "skip_h1_title": true,
   "title_cell": "Contenu du chapitre",
   "title_sidebar": "Contenu",
   "toc_cell": true,
   "toc_position": {
    "height": "calc(100% - 180px)",
    "left": "10px",
    "top": "150px",
    "width": "307.2px"
   },
   "toc_section_display": true,
   "toc_window_display": true
  }
 },
 "nbformat": 4,
 "nbformat_minor": 1
}
