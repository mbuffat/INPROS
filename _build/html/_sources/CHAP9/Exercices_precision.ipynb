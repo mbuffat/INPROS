{
 "cells": [
  {
   "cell_type": "markdown",
   "metadata": {},
   "source": [
    "<img width=\"180px\" src=\"Figures/logo_trans.png\" alt=\"LyonHPC\" />\n",
    "<img width=\"200px\" src=\"Figures/python-logo.gif\" alt=\"LyonHPC\"/>\n",
    "\n",
    "# Exercices\n"
   ]
  },
  {
   "cell_type": "code",
   "execution_count": null,
   "metadata": {},
   "outputs": [],
   "source": [
    "%matplotlib inline\n",
    "import numpy as np\n",
    "from IPython.display import HTML,display"
   ]
  },
  {
   "cell_type": "markdown",
   "metadata": {},
   "source": [
    "## Exercice: calcul de $\\pi$\n",
    "\n",
    "calcul de $\\pi$ en tant que limite de la surface d'un polygonne inscrit dans un cercle de rayon 1.\n",
    "\n",
    "<img src=\"cercle_poly.png\" width=\"300px\">\n",
    "\n",
    "Soit  $a_n$ \n",
    "l'aire du triangle $OAB$ avec $\\alpha = 2\\pi/n$\n",
    "\n",
    "$$ a_n = \\cos\\frac{\\alpha}{2}\\sin\\frac{\\alpha}{2} $$\n",
    "\n",
    "l'aire $A_n$ du polygone inscrit à  n cotés :\n",
    "\n",
    "$$ A_n = n a_n = \\frac{n}{2}\\sin\\frac{2\\pi}{n}$$\n",
    "\n",
    "et on a\n",
    "\n",
    "$$\\lim _{n\\rightarrow\\infty} A_n = \\pi $$\n",
    "\n",
    "Pour calculer $A_{2n}$,on exprime $s_{2n}=\\sin\\frac{2\\pi}{2n}$ en fonction de $s_n=\\sin\\frac{2\\pi}{n}$ en utilisant l'identité $(\\sin a)^2 = \\frac{ 1- cos(2a)}{2}$\n",
    "\n",
    "$$ A_{2n} = \\frac{n}{2} s_{2n} \\mbox{ avec } s_{2n} = \\sqrt{\\frac{1-\\sqrt{1-(s_n)^2}}{2}} $$ \n"
   ]
  },
  {
   "cell_type": "markdown",
   "metadata": {},
   "source": [
    "### Algorithme de base: calcul de la limite de An\n",
    "\n",
    "        n=4\n",
    "        s=1.0  # sin(2pi/n)\n",
    "        tant que s>eps faire\n",
    "            s = sqrt((1 - sqrt(1-s*s))/2)\n",
    "            n = 2*n\n",
    "            A = (n/2) * s"
   ]
  },
  {
   "cell_type": "markdown",
   "metadata": {},
   "source": [
    "Avec cette algorithme implémenter sur un ordinateur avec des réels en double précision la suite $A_n$ converve tout d'abord vers $\\pi$ puis tends vers 0 !!"
   ]
  },
  {
   "cell_type": "code",
   "execution_count": null,
   "metadata": {},
   "outputs": [],
   "source": [
    "# calcul de la suite An (version de base)\n",
    "n = 4\n",
    "s = 1.0\n",
    "eps = 1.0e-14\n",
    "while s > eps :\n",
    "    s = np.sqrt((1.-np.sqrt(1.-s*s))/2.)\n",
    "    n = 2*n\n",
    "    A = (n/2) *s\n",
    "    print(\"n=%10d\"%n,\" An=%15.10f\"%A,\" err=%15g\"%(A-np.pi))"
   ]
  },
  {
   "cell_type": "markdown",
   "metadata": {},
   "source": [
    "### amélioration de la précision\n",
    "\n",
    "Le problème vient du calcul de $1-\\sqrt{1-s^2}$ qui pour $s\\ll 1$ est peu précis !\n",
    "En utilisant la formule équivalente suivante, on améliore a précision:\n",
    "\n",
    "$$ 1-\\sqrt{1-s^2} = \\frac{s}{1 + \\sqrt{1-s^2}}$$"
   ]
  },
  {
   "cell_type": "code",
   "execution_count": null,
   "metadata": {},
   "outputs": [],
   "source": [
    "# calcul de la suite An (version précise)\n",
    "n = 4\n",
    "s = 1.0\n",
    "eps = 1.0e-14\n",
    "while s > eps :\n",
    "    s = s / np.sqrt(2*(1.+ np.sqrt(1.-s*s)))\n",
    "    n = 2*n\n",
    "    A = (n/2) *s\n",
    "    print(\"n=%16d\"%n,\" An=%20.18f\"%A,\" err=%15g\"%(A-np.pi))"
   ]
  },
  {
   "cell_type": "markdown",
   "metadata": {},
   "source": [
    "## FIN des exercices"
   ]
  },
  {
   "cell_type": "code",
   "execution_count": null,
   "metadata": {},
   "outputs": [],
   "source": []
  }
 ],
 "metadata": {
  "kernelspec": {
   "display_name": "Python 3",
   "language": "python",
   "name": "python3"
  },
  "language_info": {
   "codemirror_mode": {
    "name": "ipython",
    "version": 3
   },
   "file_extension": ".py",
   "mimetype": "text/x-python",
   "name": "python",
   "nbconvert_exporter": "python",
   "pygments_lexer": "ipython3",
   "version": "3.8.10"
  },
  "toc": {
   "base_numbering": 1,
   "nav_menu": {},
   "number_sections": true,
   "sideBar": true,
   "skip_h1_title": true,
   "title_cell": "Contenu du chapitre",
   "title_sidebar": "Contenu",
   "toc_cell": false,
   "toc_position": {},
   "toc_section_display": true,
   "toc_window_display": true
  }
 },
 "nbformat": 4,
 "nbformat_minor": 1
}
