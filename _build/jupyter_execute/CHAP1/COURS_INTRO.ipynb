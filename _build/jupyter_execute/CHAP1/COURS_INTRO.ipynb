{
 "cells": [
  {
   "cell_type": "markdown",
   "metadata": {},
   "source": [
    "# <a href=\"#ici000\">Introduction à la programmation scientifique</a><a id=\"ici000\" />"
   ]
  },
  {
   "cell_type": "code",
   "execution_count": null,
   "metadata": {},
   "outputs": [],
   "source": [
    "%matplotlib inline\n",
    "%autosave 300\n",
    "import numpy as np\n",
    "import matplotlib.pyplot as plt\n",
    "from IPython.display import HTML,display"
   ]
  },
  {
   "cell_type": "markdown",
   "metadata": {},
   "source": [
    "<div style=\"width:600px; overflow:auto;\">\n",
    "<center>\n",
    "<a href=\"#sommaire\"><img style=\" float:center; display:inline; width:180px;\" src=\"Figures/logo_trans.png\" alt=\"LyonHPC\" /></a>\n",
    "<img style=\" float:center; display:inline; width:180px;\" src=\"Figures/python-logo.gif\" alt=\"LyonHPC\"/>\n",
    "</center>\n",
    "</div>\n",
    "<img src=\"Figures/histoireinfo.png\" alt=\"histoire des ordinateurs\" style=\"width:250px; float:center;\"/>"
   ]
  },
  {
   "cell_type": "markdown",
   "metadata": {},
   "source": [
    "## <a href=\"#sommaire\">Contenu de la leçon</a><a name=\"sommaire\"/></a><a href=\"http://localhost:8888/notebooks/Plan.ipynb\"><img style=\" float:right; display:inline; width:120px;\" src=\"Figures/logo_trans.png\" alt=\"LyonHPC\" /></a>\n",
    "\n",
    "<h5>\n",
    "    \n",
    "1. <a href=\"#format\">Format du cours</a>\n",
    "    \n",
    "2. <a href=\"#ordinateur\">Que peut-on faire avec un ordinateur?</a>\n",
    "    \n",
    "3. <a href=\"#utilite\">Utilité d'un ordinateur en science?</a>\n",
    "    \n",
    "4. <a href=\"#algorithme\">L'algorithme: la base de la programmation</a>\n",
    "    \n",
    "5. <a href=\"#python\">Python comme langage de programmation</a>\n",
    "    \n",
    "6. <a href=\"#objectifs\">Objectifs du cours</a>\n",
    "</h5>"
   ]
  },
  {
   "cell_type": "markdown",
   "metadata": {},
   "source": [
    "<a href=\"#sommaire\"><img style=\" float:left\" src=\"Figures/go-home.png\"></a><a href=\"#format\"><img style=\" float:center\" src=\"Figures/go-next.png\"> </a>"
   ]
  },
  {
   "cell_type": "markdown",
   "metadata": {},
   "source": [
    "# <a href=\"#format\">Format du cours</a> <a id=\"format\"></a>\n",
    "\n",
    "- Utilise un document écrit interactif (*IPython notebook*)\n",
    "avec du texte, des diagrammes, des exemples de code\n",
    "et des programmes interactifs\n",
    "   - Vidéo, notes de cours en PDF , notebook en HTML\n",
    "- A la fin de chaque leçon de cours: quiz et exercices en ligne\n",
    "- La programmation s'apprend en pratiquant !!\n",
    "- Cours basé sur des exemples\n",
    "\n",
    "<img src=\"Figures/exemples.png\" style=\"width:180px;\"/>"
   ]
  },
  {
   "cell_type": "markdown",
   "metadata": {},
   "source": [
    "<a href=\"#sommaire\"><img style=\" float:left\" src=\"Figures/go-home.png\"></a><a href=\"#ordinateur\"><img style=\" float:center\" src=\"Figures/go-next.png\"> </a>"
   ]
  },
  {
   "cell_type": "markdown",
   "metadata": {},
   "source": [
    "# <a href=\"#ordinateur\">Que peut-on faire avec un ordinateur ?</a> <a id=\"ordinateur\"></a>\n",
    "\n",
    "**Équation de base des ordinateurs (Nick Parlante)**\n",
    ">**Ordinateur = <font color='red'>Puissance</font> + <font color='green'>Stupidité</font>**\n",
    "\n",
    "- <font color='red'>**puissance**:</font>\n",
    "un ordinateur peut traiter des masses de données en exécutant des milliards d'opérations par seconde.\n",
    "- <font color='green'>**stupidité**:</font> mais les opérations sont simples et mécaniques et l'ordinateur ne possède aucune capacité d'analyse.\n",
    "- <font color='blue'>**l'intelligence**:</font> vient du programme, c'est à dire de l'être humain !\n",
    "\n",
    "\"The effective exploitation of his powers of abstraction must be regarded as one of the most vital activities of a competent programmer\" (Edsger W. Dijkstra)\n",
    "\n",
    "Les ordinateurs sont cependant extrêmement utiles. \n",
    "Mais toute l'intelligence est dans le logiciel, d'où *l'importance de connaître les principes de la programmation* pour maîtriser l'outil informatique, particulièrement en science.\n",
    "\n",
    "Les ordinateurs actuels ne sont pas les ordinateurs **HAL 9000** (Heuristically programmed ALgorithmic computer), imaginés par de Stanley Kubrick dans *l'odyssée de l'espace* \n",
    "\n",
    "<center>\n",
    "<div style=\"width:600px; overflow:auto;\">\n",
    "<img style=\" float:left; display:inline; width:300px;\" src=\"Figures/odysse1.jpeg\" alt=\"odyssée de l'espace\"/>&nbsp;&nbsp;&nbsp;&nbsp;&nbsp;&nbsp;&nbsp;\n",
    "<img style=\" display:inline; width:240px;\"src=\"Figures/odysse2.png\" alt=\"odyssée de l'espace\"/>\n",
    "</div>\n",
    "</center>"
   ]
  },
  {
   "cell_type": "markdown",
   "metadata": {},
   "source": [
    "<a href=\"#sommaire\"><img style=\" float:left\" src=\"Figures/go-home.png\"></a><a href=\"#utilite\"><img style=\" float:center\" src=\"Figures/go-next.png\"> </a>"
   ]
  },
  {
   "cell_type": "markdown",
   "metadata": {},
   "source": [
    "# <a href=\"#utilite\">Utilité d'un ordinateur en Science?</a> <a id=\"utilite\"></a>"
   ]
  },
  {
   "cell_type": "markdown",
   "metadata": {},
   "source": [
    "Un ordinateur exécute très rapidement des instructions élémentaires codées en binaire: $\\approx 4*6000$ MIPS ou bogoMIPS (millions d'instruction par seconde) sur un ordinateur de bureau (Intel Core I5 4 coeurs). Et il les exécute de façon mécanique."
   ]
  },
  {
   "cell_type": "markdown",
   "metadata": {},
   "source": [
    "**Question:**  Comment peut-on utiliser un ordinateur pour simuler un problème physique ?\n",
    "\n",
    "Par exemple calculer le mouvement d'un pendule simple, puisque l'ordinateur ne connaît ni la mécanique, ni les équations, ni les méthodes de résolutions de ces équations !\n",
    "\n",
    "## <a href=\"#ici011\">Modélisation numérique</a><a id=\"ici011\" />\n",
    "\n",
    "<center><img src=\"Figures/programmation1.png\" alt=\"Programmation\" style=\"width:400px;\"/></center>\n",
    "\n",
    "###<a href=\"#ici012\">**méthode**</a><a id=\"ici012\"></a> \n",
    "le scientifique imagine un algorithme pour résoudre le problème de façon mécanique, et le traduit ensuite dans un langage de programmation pour être exécuté par un ordinateur. Il peut ensuite faire l'étude paramétrique du problème comme avec une expérience.\n",
    "\n",
    "\n",
    "<table>\n",
    "<tr>\n",
    " <td><img src=\"Figures/penduleschema.png\" alt=\"Physique\" style=\"width:200px;\"/> \n",
    " </td>\n",
    " <td style=\"vertical-align:top;\"> \n",
    " **Modèle mathématique** <br>\n",
    " \n",
    " $$ m l \\frac{d^2 \\theta}{d t^2} = m g \\sin(\\theta) $$ \n",
    " $$ Y = [ \\theta, \\frac{d \\theta}{dt} ] $$     \n",
    " $$ Y_0=[\\theta_0, 0]$$\n",
    " \n",
    " $$ \\frac{d Y}{dt} = F(Y,t) $$     \n",
    " </td>\n",
    " <td style=\"vertical-align:top;\">\n",
    "**Algorithme RK2** <br>\n",
    "\n",
    "Y = Y0<br>\n",
    "Pour i de 1 a n<br>\n",
    "&nbsp;&nbsp; Y1 = Y + 0.5 * dt *F(Y,t)<br>\n",
    "&nbsp;&nbsp; Y = Y +  dt *F(Y1,t+dt/2)<br>\n",
    "&nbsp;&nbsp; t=t+dt<br>\n",
    "Fin Pour<br>\n",
    " </td>\n",
    "</tr>\n",
    "</table>"
   ]
  },
  {
   "cell_type": "markdown",
   "metadata": {},
   "source": [
    "## <a href=\"#ici013\">programmation sous Python</a><a id=\"ici013\"></a>"
   ]
  },
  {
   "cell_type": "code",
   "execution_count": null,
   "metadata": {},
   "outputs": [],
   "source": [
    "import numpy as np\n",
    "from anim_pendule import Trace\n",
    "# parametres\n",
    "g, l = 9.81, 1.\n",
    "omega = np.sqrt(g/l)\n",
    "#  second membre de l'EDO\n",
    "def F(Y):\n",
    "    return np.array([Y[1], -omega**2*np.sin(Y[0])])\n",
    "# condition initiale: angle à t=0\n",
    "theta0 = 0.5*np.pi\n",
    "Y = np.array([theta0, 0.])\n",
    "# n=nbre points par période, etude sur 3 periodes\n",
    "n = 128\n",
    "dt = 2 * np.pi / omega / n\n",
    "N = 3 * n\n",
    "# calcul solution theta\n",
    "t = np.zeros(N)\n",
    "theta = np.zeros(N)\n",
    "theta[0] = theta0\n",
    "# boucle d'intégration en temps\n",
    "for i in range(1, N):\n",
    "    t[i] = t[i-1] + dt\n",
    "    Y1 = Y + 0.5 * dt * F(Y)\n",
    "    Y = Y + dt * F(Y1)\n",
    "    theta[i] = Y[0]\n",
    "# trace et animation\n",
    "anim=Trace(l,theta,t)"
   ]
  },
  {
   "cell_type": "code",
   "execution_count": null,
   "metadata": {},
   "outputs": [],
   "source": [
    "HTML(anim.to_html5_video())"
   ]
  },
  {
   "cell_type": "markdown",
   "metadata": {},
   "source": [
    "<a href=\"#sommaire\"><img style=\" float:left\" src=\"Figures/go-home.png\"></a><a href=\"#algorithme\"><img style=\" float:center\" src=\"Figures/go-next.png\"> </a>"
   ]
  },
  {
   "cell_type": "markdown",
   "metadata": {},
   "source": [
    "# <a href=\"#algorithme\">Algorithme</a> <a id=\"algorithme\"></a> \n",
    "<div style=\"width:600px; overflow:auto;\">\n",
    "<center>\n",
    "<img style=\" float:center; display:inline;width:150px;\" src=\"Figures/Euclid_2.jpg\" alt=\"Euclide\"/>\n",
    "<img style=\" float:center; display:inline;width:200px;\" src=\"Figures/Euclide.png\" alt=\"Algorithme\"/> \n",
    "<img style=\" float:center; display:inline; width:80px;\"\n",
    "src=\"Figures/al-khawarizmi.jpg\" alt=\"al-Khwarizmi\"/>\n",
    "</center>\n",
    "</div>"
   ]
  },
  {
   "cell_type": "markdown",
   "metadata": {},
   "source": [
    "*Un algorithme est une suite finie et non ambigüe d’opérations ou d'instructions permettant de résoudre un problème*. Les algorithmes sont connus depuis l'antiquité (Euclide). \n",
    "\n",
    "Le mot **algorithme** vient du nom du mathématicien perse du 9ième siècle (AJC) *Abu Abdullah Muhammad ibn Musa al-Khwarizmi*. L'algorithmique correspond à la phase préparatoire avant une quelconque programmation. Elle permet de décrire un problème sous une forme que l'on peut ensuite programmer sur un ordinateur et ceci dans un langage naturel, indépendant d'un langage de programmation. \n",
    "\n",
    "> **algorithme numérique**  suite finie et non ambiguë d’opérations ou d'instructions sur des nombres permettant de résoudre un problème.\n",
    "\n",
    "Et il n'est pas nécessaire d'avoir un ordinateur pour exécuter un algorithme (machine de Turing inventé en 1936 avant l’ordinateur)!\n",
    "\n",
    "### <a href=\"#ici031\">Quelques repères historiques</a><a id=\"ici031\"></a>\n",
    "\n",
    "- Boulier (12e siècle): 1er abaque (dans # civilisations)\n",
    "- Pascaline (1642): 1ere machine à calculer mécanique\n",
    "- Arithmométre (1820) (cylindre de Leibnitz 1706)\n",
    "- Principe d'un ordinateur (Babbage 1834): machine analytique à partir de cartes perforées\n",
    "- Première définition d'un ordinateur (machine de Turing 1936)\n",
    "- Premier ordinateur à lampe ENIAC (1943)\n",
    "- Premier ordinateur à base de transistors IBM 7000 (1960)\n",
    "- Création d'Internet (Arpanet 1969)\n",
    "- Premier micro-ordinateur: Micral et Altair 8000 (1973)\n",
    "- Micro-ordinateurs personnels : Apple (1976), IBM PC (1981)\n",
    "- Loi de Moore (1965) : doublement de la puissance des ordinateurs tous les 18 mois\n",
    "- Naissance du système Linux (Linus Torvalds 1991)\n",
    "- Supercalculateur Curie (2012) $10^{10}$ fois plus puissant qu'un IBM PC de 1981\n",
    "\n",
    "**Puissance de calcul de Curie**  en 1s $\\equiv 10^{15} flops $ (peta flops) $\\approx$  calcul pendant 48h de la population du globe équipée de boulier  \n",
    "\n",
    "<center>\n",
    "<img src=\"Figures/histoireinfo.png\" alt=\"histoire des ordinateurs\" style=\"width:400px;\"/>\n",
    "</center>"
   ]
  },
  {
   "cell_type": "markdown",
   "metadata": {},
   "source": [
    "<a href=\"#sommaire\"><img style=\" float:left\" src=\"Figures/go-home.png\"></a><a href=\"#python\"><img style=\" float:center\" src=\"Figures/go-next.png\"> </a>"
   ]
  },
  {
   "cell_type": "markdown",
   "metadata": {},
   "source": [
    "# <a href=\"#python\">Python langage de programmation scientifique</a> <a id=\"python\"></a>\n",
    "<img src=\"Figures/zen-of-python.png\" style=\"width:150px;\"/>\n",
    "\n",
    "## <a href=\"#ici041\">Historique</a><a id=\"ici041\"></a>\n",
    "\n",
    "Créé en 1989 par Guido van Rossum\n",
    "\n",
    "- « Benevolent Dictator For Life » (BDFL)\n",
    "- **Gratuit, libre et multi-plateformes (portable)** \n",
    "- Le nom provient de la série britannique \n",
    " - «Monty Python’s Flying Circus» (voir [http://fr.wikipedia.org/wiki/Monty_Python])\n",
    "<center>\n",
    "<div style=\"width:600px; overflow:auto;\">\n",
    "<img style=\" float:left; display:inline; width:200px;\" src=\"Figures/ungood-guido-van-rossum.jpeg\" alt=\"Guido_van_Rossum\"/>\n",
    "<img style=\" float:left; display:inline; width:200px;\" src=\"Figures/python.png\" alt=\"Python\"/>\n",
    "<img style=\" float:left; display:inline; width:150px;\" src=\"Figures/Monty-python-flying-circus-theredlist.jpg\" alt=\"Monty-python\"/>\n",
    "</div>\n",
    "</center>\n",
    "\n",
    "## <a href=\"#ici042\">Propriétés</a><a id=\"ici042\"></a>\n",
    "\n",
    "- Langage **interprété** (facile à utiliser)\n",
    "- **Usage général**: on peut tout faire\n",
    "    - interfaces graphiques\n",
    "    - calcul scientifique\n",
    "    - applications webs\n",
    "    - base de données\n",
    "    - etc. \n",
    "- **Vaste librairie de modules** (bibliothèques)\n",
    "- **Syntaxe cohérente** \n",
    "    - Langage orienté objet \n",
    "    - Langage fonctionnel \n",
    "- **Facile** à apprendre / agréable à utiliser \n",
    "- Excellent premier langage de programmation\n",
    "- **Interfaçage facile** avec les autres langages (C/C++, Fortran, Java) \n",
    "- **Défauts ?**\n",
    "    - selon les circonstances, les programmes écrits en Python peuvent comporter des problèmes de performance \n",
    "    - mais c’est le cas de tous les langages interprétés"
   ]
  },
  {
   "cell_type": "markdown",
   "metadata": {},
   "source": [
    "## <a href=\"#ici045\">Le Zen de Python</a><a id=\"ici045\"></a> <img style=\"display:inline; width:40px;\" src=\"Figures/zen.png\" />\n",
    "\n",
    "Voici 19 règles de programmation Python d'après le BDFL, que l'on trouve sur tout interpréteur python en tapant"
   ]
  },
  {
   "cell_type": "code",
   "execution_count": null,
   "metadata": {},
   "outputs": [],
   "source": [
    "import this"
   ]
  },
  {
   "cell_type": "markdown",
   "metadata": {},
   "source": [
    "## traduction de Cécile Trevian et [Bob Cordeau](http://perso.limsi.fr/pointal/python:courspython3)\n",
    "\n",
    "1. Préfère la beauté à la laideur,\n",
    "- Préfère l’explicite à l’implicite,\n",
    "- Préfère le simple au complexe\n",
    "- Préfère le complexe au compliqué,\n",
    "- Préfère le déroulé à l’imbriqué,\n",
    "- Préfère l’aéré au compact.\n",
    "- Prends en compte la lisibilité.\n",
    "- Les cas particuliers ne le sont jamais assez pour violer les règles.\n",
    "- Mais, à la pureté, privilégie l’aspect pratique.\n",
    "- Ne passe pas les erreurs sous silence, ou bâillonne-les explicitement.\n",
    "- Face à l’ambiguïté, à deviner ne te laisse pas aller.\n",
    "- Sache qu’il ne devrait avoir qu’une et une seule façon de procéder, même si, de prime abord, elle n’est pas évidente, à moins d’être Néerlandais.\n",
    "- Mieux vaut maintenant que jamais.\n",
    "- Cependant jamais est souvent mieux qu’immédiatement.\n",
    "- Si l’implémentation s’explique difficilement, c’est une mauvaise idée.\n",
    "- Si l’implémentation s’explique aisément, c’est peut-être une bonne idée.\n",
    "- Les espaces de nommage! Sacrée bonne idée! Faisons plus de trucs comme ça."
   ]
  },
  {
   "cell_type": "markdown",
   "metadata": {},
   "source": [
    "<a href=\"#sommaire\"><img style=\" float:left\" src=\"Figures/go-home.png\"></a><a href=\"#objectifs\"><img style=\" float:center\" src=\"Figures/go-next.png\"> </a>"
   ]
  },
  {
   "cell_type": "markdown",
   "metadata": {},
   "source": [
    "# <a href=\"#objectifs\">Objectifs du cours</a><a id=\"objectifs\"></a>\n",
    "\n",
    "- A la fin de ce cours, vous serez capable d'écrire des programmes à partir d'algorithmes pour résoudre des problèmes scientifiques.\n",
    "<img src=\"Figures/exemples.png\" style=\"display:center; width:200px;\"/>\n",
    "- Vous maîtriserez les bases du langage de programmation **Python** pour faire du calcul scientifique.\n",
    "\n",
    "- Attention: certains aspects du langage Python ne seront pas traités.\n",
    "\n",
    "- Mais n'oubliez pas, la programmation, si elle peut être une science ou un art, peut aussi être **ludique**. \n",
    "\n",
    ">*\"Most good programmers do programming not because they expect to get paid or get adulation by the public, but because it is fun to program\".*\n",
    "\n",
    "Linus Torvalds (créateur de Linux)\n",
    "\n",
    "<center>\n",
    "<div style=\"width:600px; overflow:auto;\">\n",
    "<img style=\" float:left; display:inline; width:200px;\" src=\"Figures/LinuxFun.png\" alt=\"Linux\"/>&nbsp;&nbsp;&nbsp;&nbsp;\n",
    "<img style=\" display:inline; width:100px;\" src=\"Figures/linus.jpg\" alt=\"Linux\"/>&nbsp;&nbsp;&nbsp;&nbsp;\n",
    "<img style=\" display:inline; width:180px;\" src=\"Figures/steam_linux.png\" alt=\"Linux\"/>\n",
    "</div>\n",
    "</center>"
   ]
  },
  {
   "cell_type": "markdown",
   "metadata": {},
   "source": [
    "# <a href=\"#fin\">Fin de la leçon</a><a id=\"fin\" />\n",
    "<div style=\"width:600px; overflow:auto;\">\n",
    "<center>\n",
    "<img style=\" float:center; display:inline; width:180px;\" src=\"Figures/logo_trans.png\" alt=\"LyonHPC\" />\n",
    "<img style=\" float:center; display:inline; width:200px;\" src=\"Figures/python-logo.gif\" alt=\"LyonHPC\"/>\n",
    "</center>\n",
    "</div>\n",
    "<img src=\"Figures/histoireinfo.png\" alt=\"histoire des ordinateurs\" style=\"width:240px;\"/>"
   ]
  },
  {
   "cell_type": "code",
   "execution_count": null,
   "metadata": {},
   "outputs": [],
   "source": []
  }
 ],
 "metadata": {
  "hide_input": false,
  "kernelspec": {
   "display_name": "Python 3",
   "language": "python",
   "name": "python3"
  },
  "language_info": {
   "codemirror_mode": {
    "name": "ipython",
    "version": 3
   },
   "file_extension": ".py",
   "mimetype": "text/x-python",
   "name": "python",
   "nbconvert_exporter": "python",
   "pygments_lexer": "ipython3",
   "version": "3.8.10"
  },
  "toc": {
   "base_numbering": 1,
   "nav_menu": {},
   "number_sections": true,
   "sideBar": true,
   "skip_h1_title": true,
   "title_cell": "Table of Contents",
   "title_sidebar": "Contents",
   "toc_cell": false,
   "toc_position": {},
   "toc_section_display": true,
   "toc_window_display": true
  }
 },
 "nbformat": 4,
 "nbformat_minor": 1
}
