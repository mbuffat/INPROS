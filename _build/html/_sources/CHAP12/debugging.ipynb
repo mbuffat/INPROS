{
 "cells": [
  {
   "cell_type": "markdown",
   "metadata": {},
   "source": [
    "<img src=\"Figures/logo_trans.png\" width=\"180px\" alt=\"LyonHPC\" />\n",
    "<img width=\"200px\" src=\"Figures/python-logo.gif\" alt=\"LyonHPC\"/>\n",
    "\n",
    "\n",
    "# Recherche d'erreurs\n",
    "\n",
    "<img width=\"400px\" src=\"Figures/phd011406s.gif\" />\n",
    "\n",
    "d'après le site [http://phdcomics.com/comics.php](http://phdcomics.com/comics.php)\n"
   ]
  },
  {
   "cell_type": "code",
   "execution_count": null,
   "metadata": {},
   "outputs": [],
   "source": [
    "%matplotlib inline\n",
    "from IPython.core.display import HTML,display"
   ]
  },
  {
   "cell_type": "markdown",
   "metadata": {},
   "source": [
    "## Historique\n",
    "\n",
    "Un **bug informatique** ou **bogue** est communément attribué au tout premier incident informatique qui a été causé par un insecte lors du développement du système informatique électromécanique à lampes Harvard Mark II en 1945.\n",
    "\n",
    "<img width=\"350px\" src=\"Figures/SE-harvard-mark-II.jpg\" alt=\"Mark II\"/> \n",
    "<img width=\"200px\" src=\"Figures/BugMark2.jpg\" alt=\"Bug\"/>\n",
    "\n",
    "Cependant, le terme bug était déja utiliser pour désigner un défaut de conception depuis Thomas Edison en 1878."
   ]
  },
  {
   "cell_type": "markdown",
   "metadata": {},
   "source": [
    "## Méthodologie\n",
    "\n",
    "*(voir aussi le cours MIT 6.00 \"Introduction to computer science and programming\" )*\n",
    "\n",
    "Les erreurs  dans un programme (bogues ou bugs) sont introduites par le programmeur:\n",
    "\n",
    "- erreur de syntaxe\n",
    "- erreur de programmation\n",
    "- erreur algorithmique\n",
    "\n",
    "### objectifs du debugging\n",
    "- essayer d'obtenir un programme avec le moins d'erreurs possible (bug-free program)\n",
    "- et non pas éliminer rapidement une erreur\n",
    "- le debugging est très fortement associé à la validation\n",
    "\n",
    "Dans le développement d'applications, la partie debugging et validation représente la part la plus importante.\n",
    "\n",
    "### démarche du debugging\n",
    "- démarche systématique basée sur la logique\n",
    "- outils d'aide au debugging = debugger OK\n",
    "- mais ce qui est le plus important est la méthode, plus que l'outil !\n",
    "- outil simple et efficace= insertion de **print** dans le code\n",
    "\n",
    "### méthode\n",
    "- recherche de bugs par dichotomie (binary search)\n",
    "- avec pour objectif non pas de trouver pourquoi le programme ne donne pas le bon résultat, mais de comprendre pourquoi le programme fonctionne de cette façon pour ensuite le corriger. \n",
    "- approche scientifique:\n",
    "  - on fait une hypothèse\n",
    "  - on choisit des données, et on fait des expériences numériques **reproductibles** pour tenter d'invalider l'hypothèse\n",
    "  - raisonnement par dichotomie\n",
    "    - **hypothèse:** *telle partie du programme donne le résultat attendu*\n",
    "    - insertion de **print** pour tester l'hypothèse"
   ]
  },
  {
   "cell_type": "markdown",
   "metadata": {},
   "source": [
    "## Exemple de debugging\n",
    "\n",
    "Voici un programme qui teste si la représentation base 2 d'un entier\n",
    "est un palindrome.\n",
    "\n",
    "**exemple:** \n",
    "\n",
    "- n=9  en base 2 s'écrit 1001 et est donc un palindrome\n",
    "- n=12 en base 2 s'écrit 1100 et n'est pas un palindrome\n",
    "\n",
    "### principe de l'algorithme\n",
    "\n",
    "    n entier positif\n",
    "    conversion de n en base 2 sous forme d'une liste de 0 et 1\n",
    "       éléments de la liste = reste division successive de n par 2\n",
    "    test si la liste est un palindrome \n",
    "       comparaison avec la liste inversée"
   ]
  },
  {
   "cell_type": "markdown",
   "metadata": {},
   "source": [
    "### programme avec des bugs !!"
   ]
  },
  {
   "cell_type": "code",
   "execution_count": null,
   "metadata": {},
   "outputs": [],
   "source": [
    "# digit en base 2\n",
    "digit=['0','1']\n",
    "def base2(n):\n",
    "    \"\"\"conversion base 2 d'un nombre n\"\"\"\n",
    "    x = n  \n",
    "    while x:\n",
    "      digits=[]\n",
    "      digits.append(digit[x%2])\n",
    "      x = x // 2\n",
    "    return digit\n",
    "\n",
    "def TestPalindrome2(n):\n",
    "    \"\"\"test si la representation de n en base 2 est un palindrome\"\"\"\n",
    "    L=base2(n)\n",
    "    tmp=L\n",
    "    L.reverse\n",
    "    if (L == tmp) :\n",
    "        return True\n",
    "    else :\n",
    "        return False\n",
    "# test\n",
    "res=TestPalindrome2(9)\n",
    "print(\"pour n=9  1001  palindrome vraie:\",res)\n",
    "res=TestPalindrome2(12)\n",
    "print(\"pour n=12 1100  palindrome faux :\",res)"
   ]
  },
  {
   "cell_type": "markdown",
   "metadata": {},
   "source": [
    "### instrumentation du programme\n",
    "\n",
    "utilisation de print en utilisant une méthode de dichotomie pour rechercher les bogues"
   ]
  },
  {
   "cell_type": "code",
   "execution_count": null,
   "metadata": {},
   "outputs": [],
   "source": [
    "# digit en base 2\n",
    "digit=['0','1']\n",
    "def base2(n):\n",
    "    \"\"\"conversion base 2 d'un nombre n\"\"\"\n",
    "    x = n  \n",
    "    while x:\n",
    "      digits=[]\n",
    "      digits.append(digit[x%2])\n",
    "      x = x // 2\n",
    "    print(n,digits)\n",
    "    return digit\n",
    "\n",
    "def TestPalindrome2(n):\n",
    "    \"\"\"test si la representation de n en base 2 est un palindrome\"\"\"\n",
    "    L=base2(n)\n",
    "    #print L\n",
    "    tmp=L\n",
    "    tmp.reverse\n",
    "    #print tmp\n",
    "    if (L == tmp) :\n",
    "        return True\n",
    "    else :\n",
    "        return False\n",
    "# test\n",
    "res=TestPalindrome2(9)\n",
    "print(\"pour n=9  1001  palindrome vraie:\",res)\n",
    "res=TestPalindrome2(12)\n",
    "print(\"pour n=12 1100  palindrome faux :\",res)"
   ]
  },
  {
   "cell_type": "markdown",
   "metadata": {},
   "source": [
    "### programme correcte"
   ]
  },
  {
   "cell_type": "code",
   "execution_count": null,
   "metadata": {},
   "outputs": [],
   "source": [
    "# digit en base 2\n",
    "digit=['0','1']\n",
    "def base2(n):\n",
    "    \"\"\"conversion base 2 d'un nombre n\"\"\"\n",
    "    x = n\n",
    "    digits=[]\n",
    "    while x:\n",
    "      digits.append(digit[x%2])\n",
    "      x = x // 2\n",
    "    digits.reverse()\n",
    "    return digits\n",
    "\n",
    "def TestPalindrome2(n):\n",
    "    \"\"\"test si la representation de n en base 2 est un palindrome\"\"\"\n",
    "    L=base2(n)\n",
    "    tmp=L[:]\n",
    "    L.reverse()\n",
    "    if (L == tmp) :\n",
    "        return True\n",
    "    else :\n",
    "        return False\n",
    "# test\n",
    "res=TestPalindrome2(9)\n",
    "print(\"pour n=9  1001  palindrome vraie:\",res)\n",
    "res=TestPalindrome2(12)\n",
    "print(\"pour n=12 1100  palindrome faux :\",res)"
   ]
  },
  {
   "cell_type": "markdown",
   "metadata": {},
   "source": [
    "## Utilisation de assert\n",
    "\n",
    "L'instruction **assert** permet de vérifier si une condition cdt est vérifiée. Dans le cas contraire, génère une exception et affiche le message optionnel.\n",
    "\n",
    "**syntaxe**\n",
    "\n",
    "       assert cdt [, message ]\n",
    "       \n",
    "    x=1\n",
    "    assert x>0,\"x doit etre positif\"\n",
    "    assert x<0,\"x doit etre negatif\"\n",
    "     ---------------------------------------------------------------------------\n",
    "    AssertionError                            Traceback (most recent call last)\n",
    "    <ipython-input-6-025a817daa31> in <module>\n",
    "          1 x=1\n",
    "          2 assert x>0,\"x doit etre positif\"\n",
    "    ----> 3 assert x<0,\"x doit etre negatif\"\n",
    "\n",
    "    AssertionError: x doit etre negatif   "
   ]
  },
  {
   "cell_type": "markdown",
   "metadata": {},
   "source": [
    "### exemple d'utilisation \n",
    "test si l'argument d'une fonction est valide"
   ]
  },
  {
   "cell_type": "code",
   "execution_count": null,
   "metadata": {},
   "outputs": [],
   "source": [
    "from numpy import *\n",
    "\n",
    "def F(x):\n",
    "    assert x>0, \"x doit etre >0\"\n",
    "    return log(x)/x\n",
    "# test\n",
    "print(F(1))"
   ]
  },
  {
   "cell_type": "markdown",
   "metadata": {},
   "source": [
    "    print(F(0))\n",
    "\n",
    "    ---------------------------------------------------------------------------\n",
    "    AssertionError                            Traceback (most recent call last)\n",
    "    <ipython-input-9-925a00bbef87> in <module>()\n",
    "          6 # test\n",
    "          7 print(F(1))\n",
    "    ----> 8 print(F(0))\n",
    "\n",
    "    <ipython-input-9-925a00bbef87> in F(x)\n",
    "          2 \n",
    "          3 def F(x):\n",
    "    ----> 4     assert x>0, \"x doit etre >0\"\n",
    "          5     return log(x)/x\n",
    "          6 # test\n",
    "\n",
    "    AssertionError: x doit etre >0"
   ]
  },
  {
   "cell_type": "markdown",
   "metadata": {},
   "source": [
    "**application** test si une entrée est valide\n",
    "\n",
    "    print(\"test\")\n",
    "    x=float(input(\"entree un reel  #0: x=\"))\n",
    "    assert x!=0, \"x doit etre non nul\"\n",
    "    print(\"inverse \",1./x)\n",
    "\n",
    "    ---------------------------------------------------------------------------\n",
    "    AssertionError                            Traceback (most recent call last)\n",
    "    <ipython-input-10-3fd3c58b39a5> in <module>()\n",
    "          1 print(\"test\")\n",
    "          2 x=float(input(\"entree un reel  #0: x=\"))\n",
    "    ----> 3 assert x!=0, \"x doit etre non nul\"\n",
    "          4 print(\"inverse \",1./x)\n",
    "\n",
    "    AssertionError: x doit etre non nul"
   ]
  },
  {
   "cell_type": "markdown",
   "metadata": {},
   "source": [
    "## FIN de la leçon"
   ]
  }
 ],
 "metadata": {
  "kernelspec": {
   "display_name": "Python 3",
   "language": "python",
   "name": "python3"
  },
  "language_info": {
   "codemirror_mode": {
    "name": "ipython",
    "version": 3
   },
   "file_extension": ".py",
   "mimetype": "text/x-python",
   "name": "python",
   "nbconvert_exporter": "python",
   "pygments_lexer": "ipython3",
   "version": "3.8.10"
  },
  "latex_envs": {
   "LaTeX_envs_menu_present": true,
   "autoclose": false,
   "autocomplete": true,
   "bibliofile": "biblio.bib",
   "cite_by": "apalike",
   "current_citInitial": 1,
   "eqLabelWithNumbers": true,
   "eqNumInitial": 1,
   "hotkeys": {
    "equation": "Ctrl-E",
    "itemize": "Ctrl-I"
   },
   "labels_anchors": false,
   "latex_user_defs": false,
   "report_style_numbering": false,
   "user_envs_cfg": false
  },
  "toc": {
   "base_numbering": 1,
   "nav_menu": {},
   "number_sections": true,
   "sideBar": true,
   "skip_h1_title": true,
   "title_cell": "Contenu du chapitre",
   "title_sidebar": "Contenu",
   "toc_cell": false,
   "toc_position": {},
   "toc_section_display": true,
   "toc_window_display": true
  }
 },
 "nbformat": 4,
 "nbformat_minor": 1
}
