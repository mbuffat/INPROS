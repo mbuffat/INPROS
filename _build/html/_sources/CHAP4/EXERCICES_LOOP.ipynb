{
 "cells": [
  {
   "cell_type": "markdown",
   "metadata": {},
   "source": [
    "## Exercices\n",
    "\n",
    "<img width=\"180px\" src=\"Figures/logo_trans.png\" alt=\"LyonHPC\" />\n",
    "<img width=\"200px\" src=\"Figures/python-logo.gif\" alt=\"LyonHPC\"/>\n"
   ]
  },
  {
   "cell_type": "code",
   "execution_count": null,
   "metadata": {},
   "outputs": [],
   "source": [
    "%matplotlib inline\n",
    "import numpy as np\n",
    "from IPython.display import HTML,display"
   ]
  },
  {
   "cell_type": "markdown",
   "metadata": {},
   "source": [
    "**consigne** essayer de résoudre les exercices avant de  regarder la solution "
   ]
  },
  {
   "cell_type": "markdown",
   "metadata": {},
   "source": [
    "### Calcul d'une approximation fractionnaire de $\\pi$"
   ]
  },
  {
   "cell_type": "markdown",
   "metadata": {},
   "source": [
    "> Sur un carré de coté 1, avec un maillage de $n$ points dans chaque direction, on compte le nombre de points dans le cercle. Le rapport entre ce nombre et le nombre de points total tend vers $\\pi/4$.\n",
    "\n",
    "> Attention au choix du pas $\\frac{1}{n}$ ou $\\frac{1}{n-1}$"
   ]
  },
  {
   "cell_type": "code",
   "execution_count": null,
   "metadata": {},
   "outputs": [],
   "source": [
    "## Ecrire votre solution\n"
   ]
  },
  {
   "cell_type": "markdown",
   "metadata": {},
   "source": [
    "#### solution"
   ]
  },
  {
   "cell_type": "code",
   "execution_count": null,
   "metadata": {},
   "outputs": [],
   "source": [
    "n=100\n",
    "h=1./n\n",
    "inside=0\n",
    "for i in range(n):\n",
    "    for j in range(n):\n",
    "        r2 = (i*h)**2 + (j*h)**2\n",
    "        if r2 <= 1.0 :\n",
    "            inside += 1\n",
    "print(\"approximation de Pi = \",4*inside,\"/\",n*n,\" ~ \",4.*inside/(n*n))"
   ]
  },
  {
   "cell_type": "markdown",
   "metadata": {},
   "source": [
    "### Calcul approximation de exp(x)"
   ]
  },
  {
   "cell_type": "markdown",
   "metadata": {},
   "source": [
    ">Soit la suite suivante:\n",
    "\n",
    "> $$ x_n = 1 + \\frac{x}{n} $$\n",
    " \n",
    "> $$ x_i = 1 + \\frac{x}{i}x_{i+1} \\mbox{ pour } 0\\le i \\lt n $$ \n",
    " \n",
    "> Écrire un algorithme et un programme Python pour calculer la valeur de $x_0$, et vérifier que cette valeur tend vers $e^x$ quand $n\\rightarrow\\infty$"
   ]
  },
  {
   "cell_type": "code",
   "execution_count": null,
   "metadata": {},
   "outputs": [],
   "source": [
    "## Ecrire votre solution\n"
   ]
  },
  {
   "cell_type": "markdown",
   "metadata": {},
   "source": [
    "#### solution"
   ]
  },
  {
   "cell_type": "code",
   "execution_count": null,
   "metadata": {},
   "outputs": [],
   "source": [
    "from numpy import exp\n",
    "# calcul suite recurrente\n",
    "def suite(x,n):\n",
    "    \"\"\" approximation ordre n+1 de exp(x) en serie entiere \"\"\"\n",
    "    un = 1. + x/(n+1)\n",
    "    for i in range(n,0,-1) :\n",
    "        un = 1. + (x/i) * un\n",
    "    return un\n",
    "#\n",
    "x=10.\n",
    "print(suite(x,100),exp(x))"
   ]
  },
  {
   "cell_type": "markdown",
   "metadata": {},
   "source": [
    "### Suite de Syracuse\n",
    "\n",
    ">Écrire un programme qui calcule la suite d'entiers définie par\n",
    "la règle suivante:\n",
    "\n",
    ">- on part d'un nombre entier n plus grand que zéro; s’il est pair, on le divise par 2 ; s’il est impair, on le multiplie par 3 et on ajoute 1\n",
    ">- on recommence et on s’arrête lorsque l'on arrive à 1\n",
    "\n",
    "\n",
    "La conjecture de Collatz, énoncée en 1937, postule que cette suite de Syracuse s'arrête au bout d'un nombre fini d'itérations.\n",
    "\n",
    "**validation**\n",
    "\n",
    "Pour n=3, on obtient la suite suivante: 3, 10, 5, 16, 8, 4, 2, 1\n"
   ]
  },
  {
   "cell_type": "code",
   "execution_count": null,
   "metadata": {},
   "outputs": [],
   "source": [
    "# Votre code ici"
   ]
  },
  {
   "cell_type": "markdown",
   "metadata": {},
   "source": [
    "#### Solution"
   ]
  },
  {
   "cell_type": "code",
   "execution_count": null,
   "metadata": {},
   "outputs": [],
   "source": [
    "n=3\n",
    "print(n)\n",
    "for k in range(20):\n",
    "    if n%2:\n",
    "        n = 3*n+1\n",
    "    else:\n",
    "        n = n//2\n",
    "    print(n)\n",
    "    if n==1: break"
   ]
  },
  {
   "cell_type": "markdown",
   "metadata": {},
   "source": [
    "### FIN des exercices"
   ]
  }
 ],
 "metadata": {
  "hide_input": false,
  "kernelspec": {
   "display_name": "Python 3",
   "language": "python",
   "name": "python3"
  },
  "language_info": {
   "codemirror_mode": {
    "name": "ipython",
    "version": 3
   },
   "file_extension": ".py",
   "mimetype": "text/x-python",
   "name": "python",
   "nbconvert_exporter": "python",
   "pygments_lexer": "ipython3",
   "version": "3.8.10"
  },
  "toc": {
   "base_numbering": 1,
   "nav_menu": {},
   "number_sections": true,
   "sideBar": true,
   "skip_h1_title": true,
   "title_cell": "Table des matières",
   "title_sidebar": "Contents",
   "toc_cell": false,
   "toc_position": {},
   "toc_section_display": true,
   "toc_window_display": false
  }
 },
 "nbformat": 4,
 "nbformat_minor": 1
}
