{
 "cells": [
  {
   "cell_type": "markdown",
   "metadata": {},
   "source": [
    "# Rappels de mathématiques et de physique\n",
    "\n",
    "<img src=\"Figures/logo_trans.png\" width=\"180px\" alt=\"LyonHPC\" />\n",
    "\n",
    "<img src=\"Figures/cloud_rappel.png\" alt=\"cloud\" width=\"400px\"/>"
   ]
  },
  {
   "cell_type": "markdown",
   "metadata": {
    "toc": true
   },
   "source": [
    "<h1>Contenu du chapitre<span class=\"tocSkip\"></span></h1>\n",
    "<div class=\"toc\"><ul class=\"toc-item\"><li><span><a href=\"#Rappels-de-mathématique\" data-toc-modified-id=\"Rappels-de-mathématique-1\"><span class=\"toc-item-num\">1&nbsp;&nbsp;</span>Rappels de mathématique</a></span><ul class=\"toc-item\"><li><span><a href=\"#Dérivée\" data-toc-modified-id=\"Dérivée-1.1\"><span class=\"toc-item-num\">1.1&nbsp;&nbsp;</span>Dérivée</a></span></li><li><span><a href=\"#Intégrale\" data-toc-modified-id=\"Intégrale-1.2\"><span class=\"toc-item-num\">1.2&nbsp;&nbsp;</span>Intégrale</a></span></li><li><span><a href=\"#>Développement-en-série-de-Taylor\" data-toc-modified-id=\">Développement-en-série-de-Taylor-1.3\"><span class=\"toc-item-num\">1.3&nbsp;&nbsp;</span>&gt;Développement en série de Taylor</a></span></li><li><span><a href=\"#Exemple-(calcul-avec-sympy)\" data-toc-modified-id=\"Exemple-(calcul-avec-sympy)-1.4\"><span class=\"toc-item-num\">1.4&nbsp;&nbsp;</span>Exemple (calcul avec sympy)</a></span></li></ul></li><li><span><a href=\"#Rappels-de-mécanique-newtonienne\" data-toc-modified-id=\"Rappels-de-mécanique-newtonienne-2\"><span class=\"toc-item-num\">2&nbsp;&nbsp;</span>Rappels de mécanique newtonienne</a></span><ul class=\"toc-item\"><li><span><a href=\"#Principe-fondamental-de-la-dynamique-(2ième-loi-de-Newton)\" data-toc-modified-id=\"Principe-fondamental-de-la-dynamique-(2ième-loi-de-Newton)-2.1\"><span class=\"toc-item-num\">2.1&nbsp;&nbsp;</span>Principe fondamental de la dynamique (2ième loi de Newton)</a></span><ul class=\"toc-item\"><li><span><a href=\"#exemple-d'équation-du-mouvement:\" data-toc-modified-id=\"exemple-d'équation-du-mouvement:-2.1.1\"><span class=\"toc-item-num\">2.1.1&nbsp;&nbsp;</span>exemple d'équation du mouvement:</a></span></li><li><span><a href=\"#exemple-de-force-(gravitation)\" data-toc-modified-id=\"exemple-de-force-(gravitation)-2.1.2\"><span class=\"toc-item-num\">2.1.2&nbsp;&nbsp;</span>exemple de force (gravitation)</a></span></li></ul></li><li><span><a href=\"#Travail,-Puissance\" data-toc-modified-id=\"Travail,-Puissance-2.2\"><span class=\"toc-item-num\">2.2&nbsp;&nbsp;</span>Travail, Puissance</a></span></li><li><span><a href=\"#Conservation-de-l'énergie\" data-toc-modified-id=\"Conservation-de-l'énergie-2.3\"><span class=\"toc-item-num\">2.3&nbsp;&nbsp;</span>Conservation de l'énergie</a></span></li></ul></li><li><span><a href=\"#Exemple-1:-mouvement-balistique\" data-toc-modified-id=\"Exemple-1:-mouvement-balistique-3\"><span class=\"toc-item-num\">3&nbsp;&nbsp;</span>Exemple 1: mouvement balistique</a></span><ul class=\"toc-item\"><li><span><a href=\"#Équations-du-mouvement\" data-toc-modified-id=\"Équations-du-mouvement-3.1\"><span class=\"toc-item-num\">3.1&nbsp;&nbsp;</span>Équations du mouvement</a></span></li><li><span><a href=\"#Trajectoire-,-vitesse-et-accélération\" data-toc-modified-id=\"Trajectoire-,-vitesse-et-accélération-3.2\"><span class=\"toc-item-num\">3.2&nbsp;&nbsp;</span>Trajectoire , vitesse et accélération</a></span></li></ul></li><li><span><a href=\"#Exemple-2:-mouvement-d'un-satellite\" data-toc-modified-id=\"Exemple-2:-mouvement-d'un-satellite-4\"><span class=\"toc-item-num\">4&nbsp;&nbsp;</span>Exemple 2: mouvement d'un satellite</a></span><ul class=\"toc-item\"><li><span><a href=\"#Équation-du-mouvement\" data-toc-modified-id=\"Équation-du-mouvement-4.1\"><span class=\"toc-item-num\">4.1&nbsp;&nbsp;</span>Équation du mouvement</a></span></li><li><span><a href=\"#Trajectoire,-vitesse-et-accélération\" data-toc-modified-id=\"Trajectoire,-vitesse-et-accélération-4.2\"><span class=\"toc-item-num\">4.2&nbsp;&nbsp;</span>Trajectoire, vitesse et accélération</a></span></li></ul></li><li><span><a href=\"#Exemple-3:-Mouvement-du-pendule\" data-toc-modified-id=\"Exemple-3:-Mouvement-du-pendule-5\"><span class=\"toc-item-num\">5&nbsp;&nbsp;</span>Exemple 3: Mouvement du pendule</a></span><ul class=\"toc-item\"><li><span><a href=\"#Equation-du-mouvement\" data-toc-modified-id=\"Equation-du-mouvement-5.1\"><span class=\"toc-item-num\">5.1&nbsp;&nbsp;</span>Equation du mouvement</a></span></li><li><span><a href=\"#Conservation-de-l'énergie\" data-toc-modified-id=\"Conservation-de-l'énergie-5.2\"><span class=\"toc-item-num\">5.2&nbsp;&nbsp;</span>Conservation de l'énergie</a></span></li><li><span><a href=\"#Trajectoire,-vitesse-et-accélération\" data-toc-modified-id=\"Trajectoire,-vitesse-et-accélération-5.3\"><span class=\"toc-item-num\">5.3&nbsp;&nbsp;</span>Trajectoire, vitesse et accélération</a></span></li></ul></li><li><span><a href=\"#Fin-de-la-leçon\" data-toc-modified-id=\"Fin-de-la-leçon-6\"><span class=\"toc-item-num\">6&nbsp;&nbsp;</span>Fin de la leçon</a></span></li></ul></div>"
   ]
  },
  {
   "cell_type": "code",
   "execution_count": null,
   "metadata": {},
   "outputs": [],
   "source": [
    "%matplotlib inline\n",
    "import numpy as np\n",
    "import sympy as sp\n",
    "import matplotlib.pyplot as plt\n",
    "from matplotlib import animation\n",
    "from IPython.display import HTML,display"
   ]
  },
  {
   "cell_type": "markdown",
   "metadata": {},
   "source": [
    "## Rappels de mathématique\n",
    "\n",
    "La simulation numérique fait souvent appel à une analyse du comportement local des fonctions. Pour cela on fait appel au calcul de dérivée, d'intégrale et de développement en série de Taylor."
   ]
  },
  {
   "cell_type": "markdown",
   "metadata": {},
   "source": [
    "### Dérivée\n",
    "La dérivée $f(x)$ d'une fonction mesure son taux de variation\n",
    "$$ \\frac{df}{dx}(x)=\\lim_{\\Delta x\\rightarrow 0}\\frac{f(x+\\Delta x)-f(x)}{\\Delta x} \\leadsto \\frac{df}{dx}(x)\\approx \\frac{\\Delta f}{\\Delta x} \\mbox{ pour } \\Delta x \\mbox{ petit}$$"
   ]
  },
  {
   "cell_type": "code",
   "execution_count": null,
   "metadata": {},
   "outputs": [],
   "source": [
    "run derivee.py"
   ]
  },
  {
   "cell_type": "markdown",
   "metadata": {},
   "source": [
    "### Intégrale\n",
    "L'intégrale (au sens de Riemann) entre a et b d'une fonction $f(x)$ est une mesure de l'aire sous la courbe:\n",
    "$$ I = \\int_a^b f(x)\\,dx = \\mbox{ aire du domaine sous la courbe }$$ \n",
    "Cela permet de l'interpréter en terme de moyenne:\n",
    "$$ \\int_a^b f(x)\\,dx = \\overline{f} \\times (b-a) $$\n",
    "avec $\\overline{f}$ moyenne de f(x) entre a et b"
   ]
  },
  {
   "cell_type": "code",
   "execution_count": null,
   "metadata": {},
   "outputs": [],
   "source": [
    "run integrale.py"
   ]
  },
  {
   "cell_type": "markdown",
   "metadata": {},
   "source": [
    "### >Développement en série de Taylor\n",
    "\n",
    "Soit $f(x)$ une fonction régulière, on peut l'approcher par son développement en série de Taylor à l'ordre $n$ au voisinage de $x=0$ à partir des dérivées successives de $f(x)$ en $x=0$:\n",
    "\n",
    "$$ f(x) \\approx f(0) + x \\left(\\frac{df}{dx}\\right)(0) + \\frac{x^2}{2!} \\left(\\frac{d^2f}{dx^2}\\right)(0) + \\frac{x^3}{3!} \\left(\\frac{d^3f}{dx^3}\\right)(0) + ... + \\frac{x^{n-1}}{(n-1)!} \\left(\\frac{d^{n-1}f}{dx^{n-1}}\\right)(0) + \\mathcal{O}(x^n)$$"
   ]
  },
  {
   "cell_type": "markdown",
   "metadata": {},
   "source": [
    "### Exemple (calcul avec sympy)\n",
    "\n",
    "approximation de la fonction $f(x)=e^{sin x}$ au voisinage de $x=0$ par des développements en série de Taylor d'orde 2, 3 et 5. "
   ]
  },
  {
   "cell_type": "code",
   "execution_count": null,
   "metadata": {},
   "outputs": [],
   "source": [
    "import scipy as sp\n",
    "from taylor import *\n",
    "sp.init_printing()\n",
    "print(\"Pour la fonction f(x)\"),\n",
    "display(f)\n",
    "print(u\"Dvt en série à l'ordre 2 au voisinage de x=0\")\n",
    "display(fs2)\n",
    "print(u\"Dvt en série à l'ordre 3 au voisinage de x=0\")\n",
    "display(fs3)\n",
    "print(u\"Dvt en série à l'ordre 5 au voisinage de x=0\")\n",
    "display(fs5)\n",
    "traceSerie()"
   ]
  },
  {
   "cell_type": "markdown",
   "metadata": {},
   "source": [
    "## Rappels de mécanique newtonienne\n",
    "\n",
    "Mouvement d'un corps solide (Mécanique du point)"
   ]
  },
  {
   "cell_type": "markdown",
   "metadata": {},
   "source": [
    "### Principe fondamental de la dynamique (2ième loi de Newton)\n",
    "\n",
    "Un corps de masse $m$ et de vitesse $\\overrightarrow{v}$ dans un repère galiléen possède une quantité de mouvement $\\overrightarrow{q}=m\\overrightarrow{v}$, qui caractérise son inertie.\n",
    "\n",
    "Pour faire varier sa quantité de mouvement (en intensité et/ou en direction), il faut lui appliquer des forces $\\overrightarrow{F_i}$. C'est ce que traduit le principe fondamentale de la dynamique, ou seconde loi de Newton:\n",
    "\n",
    "$$ \\frac{d}{dt}(m\\overrightarrow{v}) = \\sum_i \\overrightarrow{F_i} $$\n",
    "\n",
    "#### exemple d'équation du mouvement:\n",
    "pour un corps de masse $m$ constante se déplaçant dans un plan, dont la position est donnée dans un référentiel cartésien par $P(x(t),y(t))$, cette loi conduit au système de deux équations différentielles d'ordre 2:\n",
    "\n",
    "\\begin{eqnarray}\n",
    "m\\frac{d^2 x}{dt^2} &=& \\sum_i F_i^x \\mbox{ avec }F_i^x \\mbox{ composante de } \\overrightarrow{F_i} \\mbox{ suivant x}\\\\\n",
    "m\\frac{d^2 y}{dt^2} &=& \\sum_i F_i^y \\mbox{ avec }F_i^y \\mbox{ composante de } \\overrightarrow{F_i} \\mbox{ suivant y}\n",
    "\\end{eqnarray}\n",
    "\n",
    "#### exemple de force (gravitation)\n",
    "La force exercée par un corps de masse $M$ distant de r s'écrit:\n",
    "\n",
    "$$ \\overrightarrow{F} = -G \\frac{ m M }{r^2} \\overrightarrow{e_r}$$\n",
    " avec $\\overrightarrow{e_r}$ est le vecteur unitaire qui va de M à m\n",
    "et $G\\approx 6.7 10^{-11} Nm^2kg^{-2}$  est la constante universelle de gravitation.\n",
    "\n",
    "Dans le cas d'un objet de masse m sur la terre, la force de gravitation exercée par la terre (de masse $M\\approx 6.10^{24} kg$) est quasiment constante compte tenu de $M\\gg m$ et que $r\\approx R=6400 km$ (rayon de la terre) et s'écrit:\n",
    "\n",
    "$$ \\overrightarrow{F} = -m g \\overrightarrow{e_z} $$\n",
    "où $\\overrightarrow{e_z}$ est la direction de la verticale dirigée vers le haut\n",
    "et $g=\\frac{GM}{R^2}\\approx 9.8 ms^{-2}$ est l'accélération de la pesanteur."
   ]
  },
  {
   "cell_type": "markdown",
   "metadata": {},
   "source": [
    "### Travail, Puissance\n",
    "Le travail élémentaire $\\delta W$ d'une force $\\overrightarrow{F}$ est égale au produit scalaire de la force par son déplacement élémentaire $\\delta\\overrightarrow{l}$:\n",
    "\n",
    "$$ \\delta W = \\overrightarrow{F} . \\delta\\overrightarrow{l} \\mbox{ (unité Joule)}$$\n",
    "La puissance est un travail par unité de temps. \n",
    "$$ \\delta P = \\frac{\\delta W}{\\delta t} \\mbox{ (unité  Watt)}$$\n",
    "\n",
    "Dans le cas d'une  force $\\overrightarrow{F_j}$ conservative (découlant d'un potentiel $U_j$):\n",
    "$$F_j = -\\overrightarrow{grad}\\ U_j = -\\left[ \n",
    "\\begin{array}{c}\n",
    "\\frac{\\partial U_j}{\\partial x}\\\\\n",
    "\\frac{\\partial U_j}{\\partial y}\\\\\n",
    "\\frac{\\partial U_j}{\\partial z}\\\\\n",
    "\\end{array}\n",
    "\\right]$$\n",
    "le travail est alors une différentielle exacte:\n",
    "$$\\delta W_j = -dU_j = -\\frac{\\partial U_j}{\\partial x}dx - \\frac{\\partial U_j}{\\partial y}dy-\\frac{\\partial U_j}{\\partial z}dz\n",
    "\\mbox{ avec } F_j = -\\overrightarrow{grad}\\ U_j$$\n",
    "qui ne dépends que du potentiel initial et du potentiel final.\n",
    "\n",
    "De même, si une force $\\overrightarrow{F_j}$ reste perpendiculaire au déplacement (cas d'une force de liaison parfaite sans frottement), elle ne travaille pas\n",
    "$$\\delta W_j = 0 \\mbox{ si }  \\overrightarrow{F_j}\\perp\\delta\\overrightarrow{l} \\Rightarrow \\overrightarrow{F_j}.\\delta\\overrightarrow{l}=0$$"
   ]
  },
  {
   "cell_type": "markdown",
   "metadata": {},
   "source": [
    "### Conservation de l'énergie\n",
    "En effectuant le produit scalaire de l'équation fondamentale de la dynamique par la vitesse $\\overrightarrow{v}$, on obtiens l'évolution de l'énergie cinétique $E_c$ du système\n",
    "\n",
    "$$ \\frac{d Ec}{dt} = \\sum_i \\overrightarrow{F_i}.\\overrightarrow{v}\n",
    "\\mbox{ avec } Ec=\\frac{1}{2} m v^2 \\mbox{ énergie cinétique}\n",
    "$$\n",
    "\n",
    "Si les forces appliquées sont conservatives ou ne travaillent pas, l'énergie totale $E_t$, somme de l'énergie cinétique $Ec$ et l'énergie potentielle $U$, du système se conserve:\n",
    "$$ \n",
    "E_t = \\frac{1}{2} m v^2 + \\sum_j U_j = cste \n",
    "$$"
   ]
  },
  {
   "cell_type": "markdown",
   "metadata": {},
   "source": [
    "## Exemple 1: mouvement balistique\n",
    "\n",
    "Mouvement balistique d'une masse $m$ dans le champ de gravité terrestre (on néglige les frottements).\n"
   ]
  },
  {
   "cell_type": "code",
   "execution_count": null,
   "metadata": {},
   "outputs": [],
   "source": [
    "run schema_balistique.py"
   ]
  },
  {
   "cell_type": "markdown",
   "metadata": {},
   "source": [
    "### Équations du mouvement\n",
    "\n",
    "\\begin{eqnarray}\n",
    "m\\frac{d^2 x}{dt^2} &=  0   &\\mbox{ avec  } x(0)=x_0 , \\frac{dx}{dt}(0)=u_0\\\\\n",
    "m\\frac{d^2 z}{dt^2} &= -m g &\\mbox{ avec  } z(0)=z_0 , \\frac{dz}{dt}(0)=w_0\n",
    "\\end{eqnarray}\n",
    "\n",
    "La solution est parabolique et s'écrit:\n",
    "\n",
    "\\begin{eqnarray}\n",
    "x(t) &=& x_0 + u_0 t \\\\\n",
    "z(t) &=& z_0 + w_0 t - \\frac{1}{2} g t^2\n",
    "\\end{eqnarray}\n",
    "\n",
    "L’énergie totale se conserve, avec au cours du mouvement transformation d’énergie potentielle en énergie cinétique:\n",
    "\n",
    "$$ E_t = \\frac{1}{2} m v^2 + m g z = cste $$\n",
    "\n",
    "### Trajectoire , vitesse et accélération\n",
    "\n",
    "L'animation suivante montre l'évolution du vecteur vitesse (en cyan) et de l'accélération (en vert), ainsi que l'évolution de l'énergie cinétique Ec, l'énergie potentielle Up et l'énergie totale Et."
   ]
  },
  {
   "cell_type": "code",
   "execution_count": null,
   "metadata": {},
   "outputs": [],
   "source": [
    "#from JSAnimation import IPython_display\n",
    "from balistique import *\n",
    "anim\n",
    "#display(anim)"
   ]
  },
  {
   "cell_type": "code",
   "execution_count": null,
   "metadata": {},
   "outputs": [],
   "source": [
    "HTML(anim.to_html5_video())"
   ]
  },
  {
   "cell_type": "markdown",
   "metadata": {},
   "source": [
    "##  Exemple 2: mouvement d'un satellite\n",
    "On considère une masse $m$ en rotation uniforme autour de la terre de masse $M$ à une distance $r$ du centre. "
   ]
  },
  {
   "cell_type": "code",
   "execution_count": null,
   "metadata": {},
   "outputs": [],
   "source": [
    "run schema_satellite.py"
   ]
  },
  {
   "cell_type": "markdown",
   "metadata": {},
   "source": [
    "### Équation du mouvement\n",
    "\n",
    "Soit $\\overrightarrow{e_t}$ le vecteur tangentiel, et  $\\overrightarrow{e_n}$ le vecteur normal à la trajectoire et dirigé vers la terre, la vitesse s'écrit en fonction de l'angle de rotation $\\theta(t)$:\n",
    "\n",
    "$$ \\overrightarrow{v} = r \\frac{ d\\theta}{dt} \\overrightarrow{e_t}$$\n",
    "et le principe fondamentale de la dynamique s'écrit:\n",
    "$$ \\frac{d}{dt}(m r \\frac{ d\\theta}{dt} \\overrightarrow{e_t}) = m \\frac{G M}{r^2} \\overrightarrow{e_n}$$\n",
    "\n",
    "La solution est telle que la vitesse de rotation $\\omega$ est uniforme: \n",
    "$$ \\omega = \\frac{d\\theta}{dt} = \\sqrt{\\frac{G M}{r^3}} $$\n",
    "\n",
    "Dans ce cas l'énergie cinétique et l'énergie potentielle se conservent:\n",
    "$$ Ec = \\frac{1}{2} m v^2 = cste $$\n",
    "\n",
    "### Trajectoire, vitesse et accélération\n",
    "\n",
    "L'animation suivante montre l'évolution du vecteur vitesse (en cyan) et accélération (en vert), ainsi que l'évolution de l'énergie cinétique."
   ]
  },
  {
   "cell_type": "code",
   "execution_count": null,
   "metadata": {},
   "outputs": [],
   "source": [
    "#from JSAnimation import IPython_display\n",
    "from satellite import *\n",
    "anim\n",
    "#display(anim)"
   ]
  },
  {
   "cell_type": "code",
   "execution_count": null,
   "metadata": {},
   "outputs": [],
   "source": [
    "HTML(anim.to_html5_video())"
   ]
  },
  {
   "cell_type": "markdown",
   "metadata": {},
   "source": [
    "## Exemple 3: Mouvement du pendule\n",
    "On considère un pendule simple, constitué d'une masse $m$ fixée à l’extrémité d'un fil de longueur $l$ fixé en O et soumis à la gravité $g$.\n",
    "\n",
    "La position $P$ de la masse s'écrit en fonction de l'angle $\\theta$ du fil par rapport à la verticale $y$:\n",
    "$$ \\overrightarrow{OP} = \n",
    "\\left[\\begin{array}{l}x\\\\y\\end{array}\\right] = \n",
    "\\left[\\begin{array}{l}+l\\sin\\theta\\\\-l\\cos\\theta\\end{array}\\right]\n",
    "$$\n",
    "\n",
    "Le bilan des forces est donné sur la figure ci-dessous"
   ]
  },
  {
   "cell_type": "code",
   "execution_count": null,
   "metadata": {},
   "outputs": [],
   "source": [
    "run schema_pendule.py"
   ]
  },
  {
   "cell_type": "markdown",
   "metadata": {},
   "source": [
    "\n",
    "### Equation du mouvement\n",
    "\n",
    "Soit $\\overrightarrow{e_t}$ le vecteur tangentiel, et  $\\overrightarrow{e_n}$ le vecteur normal, la vitesse du pendule\n",
    "s'écrit:\n",
    "$$\\overrightarrow{v}=l\\frac{d\\theta}{dt}\\overrightarrow{e_t}$$\n",
    "Les forces exercées sur le pendule sont la gravité $- m g \\overrightarrow{e_y}$ et la tension dans le fil $T \\overrightarrow{e_n}$\n",
    "\n",
    "Le principe fondamental de la dynamique s'écrit:\n",
    "$$ \\frac{d}{dt}(m l \\frac{d\\theta}{dt}\\overrightarrow{e_t})= -m g \\overrightarrow{e_y} + T \\overrightarrow{e_n} $$\n",
    "dont la projection suivant $\\overrightarrow{e_t}$ donne l'équation d'évolution de l'angle $\\theta$\n",
    "$$ m l \\frac{d^2\\theta}{dt^2} = - m g \\sin\\theta $$\n",
    "qui s'écrit dans le cas de petites oscillations $\\theta$:\n",
    "$$ \\frac{d^2\\theta}{dt^2} = -\\omega^2 \\theta \\mbox{ avec } \\omega=\\sqrt{\\frac{g}{l}}$$\n",
    "et dont la solution est périodique de la forme:\n",
    "$$\\theta(t) = \\theta_0\\cos(\\omega t + \\phi_0)$$\n",
    "\n",
    "### Conservation de l'énergie\n",
    "\n",
    "La tension dans le fil étant perpendiculaire à la vitesse, son travail est nul. La gravité découle d'un potentiel, et donc le système est conservatif\n",
    "$$ E_t = \\frac{1}{2} m v^2 + m g y = cste$$\n",
    "\n",
    "### Trajectoire, vitesse et accélération\n",
    "\n",
    "L'animation suivante montre l'évolution du vecteur vitesse (en cyan) et accélération (en vert) ainsi que l'évolution de l'énergie cinétique Ec, l'énergie potentielle Up et l'énergie totale Et."
   ]
  },
  {
   "cell_type": "code",
   "execution_count": null,
   "metadata": {},
   "outputs": [],
   "source": [
    "#from JSAnimation import IPython_display\n",
    "from pendule import *\n",
    "#display(anim)\n",
    "anim"
   ]
  },
  {
   "cell_type": "code",
   "execution_count": null,
   "metadata": {},
   "outputs": [],
   "source": [
    "HTML(anim.to_html5_video())"
   ]
  },
  {
   "cell_type": "markdown",
   "metadata": {},
   "source": [
    "## Fin de la leçon\n",
    "\n",
    "<img src=\"Figures/cloud_rappel.png\" alt=\"cloud\" width=\"300px\"/>"
   ]
  },
  {
   "cell_type": "code",
   "execution_count": null,
   "metadata": {},
   "outputs": [],
   "source": []
  }
 ],
 "metadata": {
  "kernelspec": {
   "display_name": "Python 3",
   "language": "python",
   "name": "python3"
  },
  "language_info": {
   "codemirror_mode": {
    "name": "ipython",
    "version": 3
   },
   "file_extension": ".py",
   "mimetype": "text/x-python",
   "name": "python",
   "nbconvert_exporter": "python",
   "pygments_lexer": "ipython3",
   "version": "3.8.10"
  },
  "toc": {
   "base_numbering": 1,
   "nav_menu": {},
   "number_sections": true,
   "sideBar": true,
   "skip_h1_title": true,
   "title_cell": "Contenu du chapitre",
   "title_sidebar": "Contenu",
   "toc_cell": true,
   "toc_position": {},
   "toc_section_display": true,
   "toc_window_display": false
  }
 },
 "nbformat": 4,
 "nbformat_minor": 1
}
