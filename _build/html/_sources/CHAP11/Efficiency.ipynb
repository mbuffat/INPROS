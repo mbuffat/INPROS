{
 "cells": [
  {
   "cell_type": "markdown",
   "metadata": {},
   "source": [
    "<img src=\"Figures/logo_trans.png\" width=\"180px\" alt=\"LyonHPC\" />\n",
    "<img width=\"200px\" src=\"Figures/python-logo.gif\" alt=\"LyonHPC\"/>\n",
    "\n",
    "# Efficacité / complexité\n",
    "\n",
    "<img src=\"cloud_sommaire.png\" alt=\"cloud\" width=\"400px\"/>"
   ]
  },
  {
   "cell_type": "code",
   "execution_count": null,
   "metadata": {},
   "outputs": [],
   "source": [
    "%matplotlib inline\n",
    "import matplotlib.pyplot as plt\n",
    "import numpy as np"
   ]
  },
  {
   "cell_type": "markdown",
   "metadata": {},
   "source": [
    "## Recherche d'un élément dans un tableau trié\n",
    "\n",
    "Soit X un tableau contenant n valeurs triées, i.e: X[0]<X[1]<...<X[n-1]  \n",
    "on veut déterminer l'indice k d'un élément a, i.e: X[k]=a\n",
    "\n",
    "### algorithme de recherche linéaire\n",
    "\n",
    "- on parcours toute la liste en partant du premier élément pour chercher a\n",
    "- dans le pire des cas, on fait n itérations\n",
    "- un test par itération $\\Rightarrow$ n opérations\n",
    "\n",
    "algorithme avec une **efficacité linéaire**: $O(n)$"
   ]
  },
  {
   "cell_type": "code",
   "execution_count": null,
   "metadata": {},
   "outputs": [],
   "source": [
    "def linsearch(a,X):\n",
    "    \"\"\" recherche de  a dans le tableau X \n",
    "        retour: valeur de l'indice k tq X[k]=a, ou -1 si non trouvé \n",
    "    \"\"\"\n",
    "    n = len(X)\n",
    "    k = -1\n",
    "    for i in range(n):\n",
    "        if X[i]==a :\n",
    "            k = i\n",
    "            break\n",
    "    return k\n",
    "# application\n",
    "X=np.arange(10)\n",
    "print(linsearch(5,X))\n",
    "print(linsearch(10,X))"
   ]
  },
  {
   "cell_type": "markdown",
   "metadata": {},
   "source": [
    "### recherche par dichotomie (binary search)\n",
    "on compare a chaque étape la valeur x du milieu du tableau avec a:\n",
    "\n",
    "- si a > x, on recommence avec la moitié droite du tableau\n",
    "- si a < x, on recommence avec la moitié gauche du tableau\n",
    "- si a = x, on termine l'algorithme\n",
    "- par itération: 2 opérations +  / et 2 tests\n",
    "- $\\log_2(n)$ itérations au maximum $\\rightarrow$ $4*\\log_2(n)$ opérations\n",
    "\n",
    "algorithme avec une **efficacité logarithmique**: $O(\\log(n))$"
   ]
  },
  {
   "cell_type": "code",
   "execution_count": null,
   "metadata": {},
   "outputs": [],
   "source": [
    "def dichotomie(a,X):\n",
    "    \"\"\" recherche de a dans le tableau X \n",
    "        renvoie: l'indice k tq a=X(k] ou -1 si non trouvé \"\"\"\n",
    "    debut = 0\n",
    "    fin = len(X)-1\n",
    "    k = -1\n",
    "    while (debut<=fin) and (k<0):\n",
    "        milieu = (debut+fin)//2\n",
    "        if X[milieu]==a :\n",
    "            k = milieu\n",
    "            break\n",
    "        elif X[milieu]>a :\n",
    "            fin = milieu\n",
    "        else:\n",
    "            debut = milieu\n",
    "    return k\n",
    "# application\n",
    "X=np.arange(10)\n",
    "print(dichotomie(5,X))"
   ]
  },
  {
   "cell_type": "markdown",
   "metadata": {},
   "source": [
    "**remarque:** le programme précédent possède une erreur, car il est non générique !! \n",
    "\n",
    "- Pouvez vous la trouver et la corriger ? \n",
    "- (Conseil:) essayer dichotomie(10,X) !"
   ]
  },
  {
   "cell_type": "markdown",
   "metadata": {},
   "source": [
    "### comparaison de l’efficacité des 2 algorithmes de trie"
   ]
  },
  {
   "cell_type": "code",
   "execution_count": null,
   "metadata": {},
   "outputs": [],
   "source": [
    "run courbe1.py"
   ]
  },
  {
   "cell_type": "markdown",
   "metadata": {},
   "source": [
    "$\\Rightarrow$ **pour n grand l'algorithme de trie par bisection est beaucoup plus efficace**"
   ]
  },
  {
   "cell_type": "markdown",
   "metadata": {},
   "source": [
    "## Complexité et efficacité d'un algorithme\n",
    "\n",
    "**théorie de la complexité:** analyse d'un algorithme en vue de déterminer les ressources nécessaire (en temps CPU, en taille mémoire,..)  pour l’exécuter en fonction des données (taille des données, paramètre de précision).\n",
    "\n",
    "**efficacité** = estimation asymptotique de la complexité en temps sur une machine idéale (machine de Turing) en fonction d'un paramètre n caractérisant les entrées (taille des entrées, nbre de digits pour la précision,..)\n",
    "\n",
    "**attention** cette analyse n'est qu'indicative, et peut être remise en question suivant l'architecture des machines (machines parallèles)"
   ]
  },
  {
   "cell_type": "markdown",
   "metadata": {},
   "source": [
    "### Différentes classes de compléxité (classées par efficacité)\n",
    "\n",
    "type           | complexité   | example \n",
    "----------     | -----------  | --------\n",
    "constante      | $O(1)$       | accés à un tableau: X[i] \n",
    "logarithmique  | $O(\\log{n})$  | trie par dichotomie (binary search)\n",
    "linéaire       | $O(n)$       | parcours de tableaux\n",
    "linéarithmique | $O(n\\log{n}$ | methode multigrille \n",
    "quadratique    | $O(n^2)$     | produit matrice x vecteur\n",
    "cubique        | $O(n^3)$     | produit matrice x matrice\n",
    "exponentielle  | $O(2^{n^p})$  |\n",
    "factorielle    | $O(n!)$      | calcul déterminant d'une matrice (force brute)"
   ]
  },
  {
   "cell_type": "code",
   "execution_count": null,
   "metadata": {},
   "outputs": [],
   "source": [
    "run courbe2.py"
   ]
  },
  {
   "cell_type": "markdown",
   "metadata": {},
   "source": [
    "## Exemples"
   ]
  },
  {
   "cell_type": "markdown",
   "metadata": {},
   "source": [
    "### algorithme inefficace: déterminant de Cramer\n",
    "\n",
    "Calcul du déterminant d'une matrice $A$ par la méthode de Cramer \n",
    "- formule récursive de calcul par développement  par rapport à la première colonne\n",
    "\n",
    "$$ det(A) = \\sum_{j=1}^n A_{1,j} (-1)^{1+j} det(A^{1,j}) $$\n",
    "\n",
    "- $A^{1,j}$ matrice d'ordre n-1 obtenue en enlevant la colonne 1 et la ligne i de $A$  \n",
    "- calcul det(A) = somme de n déterminants d'ordre (n-1) \n",
    "\n",
    "$\\Rightarrow$ algorithme avec une efficacité factorielle: $O(n!)$"
   ]
  },
  {
   "cell_type": "code",
   "execution_count": null,
   "metadata": {},
   "outputs": [],
   "source": [
    "# nbre d'operations\n",
    "nops = 0\n",
    "# algorithme déterminant\n",
    "def determinant(A):\n",
    "    \"\"\" Calcul du déterminant de A \"\"\"\n",
    "    global nops\n",
    "    n=shape(A)[0]\n",
    "    if n==1:\n",
    "        return A[0,0]\n",
    "    else:\n",
    "        det =0.0\n",
    "        coef=1.0\n",
    "        # developement par rapport a la ligne 0\n",
    "        for i in range(n):\n",
    "            A1 = delete(delete(A,0,0),i,1)\n",
    "            det = det + coef*A[0,i]*determinant(A1)\n",
    "            coef = -coef\n",
    "        nops += 3*n\n",
    "        return det\n",
    "# test d'utilisation avec timing\n",
    "from time import process_time\n",
    "N=range(5,10)\n",
    "# boucle de timing \n",
    "for k,n in enumerate(N):\n",
    "    A=random.rand(n,n)\n",
    "    nops = 0\n",
    "    debut= process_time()\n",
    "    det1 = determinant(A)\n",
    "    cpu  = process_time() - debut\n",
    "    print(\"n=%d nops=%10d cpu=%12.6g s\"%(n,nops,cpu))\n"
   ]
  },
  {
   "cell_type": "markdown",
   "metadata": {},
   "source": [
    "$\\Rightarrow$ **algorithme inutilisable** !!!!  \n",
    "$\\Rightarrow$ utiliser l'algorithme de la bibliothéque numpy basé sur une factorisation $LU$ de $A$"
   ]
  },
  {
   "cell_type": "code",
   "execution_count": null,
   "metadata": {},
   "outputs": [],
   "source": [
    "print(shape(A))\n",
    "%timeit linalg.det(A)"
   ]
  },
  {
   "cell_type": "markdown",
   "metadata": {},
   "source": [
    "### Exemple: recherche de la racine d'une fonction\n",
    "\n",
    "Calcul d'une valeur approchée $x^n$ de la racine $x^*$ d'une fonction $f(x)$:\n",
    "\n",
    "$$  \\left| x^* - x^n \\right| < \\epsilon \\mbox{ avec } f(x^*)=0 $$ \n",
    "\n",
    "Le nombre de chiffres significatifs $P$ de $x^n$ est donnée par  $P= -\\log(\\epsilon)$  \n",
    "On compare l’efficacité de 2 algorithmes en fonction de $P$  \n",
    "On suppose que l'on a un intervalle $[a,b]$ contenant la racine $x^*$ \n",
    "\n",
    "#### Méthode de dichotomie\n",
    "- algorithme itératif de dichotomie\n",
    "- on choisit comme approximation le milieu de l'intervalle\n",
    "- à chaque itération: erreur divisée par 2 , 4 opérations + 1 appel de fonction\n",
    "$\\Rightarrow$ erreur divisée par $2^n$ au bout de n iterations\n",
    "\n",
    "**efficacité linaire** $O(P)$ car le coût $\\approx C*P + K $\n"
   ]
  },
  {
   "cell_type": "code",
   "execution_count": null,
   "metadata": {},
   "outputs": [],
   "source": [
    "# Algorithme Dichotomie\n",
    "def Dichotomie(F,a,b,eps):\n",
    "    \"\"\" calcul la racine de F(x) comprise entre a et b par dichotomie\n",
    "        F(x) est une fonction , eps = précision \"\"\"\n",
    "    nit = 0\n",
    "    ya = F(a)\n",
    "    yb = F(b)\n",
    "    x  = (a+b)/2.0\n",
    "    while (b-a)>eps :\n",
    "        x = (a+b)/2.\n",
    "        y = F(x)\n",
    "        if y*ya > 0:\n",
    "            a=x\n",
    "            ya=y\n",
    "        else:\n",
    "            b=x\n",
    "            yb=y\n",
    "        nit = nit + 1\n",
    "    return x,nit\n",
    "# application\n",
    "F = cos\n",
    "xs = pi/2.\n",
    "x,it = Dichotomie(F,pi/3,3*pi/4,1.e-08)\n",
    "print(\"racine %g  nit=%d  err=%g\"%(x,it,abs(x-xs)))"
   ]
  },
  {
   "cell_type": "markdown",
   "metadata": {},
   "source": [
    "#### Méthode de Newton\n",
    "\n",
    "- à partir de $x_0$, on approxime la courbe par sa tangente en $x_0$\n",
    "- nouvelle approximation $x_1$ = intersection tangente avec l'axe des x\n",
    "\n",
    "$$ x_1 = x_0 - \\frac{F(x_0)}{F'(x_0)}$$\n",
    "\n",
    "- l'erreur $err_1 = x_1 -x^*$ vérifie après D.L. de $F(x_0)$ \n",
    "\n",
    "$$ err_1 = err_0 - \\frac{F(x_0)}{F'(x_0)} \\approx \\frac{1}{2}\\frac{F''(x_0)}{F'(x_0)}({err_0})^2 + ..$$\n",
    "\n",
    "- soit au bout de $n$ itérations $err_n \\approx (err_0)^{2^n} $\n",
    "\n",
    "**Efficacité logarithmique** $O(\\log P)$ car coût $\\approx C \\log P + K$"
   ]
  },
  {
   "cell_type": "code",
   "execution_count": null,
   "metadata": {},
   "outputs": [],
   "source": [
    "run newton.py"
   ]
  },
  {
   "cell_type": "code",
   "execution_count": null,
   "metadata": {},
   "outputs": [],
   "source": [
    "# Algorithme de Newton\n",
    "def Newton(F,dF,a,b,eps):\n",
    "    \"\"\" calcul la racine de F(x) par la methode de Newton\n",
    "        F(x) fonction, dF dérivée, a b intervalle d'étude , eps = précision \"\"\"\n",
    "    nit = 0\n",
    "    x   = (a+b)/2.\n",
    "    err = F(x)/dF(x)\n",
    "    while abs(err) > eps:\n",
    "        x   = x - err\n",
    "        err = F(x)/dF(x)\n",
    "        nit = nit + 1\n",
    "    return x,nit\n",
    "# application\n",
    "F  = lambda x:  cos(x)\n",
    "dF = lambda x: -sin(x)\n",
    "xs = pi/2.\n",
    "x,it = Newton(F,dF,pi/3,3*pi/4,1.e-08)\n",
    "print(\"racine %g  nit=%d  err=%g\"%(x,it,abs(x-xs)))"
   ]
  },
  {
   "cell_type": "markdown",
   "metadata": {},
   "source": [
    "#### Conclusion\n",
    "La méthode de Newton est beaucoup plus efficace que la méthode de dichotomie  \n",
    "Attention cependant, la convergence de la méthode de Newton est uniquement locale !!!"
   ]
  },
  {
   "cell_type": "markdown",
   "metadata": {},
   "source": [
    "## FIN de la leçon\n",
    "\n",
    "<img src=\"cloud_sommaire.png\" alt=\"cloud\" width=\"400px\"/>"
   ]
  },
  {
   "cell_type": "code",
   "execution_count": null,
   "metadata": {},
   "outputs": [],
   "source": []
  }
 ],
 "metadata": {
  "kernelspec": {
   "display_name": "Python 3",
   "language": "python",
   "name": "python3"
  },
  "language_info": {
   "codemirror_mode": {
    "name": "ipython",
    "version": 3
   },
   "file_extension": ".py",
   "mimetype": "text/x-python",
   "name": "python",
   "nbconvert_exporter": "python",
   "pygments_lexer": "ipython3",
   "version": "3.8.10"
  },
  "toc": {
   "base_numbering": 1,
   "nav_menu": {},
   "number_sections": true,
   "sideBar": true,
   "skip_h1_title": true,
   "title_cell": "Contenu du chapitre",
   "title_sidebar": "Contenu",
   "toc_cell": false,
   "toc_position": {
    "height": "calc(100% - 180px)",
    "left": "10px",
    "top": "150px",
    "width": "266.075px"
   },
   "toc_section_display": true,
   "toc_window_display": false
  }
 },
 "nbformat": 4,
 "nbformat_minor": 1
}
