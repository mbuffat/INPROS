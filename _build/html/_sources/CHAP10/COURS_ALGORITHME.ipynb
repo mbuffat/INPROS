{
 "cells": [
  {
   "cell_type": "markdown",
   "metadata": {},
   "source": [
    "<img src=\"Figures/logo_trans.png\" width=\"180px\" alt=\"LyonHPC\" />\n",
    "<img width=\"200px\" src=\"Figures/python-logo.gif\" alt=\"LyonHPC\"/>\n",
    "\n",
    "# Algorithmes numériques\n",
    "\n",
    "<img src=\"recette_crepes_algorithme.png\" alt=\"algorithme\" width=\"500px\"/>"
   ]
  },
  {
   "cell_type": "code",
   "execution_count": null,
   "metadata": {},
   "outputs": [],
   "source": [
    "%matplotlib inline\n",
    "from IPython.display import HTML\n",
    "import numpy as np\n",
    "import matplotlib.pyplot as plt\n",
    "plt.rc('font', family='serif', size='16')"
   ]
  },
  {
   "cell_type": "markdown",
   "metadata": {},
   "source": [
    "\n",
    "## Bibliothèques scientifiques sous Python\n",
    "\n",
    "**documentation** \n",
    "\n",
    "- Numercal Python **numpy** http://www.numpy.org/\n",
    "- Scientific Python **scipy** http://docs.scipy.org/doc/scipy/reference\n"
   ]
  },
  {
   "cell_type": "markdown",
   "metadata": {},
   "source": [
    "## Algorithme récursif"
   ]
  },
  {
   "cell_type": "markdown",
   "metadata": {},
   "source": [
    "**récursion** méthode algorithmique où la solution du problème s'exprime en fonction de solutions du même problème, mais sur des données plus petites.\n",
    "\n",
    "- Très utilisé en informatique, car fournit des solutions élégantes.\n",
    "\n",
    "- Attention, peut être inefficace (comparé à l'itération)"
   ]
  },
  {
   "cell_type": "markdown",
   "metadata": {},
   "source": [
    "### Exemple 1: calcul du PGCD de 2 entiers\n",
    "\n",
    "     - PGCD(a,b)=PGCD(a-b,b) si a>b\n",
    "     - PGCD(a,b)=PGCD(b-a,a) si a<b\n",
    "     - PGCD(a,a)=a\n",
    "\n",
    "#### Algorithme PGCD recursif\n",
    "\n",
    "     Algorithme PGCD(a,b)\n",
    "      si a == b \n",
    "         retour a\n",
    "      sinon si a > b\n",
    "         retour PGCD(a-b,b)\n",
    "      sinon\n",
    "         retour PGCD(b-a,a)\n",
    "         \n",
    "#### Programme Python"
   ]
  },
  {
   "cell_type": "code",
   "execution_count": null,
   "metadata": {},
   "outputs": [],
   "source": [
    "def PGCD(a,b):\n",
    "    print(\"appel PGCD(\",a,\",\",b,\")\")\n",
    "    if a==b:\n",
    "        return a\n",
    "    elif a>b:\n",
    "        return PGCD(a-b,b)\n",
    "    else:\n",
    "        return PGCD(b-a,a)\n",
    "#\n",
    "print(PGCD(9,21))"
   ]
  },
  {
   "cell_type": "markdown",
   "metadata": {},
   "source": [
    "### Exemple 2: calcul du déterminant d'une matrice\n",
    "soit $A$ une matrice d'ordre $n$, la méthode de Cramer permet le \n",
    "calcul récursif du déterminant par développement par rapport à la 1ere colonne\n",
    "\n",
    "$$ det(A) = \\sum_{k=1}^n (-1)^{k+1} A_{k,1} \\times det(A^k) $$ \n",
    "\n",
    "où $A^k$ est la sous-matrice obtenu par élimination de la colonne 1 et de  la ligne $k$ de $A$\n",
    "\n",
    "Pour une matrice de dimension 1\n",
    "\n",
    "$$ det(a) = a $$\n",
    "\n",
    "#### Algorithme déterminant\n",
    "\n",
    "     Algorithme determinant(A)\n",
    "         n = dim(A)\n",
    "         si n==1 alors\n",
    "             retour A[0,0]\n",
    "         fin si\n",
    "         # A1 sous matrice d'ordre n-1\n",
    "         A1 = tableau(n-1,n-1)\n",
    "         det = 0\n",
    "         signe = 1\n",
    "         # développement par rapport a la 1ere colonne\n",
    "         pour k de 0 a n-1\n",
    "             # sous matrice Ak\n",
    "             A1[0:k,:] = A[0:k ,1:n]\n",
    "             A1[k:,:]  = A[k+1:,1:n]\n",
    "             det = det + signe*A[k,0]*determinant(A1)\n",
    "             signe = -signe\n",
    "             fin pour\n",
    "         retour det\n",
    "         \n",
    "#### Programme Python"
   ]
  },
  {
   "cell_type": "code",
   "execution_count": null,
   "metadata": {},
   "outputs": [],
   "source": [
    "def determinant(A):\n",
    "    \"\"\" calcul du déterminant d'une matrice A \"\"\"\n",
    "    n=A.shape[0]\n",
    "    print(\"determinant \",n)\n",
    "    if n==1 :\n",
    "        return A[0,0]\n",
    "    A1 = np.zeros((n-1,n-1))\n",
    "    det = 0.\n",
    "    signe = 1\n",
    "    for k in range(n):\n",
    "        if k>0:\n",
    "            A1[0:k,:] = A[0:k,1:n]\n",
    "        if k<n-1:\n",
    "            A1[k:,:]  = A[k+1:n,1:n]\n",
    "        print(\"dvt ligne \",k,n)\n",
    "        det = det + signe*A[k,0]*determinant(A1)\n",
    "        signe = -signe\n",
    "    return det\n",
    "#\n",
    "M = np.array([[2.,0.,0],[0.,3.,0],[0,0,4.]])\n",
    "delta = determinant(M)"
   ]
  },
  {
   "cell_type": "markdown",
   "metadata": {},
   "source": [
    "### Exercise: tour de Hanoi\n",
    "Ecrire un algorithme récursif pour résoudre le problème des [tours de Hanoi](https://fr.wikipedia.org/wiki/Tours_de_Hano%C3%AF)"
   ]
  },
  {
   "cell_type": "markdown",
   "metadata": {},
   "source": [
    "## Tri d'un tableau\n",
    "\n",
    "### tri par insertion\n",
    "\n",
    "> algorithme de tri classique: on  compare successivement chaque élément du tableau en l'insérant au non endroit dans le tableau (méthode classique de tri d'un jeu de carte)"
   ]
  },
  {
   "cell_type": "markdown",
   "metadata": {},
   "source": [
    "#### principe\n",
    "<img src=\"liste.png\" alt=\"liste\" width=\"400px\"/>"
   ]
  },
  {
   "cell_type": "markdown",
   "metadata": {},
   "source": [
    "#### algorithme\n",
    "\n",
    "    # Tri d'un tableau X de n éléments\n",
    "    Algorithme Tri_insertion(X)\n",
    "        n=dimension de X\n",
    "        pour i de 1 a n-1 faire  # trie des élts\n",
    "            x = T[i]  # élément a trier\n",
    "            j = i     # position\n",
    "            tant que (j>0) et (T[j-1]>x) faire\n",
    "                T[j] = T[j-1] # permute j et j-1\n",
    "                j = j -1  # nouvelle position de x\n",
    "            fin tant que\n",
    "            T[j] = x  # position de l’élément \n",
    "        fin i\n",
    "        retour # le tableau X est trie\n",
    "        \n",
    "**Visualisation de l'algorithme en Python**"
   ]
  },
  {
   "cell_type": "code",
   "execution_count": null,
   "metadata": {},
   "outputs": [],
   "source": [
    "#HTML('<iframe width=\"800\" height=\"450\" frameborder=\"0\" src=\"http://pythontutor.com/iframe-embed.html#code=def+tri_insertion(X)%3A%0A++++n%3Dlen(X)%0A++++for+i+in+range(1,n)%3A%0A++++++++x%3DX%5Bi%5D%0A++++++++j%3Di%0A++++++++while+(j%3E0)+and+(X%5Bj-1%5D%3Ex)%3A%0A++++++++++++X%5Bj%5D+++%3D+X%5Bj-1%5D%0A++++++++++++j+%3D+j+-+1%0A++++++++X%5Bj%5D+%3D+x%0A++++return%0AX%3D%5B5,3,4,1%5D%0Atri_insertion(X)&cumulative=false&heapPrimitives=false&drawParentPointers=false&textReferences=false&showOnlyOutputs=false&py=2&curInstr=38&codeDivWidth=350&codeDivHeight=400\"> </iframe>')"
   ]
  },
  {
   "cell_type": "markdown",
   "metadata": {},
   "source": [
    "**Efficacité** $O(n^2)$\n",
    "\n",
    "- algorithme assez efficace pour $n$ petit ou des tableaux presque triés\n",
    "- tri sur place\n",
    "- il existe des méthodes de tri plus efficaces (tri bulle, ...)"
   ]
  },
  {
   "cell_type": "markdown",
   "metadata": {},
   "source": [
    "### Algorithme de tri de la bibliothéque numpy\n",
    "**sort**: méthode de trie plus efficace (tri rapide ou quicksort), renvoi\n",
    "le tableau trié"
   ]
  },
  {
   "cell_type": "code",
   "execution_count": null,
   "metadata": {},
   "outputs": [],
   "source": [
    "from numpy import *\n",
    "X=array([5,3,4,1])\n",
    "sort(X)"
   ]
  },
  {
   "cell_type": "markdown",
   "metadata": {},
   "source": [
    "## Recherche de la racine $F(x)=0$\n",
    "\n",
    "- méthode itérative à partir d'une estimation $x_0$ \n",
    "- methode de Newton: $x_{n+1}= x_n - \\frac{F(x_n)}{F'(x_n)}$\n",
    "- méthode de la sécante: Newton avec $F'(x_n) \\approx \\frac{F(x_n)-F(x_{n-1})}{x_n - x_{n-1}}$\n",
    "\n",
    "<img src=\"newton.png\" alt=\"newton\" width=\"300px\"/>\n",
    "\n",
    "fonction **fsolve** dans scipy.optimize\n",
    "\n",
    "\n",
    "- généralisation dans $\\mathbf{R}^p$, on remplace $F'(x_n)$ par la matrice Jacobienne $J = \\{\\frac{\\partial F_i}{\\partial x_j}\\} $\n"
   ]
  },
  {
   "cell_type": "code",
   "execution_count": null,
   "metadata": {},
   "outputs": [],
   "source": [
    "from numpy import *\n",
    "import matplotlib.pyplot as plt\n",
    "from scipy.optimize import fsolve\n",
    "# fonction et sa dérivée\n",
    "def F(x):\n",
    "    return x+2*cos(x)\n",
    "def dF(x):\n",
    "    return 1-2*sin(x)\n",
    "# analyse\n",
    "x0=0.\n",
    "xe=fsolve(F,x0,fprime=dF)\n",
    "X=linspace(-2,1,100)\n",
    "plt.plot(X,F(X),lw=2)\n",
    "plt.plot(x0,F(x0),'co')\n",
    "plt.plot(xe,F(xe),'mo')\n",
    "plt.axhline(y=0,color='r',lw=1)\n",
    "# racine\n",
    "x1=fsolve(F,x0,fprime=dF)\n",
    "print(\"racine=\",x1,\"erreur=\",F(x1))\n",
    "# sortie detaillee\n",
    "[x1,infodict,ierr,mesg]=fsolve(F,x0,fprime=dF,full_output=True)\n",
    "print(\"nbre d evaluation de F : \",infodict['nfev'])\n",
    "# idem mais sans utiliser la dérivée (estimation par differences finies)\n",
    "x1=fsolve(F,x0)\n",
    "print(\"racine=\",x1,\"erreur=\",F(x1))\n",
    "[x1,infodict,ierr,mesg]=fsolve(F,x0,full_output=True)\n",
    "print(\"nbre d evaluation de F: \",infodict['nfev'])"
   ]
  },
  {
   "cell_type": "markdown",
   "metadata": {},
   "source": [
    "### Exercice d'application\n",
    "\n",
    "Un projectile de masse $M$ est tiré avec un angle $\\alpha$ et une vitesse initiale $U_0$. En tenant compte de la résistance de l'air qui exerce une force proportionnelle à la vitesse $F=K U$, la trajectoire du projectile est donnée par:\n",
    "\n",
    "\\begin{eqnarray}\n",
    "x(t)&=& C\\cos{\\alpha} (1-e^{-t/C})\\\\\n",
    "y(t)&=& (C\\sin{\\alpha}+32C^2)(1-e^{-t/C}) - 32 C t\n",
    "\\end{eqnarray}\n",
    "\n",
    "avec $C=M/K$.\n",
    "Écrire un programme python permettant de calculer le temps et la distance du point d'impact.\n",
    "\n",
    "AN: $\\alpha=45°$, $U_0=40 m/s$"
   ]
  },
  {
   "cell_type": "markdown",
   "metadata": {},
   "source": [
    "## Polynômes\n",
    "\n",
    "soit le polynôme $P(x)$ de degré $n$\n",
    "\n",
    "$$P(x) = \\sum_{i=0}^n a_i x^i $$\n",
    "\n",
    "Pour évaluer ce polynôme, on peut programmer direction la relation précédente:\n"
   ]
  },
  {
   "cell_type": "code",
   "execution_count": null,
   "metadata": {},
   "outputs": [],
   "source": [
    "def EvalPoly(X,A):\n",
    "    \"\"\" evaluation du polynôme de coefficient A[i] en x \"\"\"\n",
    "    somme = zeros(size(X))\n",
    "    for i,a in enumerate(A):\n",
    "        somme = somme + a*X**i\n",
    "    return somme\n",
    "#\n",
    "A=array([1.,2.,3.,4.])\n",
    "X=array([1.0,-1.,2.,-2.])\n",
    "print(EvalPoly(X,A))\n",
    "A=2*random.rand(20)-1.\n",
    "X=2*random.rand(100)-1.\n",
    "%timeit EvalPoly(X,A)"
   ]
  },
  {
   "cell_type": "markdown",
   "metadata": {},
   "source": [
    "Pour évaluer $P(x)$ on peut aussi utiliser la forme factorisée de Hörner, en récrivant $P(x)$\n",
    "\n",
    "$$ P(x) = a_0 + x* (a_1 + x*(a_2 + x*( \\cdots  x*(a_{n_1} + a_n =*x)$$"
   ]
  },
  {
   "cell_type": "code",
   "execution_count": null,
   "metadata": {},
   "outputs": [],
   "source": [
    "def Horner(X,A):\n",
    "    \"\"\" evaluation du polynôme de coefficient A[i] en x par l'algorithme de Horner\"\"\"\n",
    "    somme = zeros(size(X))\n",
    "    for a in reversed(A):\n",
    "        somme = X*somme + a\n",
    "    return somme\n",
    "#\n",
    "A=array([1.,2.,3.,4.])\n",
    "X=array([1.0,-1.,2.,-2.])\n",
    "print(Horner(X,A))\n",
    "A=2*random.rand(20)-1\n",
    "X=2*random.rand(100)-1.\n",
    "%timeit Horner(X,A)"
   ]
  },
  {
   "cell_type": "markdown",
   "metadata": {},
   "source": [
    "La formule factorisée de Hörner est donc beaucoup plus efficace!!\n",
    "C'est celle utilisée dans la bibliothéque numpy"
   ]
  },
  {
   "cell_type": "code",
   "execution_count": null,
   "metadata": {},
   "outputs": [],
   "source": [
    "from numpy.polynomial.polynomial import polyval\n",
    "A=array([1.,2.,3.,4.])\n",
    "X=array([1.0,-1.,2.,-2.])\n",
    "print(polyval(X,A))\n",
    "A=2*random.rand(20)-1\n",
    "X=2*random.rand(100)-1.\n",
    "%timeit polyval(X,A)"
   ]
  },
  {
   "cell_type": "markdown",
   "metadata": {},
   "source": [
    "## Interpolation\n",
    "### Interpolation de Lagrange\n",
    "Soient $N+1$ points $\\left\\{ X_i,Y_i \\right\\}_{i=0..N}$, le polynôme d’interpolation de Lagrange est le polynôme de degré $N$ passant par ces $N+1$ points.\n",
    "<img src=\"interp.png\" alt=\"newton\" width=\"400px\"/>"
   ]
  },
  {
   "cell_type": "markdown",
   "metadata": {},
   "source": [
    "### Formule de Lagrange (instable si $N>10$)\n",
    "\n",
    "$$P(x) = \\sum_{i=0}^N Y_i L_i(x) \\mbox{ avec } L_i(x) = \\frac{\\prod_{j=0, j\\neq i}^N (X-X_j)}{\\prod_{j=0, j\\neq i}^N (X_i-X_j)} $$\n",
    "\n",
    "        # bibliotheque scipy\n",
    "        scipy.interpolate.lagrange\n",
    "    \n",
    "### Pour $N$ grand: interpolation locale (linéaire, spline, ..)\n",
    "\n",
    "        # bibliotheque scipy\n",
    "        scipy.interpolate.interp1d"
   ]
  },
  {
   "cell_type": "code",
   "execution_count": null,
   "metadata": {},
   "outputs": [],
   "source": [
    "from scipy.interpolate import lagrange,interp1d\n",
    "\n",
    "# fonction a interpoler\n",
    "F=lambda x:cos(x**2/8.)\n",
    "# interpolation sur 4 points\n",
    "Xp1=linspace(0,4,4)\n",
    "Yp1=F(Xp1)\n",
    "X1=linspace(0,4,100)\n",
    "P =lagrange(Xp1,Yp1)\n",
    "P1=interp1d(Xp1,Yp1)\n",
    "P3=interp1d(Xp1,Yp1,'cubic')\n",
    "# puis sur 10 points\n",
    "Xp2=linspace(0,10,10)\n",
    "Yp2=F(Xp2)\n",
    "X2=linspace(0,10,100)\n",
    "Q =lagrange(Xp2,Yp2)\n",
    "Q1=interp1d(Xp2,Yp2)\n",
    "Q3=interp1d(Xp2,Yp2,'cubic')\n",
    "# tracer\n",
    "plt.figure(figsize=(12,6))\n",
    "plt.subplot(1,2,1)\n",
    "plt.plot(Xp1,Yp1,\"bo\")\n",
    "plt.plot(X1,P(X1),'--',label=\"Lagrange\")\n",
    "plt.plot(X1,P1(X1),'-.',label=\"lineaire\")\n",
    "plt.plot(X1,P3(X1),'-',label=\"cubique\")\n",
    "plt.plot(X1,F(X1),'k-',lw=2,label=\"F(x)\")\n",
    "plt.legend(loc=0)\n",
    "plt.subplot(1,2,2)\n",
    "plt.plot(Xp2,Yp2,\"bo\")\n",
    "plt.plot(X2,Q(X2),'--',label=\"Lagrange\")\n",
    "plt.plot(X2,Q1(X2),'-.',label=\"lineaire\")\n",
    "plt.plot(X2,Q3(X2),'-',label=\"cubique\")\n",
    "plt.plot(X2,F(X2),'k-',lw=2,label=\"F(x)\")\n",
    "plt.legend(loc=0)"
   ]
  },
  {
   "cell_type": "markdown",
   "metadata": {},
   "source": [
    "### Droite des moindres carrées\n",
    "\n",
    " Soient $n$ couples de points expérimentaux: $(X_i,Y_i)_{i=0,n-1}$, on cherche à lisser ces points par la droite des moindres carrés: $y = a x +b $\n",
    " \n",
    "<img src=\"moindrescarres.png\" alt=\"moindres carrés\" width=\"280px\"/>\n",
    " \n",
    "**Principe**\n",
    "\n",
    " on détermine la droite $y = a x + b$ qui minimise l'erreur $Err$ entre les points de mesure et les points de la droite:\n",
    " \n",
    "$$ Err(a,b) = \\sum_{i=0}^{n-1} \\Delta_i ^2 $$\n",
    "\n",
    "où $\\Delta_i ^2 = (a X_i +b - Y_i)^2$ représente le carré de l'erreur entre un point de mesure $(X_i,Y_i)$ et le point correspondant de la droite  $(X_i, a X_i + b)$  \n",
    "\n",
    "Les valeurs de $a$ et $b$ sont déterminées en minimisant l'erreur $Err(a,b)$ par rapport à $a$ et $b$, i.e. tel que $\\frac{\\partial Err}{\\partial a} = 0 $ et  $\\frac{\\partial Err}{\\partial b} = 0$\n",
    "\n",
    "On obtient ainsi le système linéaire de 2 équations:\n",
    "\n",
    "$$  a \\overline{X} + b  = \\overline{Y} \\mbox{ avec }  \\overline{X}=\\frac{1}{n}\\sum_{i=0}^{n-1}{X_i} \\mbox{ et } \\overline{Y}=\\frac{1}{n}\\sum_{i=0}^{n-1}{Y_i}$$\n",
    "\n",
    "$$  a \\overline{X^2} + b \\overline{X} =  \\overline{XY} \\mbox{ avec } \\overline{X^2}=\\frac{1}{n}\\sum_{i=0}^{n-1}{X_i^2} \\mbox{ et } \\overline{XY}=\\frac{1}{n}\\sum_{i=0}^{n-1}{X_i Y_i}$$\n",
    "\n",
    "dont la solution s'écrit:\n",
    "\n",
    "$$ a = \\frac{\\overline{XY}- \\overline{X}\\ \\overline{Y}}{\\overline{X^2}- (\\overline{X})^2} \\mbox{ et }  b = \\overline{Y} - a \\overline{X} $$\n"
   ]
  },
  {
   "cell_type": "markdown",
   "metadata": {},
   "source": [
    "## Intégration\n",
    "\n",
    "formule de quadrature par approximation de la fonction $f(x)$ par un polynôme d'interpolation $P(x)$\n",
    "\n",
    "$$ \\int_a^b{f(x)\\,dx} \\approx \\int_a^b{P(x)\\,dx} = \\sum_{i=0}^N w_i f(x_i) $$\n",
    "\n",
    "### méthode des trapèzes (P(x) polynôme de degré 1 par morceaux)\n",
    "\n",
    "$$ \\int_a^b{f(x)\\,dx} \\approx \\sum_{i=1}^N h\\frac{f(a+ih)+f(a+(i-1)h)}{2}\n",
    "\\mbox{ avec } h=\\frac{b-a}{N}$$\n",
    "\n",
    "**méthode d'ordre 2**: erreur $O(h^2)$\n",
    "\n",
    "    # librairie scipy\n",
    "    scipy.integrate.cumtrapz\n",
    "    \n",
    "### méthode de Simpson (P(x) polynôme de degré 2 par morceaux)\n",
    "\n",
    "$$ \\int_a^b{f(x)\\,dx} \\approx \\sum_{i=1}^N h\\frac{f(a+ih)+4f(a+(i-\\frac{1}{2})h)+f(a+(i-1)h)}{6}\n",
    "\\mbox{ avec } h=\\frac{b-a}{N}$$\n",
    "\n",
    "**méthode d'ordre 4**: erreur $O(h^4)$\n",
    "\n",
    "        # librairie scipy\n",
    "        scipy.integrate.simps\n",
    "    \n",
    "### méthode de Gauss\n",
    "\n",
    "- on utilise des points de Gauss comme points d'interpolation\n",
    "- avec $N$ points de Gauss, formule exacte pour des polynômes de degré $\\leq 2n+1$\n",
    "- très précise pour $f(x)$ analytique\n",
    "\n",
    "        # bibliotheque scipy\n",
    "        scipy.integrate.quadrature\n",
    "        \n",
    "### Comparaison des méthodes\n",
    "\n",
    "Calcul de $I = \\int_0^\\pi \\sin x\\, dx = 2$"
   ]
  },
  {
   "cell_type": "code",
   "execution_count": null,
   "metadata": {},
   "outputs": [],
   "source": [
    "def Simpson(Y,dx):\n",
    "    \"\"\" Calcul de l'integrale par la mehode de simspon\n",
    "        Y valeurs de f(x) en 2N+1 points distants de dx \"\"\"\n",
    "    somme = 0.\n",
    "    N = size(Y)//2\n",
    "    for i in range(N):\n",
    "        somme = somme + Y[2*i+2]+4*Y[2*i+1]+Y[2*i]\n",
    "    return somme*dx/3.\n",
    "#\n",
    "N=20\n",
    "X=linspace(0,pi,2*N+1)\n",
    "dx=X[1]-X[0]\n",
    "Y=sin(X)\n",
    "print(\"Simpson=\",Simpson(Y,dx))\n",
    "# libaririe\n",
    "from scipy.integrate import simps,cumtrapz\n",
    "print(\"simps=\",simps(Y,dx=dx))\n",
    "print(\"trapz=\",cumtrapz(Y,dx=dx)[-1])\n",
    "# Gauss\n",
    "from scipy.integrate import quadrature\n",
    "print(\"Gauss=\",quadrature(sin,0,pi,maxiter=7))"
   ]
  },
  {
   "cell_type": "markdown",
   "metadata": {},
   "source": [
    "## Equations différentielles\n",
    "\n",
    "### Equation différentielle du 1er ordre\n",
    "\n",
    "$$ \\frac{d Y}{d t} = F(t,Y) \\mbox{ avec la C.I. } Y(0)=Y_0$$\n",
    "\n",
    "- $Y(t)$ est une courbe dont l'équation donne la tangente\n",
    "- calcul de la trajectoire à partir de la vitesse\n",
    "- approximation de $\\frac{d Y}{d t}$ par différences finies\n",
    "\n",
    "$$ \\frac{d Y}{d t} = \\lim_{\\Delta t \\rightarrow \\infty}{\\frac{\\Delta Y}{\\Delta t}} \\approx \\frac{Y_{n+1}-Y_n}{\\Delta t}$$\n",
    "\n",
    "\n",
    "### Méthode de Runge Kutta d'ordre 2\n",
    "\n",
    "$$ Y_{n+1} = Y_n + \\Delta t F(Y_{n+1/2},t_n + \\frac{\\Delta t}{2}) \\mbox{ avec } Y_{n+1/2} = Y_n + \\frac{\\Delta t}{2} F(Y_n,t_n) $$\n",
    "\n",
    "- approximation de la tangente au milieu de l'intervalle\n",
    "- méthode d'ordre 2\n",
    "\n",
    "<img src=\"RungeKutta.png\" alt=\"RungeKutta\" width=\"500px\"/>"
   ]
  },
  {
   "cell_type": "code",
   "execution_count": null,
   "metadata": {},
   "outputs": [],
   "source": [
    "def RungeKutta2(F,Y0,t0,dt):\n",
    "    \"\"\" integration par RK2 de dY/dt=F(t,Y) de t0 a t0+dt avec Y(t0)=Y0 \"\"\"\n",
    "    return Y0 + dt*F(t0 + dt/2. ,Y0 + dt/2.*F(t0,Y0))"
   ]
  },
  {
   "cell_type": "markdown",
   "metadata": {},
   "source": [
    "**utilisation bibliotheque scipy**\n",
    "\n",
    "    import scipy\n",
    "    # Bibliothéque scipy.integrate.ode \n",
    "    nom='dopri5'\n",
    "    methode = scipy.integrate.ode(F).set_integrator(nom)\n",
    "    # nom = methode d'integration\n",
    "    # 'dopri5' methode Runge Kutta d'ordre 4(5)\n",
    "    # 'lsoda'  methode implicite (Adams Bashford et BDF)\n",
    "    methode.set_initial_value(Y0,t0)\n",
    "    methode.integrade(t)"
   ]
  },
  {
   "cell_type": "markdown",
   "metadata": {},
   "source": [
    "### exemple: intégration de dY/dt = Y avec Y(0)=1 \n",
    "solution $Y(t)=e^t$"
   ]
  },
  {
   "cell_type": "code",
   "execution_count": null,
   "metadata": {},
   "outputs": [],
   "source": [
    "from numpy import *\n",
    "import matplotlib.pyplot as plt\n",
    "from scipy.integrate import ode\n",
    "# second membre EDO\n",
    "def F(t,Y):\n",
    "    return Y\n",
    "# parametres\n",
    "t0 = 0.;  Y0 = 1.\n",
    "tf = 2.;  N  = 10\n",
    "T=linspace(t0,tf,N)\n",
    "# methode RK2\n",
    "Y2=zeros(N)\n",
    "Y2[0]=Y0\n",
    "Yex = exp(T)\n",
    "dt=T[1]-T[0]\n",
    "for i in range(1,N):\n",
    "    Y2[i] = RungeKutta2(F,Y2[i-1],T[i-1],dt)\n",
    "# scipy ode\n",
    "Y4=zeros(N)\n",
    "Y4[0]=Y0\n",
    "RK45=ode(F).set_integrator('dopri5')\n",
    "RK45.set_initial_value(Y0,t0)\n",
    "for i in range(1,N):\n",
    "    Y4[i]=RK45.integrate(T[i])\n",
    "# tracer\n",
    "plt.figure(figsize=(12,6))\n",
    "plt.subplot(1,2,1)\n",
    "plt.plot(T,Y2,'o',label=\"RK2\")\n",
    "plt.plot(T,Y4,'v',label=\"RK45\")\n",
    "plt.plot(T,Yex)\n",
    "plt.title('solution dY/dt=Y')\n",
    "plt.legend(loc=0)\n",
    "plt.subplot(1,2,2)\n",
    "plt.plot(T,abs(Y2-Yex),'o',label=\"RK2\")\n",
    "plt.plot(T,abs(Y4-Yex),'v',label=\"RK45\")\n",
    "plt.title('Erreur')\n",
    "plt.legend(loc=0)\n",
    "plt.show()"
   ]
  },
  {
   "cell_type": "markdown",
   "metadata": {},
   "source": [
    "### Equation différentielle du second ordre\n",
    "\n",
    "$$\\frac{d^2 y}{d t^2} = f(t,y,\\frac{dy}{dt}) \\mbox{ avec les C.I. : } y(0)=y_0, \\frac{dy}{dt}(0)=u_0$$\n",
    "\n",
    "- transformation en un système EDO d'ordre 1:\n",
    "\n",
    "$$ \\frac{d Y}{dt} = F(t,Y) $$\n",
    "\n",
    "- on pose $Y_1 = y$ et $Y_2 = \\frac{dy}{dt}$\n",
    "\n",
    "$$ \\frac{d}{dt} \\left[\\begin{array}{c}\n",
    "Y_1 \\\\\n",
    "Y_2 \\\\\n",
    "\\end{array}\\right] = \\left[\\begin{array}{c}\n",
    "Y_2 \\\\\n",
    "f(t,Y_1,Y_2) \\\\\n",
    "\\end{array}\\right] \\mbox{ avec } Y_1(0)=y_0 \\mbox{ et } Y_2(0)=u_0$$\n",
    "\n",
    "### Méthode de Verlet (1967)\n",
    "\n",
    "- Intégration de l' équation du mouvement en astrophysique et dynamique moléculaire\n",
    "- Equation de Newton avec des forces $F$ dépendants de la position $X(t)$\n",
    "\n",
    "$$ M \\frac{d^2 X}{dt^2} = F(X(t)) \\mbox{ avec } X(0)=X_0, \\frac{dX}{dt}(0)=V_0$$\n",
    "\n",
    "- Approximation centrée d'ordre 2 de la dérivée seconde\n",
    "\n",
    "$$ \\frac{d^2 X}{dt^2} = \\lim_{\\Delta t \\rightarrow \\infty}{\\frac{\\Delta}{\\Delta t}(\\frac{\\Delta X}{\\Delta t})}\\approx \\frac{X_{n+1}-2X_n+X_{n-1}}{\\Delta t^2}$$\n",
    "\n",
    "**Algorithme de Verlet **\n",
    "\n",
    "$$ X_{n+1} = 2X_n - X_{n-1} + \\Delta t^2 A(X_n) \\mbox{ avec } A(X)=M^{-1} F(X) $$\n",
    "\n",
    "- erreur d'ordre 4, simplectique pour les systèmes Hamiltonien (conservatif)\n",
    "\n",
    "- démarrage des itérations (ordre 3)\n",
    "\n",
    "$$ X_1 = X_0 + \\Delta t V_0 + \\frac{\\Delta t^2}{2} A(X_0) $$\n",
    "\n",
    "### exemple: trajectoire de la terre autour du soleil \n",
    "\n",
    "loi de la gravitation universelle: planete masse $m$ distante de $(x,y)$ d'un soleil masse $M$:\n",
    "\n",
    "$$ \\begin{cases}\n",
    "m \\frac{d^2 x}{dt^2} = - \\frac{G M m }{r^2} \\frac{x}{r} \\\\\n",
    "m \\frac{d^2 y}{dt^2} = - \\frac{G M m }{r^2} \\frac{y}{r} \n",
    "\\end{cases}$$"
   ]
  },
  {
   "cell_type": "code",
   "execution_count": null,
   "metadata": {},
   "outputs": [],
   "source": [
    "from numpy import *\n",
    "import matplotlib.pyplot as plt\n",
    "from scipy.integrate import ode\n",
    "# unites astronomiques\n",
    "LONG=1.e11\n",
    "MASSE=1.e24 \n",
    "JOUR=24.*3600\n",
    "# constante\n",
    "G=6.67e-11/(LONG**3/MASSE/JOUR**2)   # constante de gravitation en m^3/kg/s^2\n",
    "M=2.0e30/MASSE                   # masse du soleil en kg\n",
    "m=6.0e24/MASSE                   # masse de la terre en kg\n",
    "r0=147.0e9/LONG                  # distance initiale terre soleil en m\n",
    "u0=30.4e3*JOUR/LONG              # vitesse initiale en m/s\n",
    "# nbre de jours d'integration \n",
    "N=365\n",
    "# integration avec la methode de verlet\n",
    "# =====================================\n",
    "# calcul force attraction\n",
    "def Force(x,y):\n",
    "    r=sqrt(x*x+y*y)\n",
    "    return G*M/r**3\n",
    "#\n",
    "t=linspace(0,N-1,N)\n",
    "x=zeros(N); x[0]=r0\n",
    "y=zeros(N); y[0]=0\n",
    "# pas d'integration par jour\n",
    "npj=20\n",
    "dt=1./npj\n",
    "# position initiale a t=t0 et t=t0-dt\n",
    "x1=r0; y1=0.; a0 = 0.5*Force(x1,y1)*dt**2\n",
    "x0 = x1         -a0*x1\n",
    "y0 = y1 - u0*dt -a0*y1\n",
    "# boucle d'integration\n",
    "for i in range(1,N):\n",
    "    for k in range(npj):\n",
    "        a1 = Force(x1,y1)*dt**2\n",
    "        x2 = 2*x1 - x0 -a1*x1\n",
    "        y2 = 2*y1 - y0 -a1*y1\n",
    "        x0=x1; y0=y1\n",
    "        x1=x2; y1=y2\n",
    "    x[i]=x2\n",
    "    y[i]=y2\n",
    "# integration avec RK45\n",
    "# =====================\n",
    "# second membre ODE d'ordre 1\n",
    "def F(t,Y):\n",
    "    r = sqrt(Y[0]*Y[0]+Y[1]*Y[1])\n",
    "    a = G*M/r**3\n",
    "    return [Y[2], Y[3], -a*Y[0], -a*Y[1]]\n",
    "# scipy ode RK45\n",
    "t4=linspace(0,N-1,N)\n",
    "x4=zeros(N); x4[0]=r0\n",
    "y4=zeros(N); y4[0]=0\n",
    "Y0=array([r0,0,0,u0])\n",
    "RK45=ode(F).set_integrator('dopri5')\n",
    "RK45.set_initial_value(Y0,0.)\n",
    "for i in range(1,N):\n",
    "    [x4[i],y4[i],u4,v4]=RK45.integrate(t4[i])\n",
    "# tracer\n",
    "plt.figure(figsize=(12,6))\n",
    "plt.subplot(1,2,1)\n",
    "plt.plot(x,y,label='verlet')\n",
    "plt.plot(x4,y4,label='rk45')\n",
    "plt.plot(0.,0.,'o')\n",
    "plt.legend(loc=0)\n",
    "plt.title(\"Trajectoire\")\n",
    "plt.axis('equal')\n",
    "plt.subplot(1,2,2)\n",
    "plt.plot(t4,sqrt(x**2+y**2)-sqrt(x4**2+y4**2))\n",
    "plt.title(\"Difference\")\n",
    "plt.show()"
   ]
  },
  {
   "cell_type": "markdown",
   "metadata": {},
   "source": [
    "## Exercices\n",
    "\n",
    "### Swinging pendulum\n",
    "On considère le mouvement de $N$ pendules simples de longueurs $L$ variables.\n",
    "\n",
    "Écrire un programme python qui calcule le mouvement de ces pendules. Déterminez la répartition des longueurs $L$ permettant d'obtenir le type de mouvement ci-dessous avec $N=15$ pendules.\n",
    "\n",
    "On comparera aussi le résultat avec les vidéos d'expériences trouvées sur le net."
   ]
  },
  {
   "cell_type": "code",
   "execution_count": null,
   "metadata": {},
   "outputs": [],
   "source": [
    "from anim import trace_swing_pendulum\n",
    "HTML(trace_swing_pendulum())"
   ]
  },
  {
   "cell_type": "markdown",
   "metadata": {},
   "source": [
    "### pendule simple avec une corde souple\n",
    "On considère les oscillations d'un pendule simple fixé à une corde souple de longueur maximum L et de masse négligeable par rapport au pendule. Lorsque la longueur de la corde est maximum, elle peut exercer uniquement une force de tension centripète sur la masse m du pendule.  Le pendule est lancé avec une vitesse initiale, et commence à osciller. Si la tension dans le fil devient nulle, le pendule est alors soumis uniquement à la force de gravité et sa trajectoire devient parabolique. Lors que cette trajectoire intercepte le cercle de longueur l, un choc se produit puisque le fil atteint alors sa longueur maximum et exerce à nouveau une tension sur le pendule. Ce choc est un choc mou avec perte d'énergie, et l'on suppose que ce choc est telle que la vitesse tangentielle se conserve et la vitesse normale s’annule. Le pendule se met alors à osciller, mais avec des oscillations de plus faibles amplitudes.\n",
    "\n",
    "Ecrire un programme python qui calcule la trajectoire du pendule."
   ]
  },
  {
   "cell_type": "code",
   "execution_count": null,
   "metadata": {},
   "outputs": [],
   "source": [
    "from anim import trace_pendulum\n",
    "HTML(trace_pendulum())"
   ]
  },
  {
   "cell_type": "markdown",
   "metadata": {},
   "source": [
    "### problème à N corps\n",
    "\n",
    "On considère un système planétaire de $N$ masses en interaction gravitationnelle. La force exercée par la masse $m_i$ sur la masse $m_j$ est donnée par la relation de Newton:\n",
    "$$ F_{i,j} = \\frac{G m_i m_j}{r_{i,j}^2} \\mbox{ avec } r_{i,j}=\\mbox{distance entre les 2 masses}$$\n",
    "$G$ est la constante de gravitation universelle. Pour $N=3$, on a le problème classique des 3 corps qui intrigue les physiciens depuis Newton. \n",
    "\n",
    "Écrire un programme python calculant la trajectoire de $N$ corps se trouvant dans un même plan, modélisant un système planétaire où la première masse représente le soleil et les autres masses les planètes.\n",
    "\n",
    "Quelle est la complexité de l'algorithme en fonction de N ?\n",
    "\n",
    "Dans le cas du système à trois corps Soleil-Terre-Jupiter, retrouver le mouvement du système solaire.\n",
    "\n",
    "**unités**: Dans le système d'unités astronomiques, i.e. la distance $L_t=1.49\\,10^{11}\\,m$ de la terre au soleil comme unité de longueur, la masse $M_t=6\\,10^{24}\\,kg$ de la terre comme unité de masse, et l'année terrestre moyenne $T_t=365,25\\,jours$ comme unité de temps, on a  $G=0.00012$. On a aussi la masse du Soleil $m_0=3.33\\,10^5$, la masse de Jupiter $m_2=316.7$ et la distance Soleil Jupiter $r_2=5.2$.\n",
    "\n",
    "Étudier le comportement du système lorsque la masse du soleil diminue.\n",
    "\n",
    "Essayer de retrouver la solution périodique en huit découverte en 1993 par Christopher Moore."
   ]
  },
  {
   "cell_type": "code",
   "execution_count": null,
   "metadata": {},
   "outputs": [],
   "source": [
    "from anim import trace_trois_corps\n",
    "HTML(trace_trois_corps())"
   ]
  },
  {
   "cell_type": "markdown",
   "metadata": {},
   "source": [
    "### pendule double: mouvement chaotic\n",
    "\n",
    "On veut étudier le mouvement d'un double pendule par intégration des équations du mouvement.\n",
    "\n",
    "Écrire un programme python pour calculer la position des 2 masses $m_1$ et $m_2$ au cours du temps.\n",
    "\n",
    "On comparera la simulation aux vidéos d'expérience disponible sur le net.\n",
    "\n",
    "<img src=\"Double_Pendulum.png\" width=\"200px\"/>"
   ]
  },
  {
   "cell_type": "code",
   "execution_count": null,
   "metadata": {},
   "outputs": [],
   "source": [
    "from anim import trace_double_pendulum\n",
    "HTML(trace_double_pendulum())"
   ]
  },
  {
   "cell_type": "markdown",
   "metadata": {},
   "source": [
    "### Évolution du volume d'une particule fluide\n",
    "En suivant la trajectoire d'une particule fluide dans un champ de vitesse $U=[u(x,y),v(x,y)]$, on détermine la variation du volume $V(t) de la particule.\n",
    "\n",
    "On veut vérifier la relation suivante:\n",
    "\n",
    "$$ \\frac{1}{V}\\frac{D V}{Dt} = div\\,U = \\frac{\\partial u}{\\partial x}+\\frac{\\partial v}{\\partial y}$$\n",
    "\n",
    "Ecrire un programme python qui calcule la trajectoire $(x(t),y(t)$ d'une particule fluide:\n",
    "\n",
    "$$ \\frac{d x}{dt}= u(x,y) \\mbox{ et } \\frac{d y}{dt}= v(x,y)$$\n",
    "\n",
    "et détermine la variation de son volume $V(t)$"
   ]
  },
  {
   "cell_type": "code",
   "execution_count": null,
   "metadata": {},
   "outputs": [],
   "source": [
    "from anim import trace_divergence\n",
    "HTML(trace_divergence())"
   ]
  },
  {
   "cell_type": "markdown",
   "metadata": {},
   "source": [
    "## FIN de la leçon\n",
    "\n",
    "<img src=\"recette_crepes_algorithme.png\" alt=\"algorithme\" width=\"500px\"/>"
   ]
  }
 ],
 "metadata": {
  "kernelspec": {
   "display_name": "Python 3",
   "language": "python",
   "name": "python3"
  },
  "language_info": {
   "codemirror_mode": {
    "name": "ipython",
    "version": 3
   },
   "file_extension": ".py",
   "mimetype": "text/x-python",
   "name": "python",
   "nbconvert_exporter": "python",
   "pygments_lexer": "ipython3",
   "version": "3.8.10"
  },
  "toc": {
   "base_numbering": 1,
   "nav_menu": {},
   "number_sections": true,
   "sideBar": true,
   "skip_h1_title": true,
   "title_cell": "Table des matières",
   "title_sidebar": "Contenu",
   "toc_cell": false,
   "toc_position": {},
   "toc_section_display": true,
   "toc_window_display": false
  }
 },
 "nbformat": 4,
 "nbformat_minor": 1
}
