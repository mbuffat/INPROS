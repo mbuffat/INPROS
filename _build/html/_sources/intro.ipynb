{
 "cells": [
  {
   "cell_type": "markdown",
   "metadata": {},
   "source": [
    "INPROS Introduction à la PROgrammation Scientifique\n",
    "===================================================\n",
    "Ce cours utilise des outils web Jupyter notebook\n",
    "permettant aux apprenants d'apprendre la programmation scientifique sous Python\n",
    "avec un simple navigateur sans avoir à installer de logiciel. \n",
    "\n",
    "<a rel=\"license\" href=\"http://creativecommons.org/licenses/by-nc-sa/2.0/fr/\"><img alt=\"Licence Creative Commons\" style=\"border-width:0;float:right;\" src=\"CHAP1/Figures/cc.png\" /></a><br />Mise à disposition selon les termes de la <a rel=\"license\" href=\"http://creativecommons.org/licenses/by-nc-sa/2.0/fr/\">Licence Creative Commons <br> Attribution - Pas d’Utilisation Commerciale - Partage dans les Mêmes Conditions 2.0 France</a>.\n",
    "\n",
    "Vidéo de présentation\n",
    "---------------------"
   ]
  },
  {
   "cell_type": "code",
   "execution_count": null,
   "metadata": {},
   "outputs": [],
   "source": [
    "from IPython.display import YouTubeVideo\n",
    "YouTubeVideo('x7rWe3yFEWE')\n"
   ]
  },
  {
   "cell_type": "markdown",
   "metadata": {},
   "source": [
    "Descriptif:\n",
    "----------\n",
    "Ce cours est une Initiation à la programmation scientifique pour la modélisation numérique en\n",
    "sciences.  L'objectif est l'apprentissage d'une méthodologie de programmation\n",
    "scientifique, axé sur la pratique de la programmation sous Python. Il s'adresse\n",
    "à des étudiants scientifiques n'ayant pas ou peu de connaissances en\n",
    "programmation, niveau post-bac scientifique. A l'issue du cours l'étudiant aura\n",
    "acquis une méthodologie, ainsi que la capacité à écrire des programmes simples\n",
    "mais utiles pour  simuler ou analyser des problèmes scientifiques .\n",
    "\n",
    "Objectifs:\n",
    "--------\n",
    "13 Leçons utilisant Ipython Notebook avec des videos. L'accés à un serveur Jupyter\n",
    "permet à l'étudiant sur son navigateur de tester  les programmes\n",
    "Python en parallèle du visionnement video du cours. \n",
    "\n",
    "Video d'introduction\n",
    "-----"
   ]
  },
  {
   "cell_type": "code",
   "execution_count": null,
   "metadata": {},
   "outputs": [],
   "source": [
    "from IPython.display import YouTubeVideo\n",
    "YouTubeVideo('O795I64W0Ck')\n"
   ]
  },
  {
   "cell_type": "markdown",
   "metadata": {},
   "source": [
    "Contenu:\n",
    "------- \n",
    "\n",
    "```{tableofcontents}\n",
    "```"
   ]
  }
 ],
 "metadata": {
  "jupytext": {
   "cell_metadata_filter": "-all",
   "formats": "md:myst",
   "text_representation": {
    "extension": ".md",
    "format_name": "myst",
    "format_version": 0.13,
    "jupytext_version": "1.11.5"
   }
  },
  "kernelspec": {
   "display_name": "Python 3",
   "language": "python",
   "name": "python3"
  },
  "language_info": {
   "codemirror_mode": {
    "name": "ipython",
    "version": 3
   },
   "file_extension": ".py",
   "mimetype": "text/x-python",
   "name": "python",
   "nbconvert_exporter": "python",
   "pygments_lexer": "ipython3",
   "version": "3.8.10"
  },
  "source_map": [
   14,
   26,
   30,
   50,
   54
  ]
 },
 "nbformat": 4,
 "nbformat_minor": 4
}
