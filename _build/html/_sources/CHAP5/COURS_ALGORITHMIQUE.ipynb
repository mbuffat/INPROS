{
 "cells": [
  {
   "cell_type": "markdown",
   "metadata": {},
   "source": [
    "<img src=\"Figures/logo_trans.png\" width=\"180px\" alt=\"LyonHPC\" />\n",
    "<img width=\"200px\" src=\"Figures/python-logo.gif\" alt=\"LyonHPC\"/>\n",
    "\n",
    "# Programmation structurée\n",
    "\n",
    "<img src=\"Figures/cloud_fonction.png\" alt=\"cloud\" width=\"300px\"/>"
   ]
  },
  {
   "cell_type": "code",
   "execution_count": null,
   "metadata": {},
   "outputs": [],
   "source": [
    "%matplotlib inline\n",
    "import numpy as np\n",
    "from IPython.display import HTML,display,IFrame,Video\n",
    "from IPython.display import YouTubeVideo,Markdown"
   ]
  },
  {
   "cell_type": "markdown",
   "metadata": {},
   "source": [
    "```{tip} \n",
    "pour tester les programmes Python, vous pouvez vous connectez sur un serveur Jupyter, par exemple, pour \n",
    "les étudiants Lyon1 [https://jupyter.mecanique.univ-lyon1.fr](https://jupyter.mecanique.univ-lyon1.fr)\n",
    "```"
   ]
  },
  {
   "cell_type": "markdown",
   "metadata": {},
   "source": [
    "## Programmation structurée\n",
    "\n",
    "En Informatique il existe différentes méthodes de programmation ou paradigmes de programmation (programmation structurée, programmation orientée objects, programmation fonctionnelle...). Parmi ces paradigmes, la programmation structurée est une méthode simple et  disponible dans de nombreux langages de programmation scientifique (Python, C, C++, ..). Le principe de base est le suivant: \n",
    "\n",
    ">**principe:** `Divide and Conquer`\n",
    "\n",
    "qui consiste à découper le problème en une suite de problèmes plus simples\n",
    "\n",
    "### Analyse algorithmique \"Top-Down design\"\n",
    "\n",
    "<img width=\"500px\" src=\"Figures/analyse_topdown.png\" alt=\"Analyse\" />\n",
    "\n",
    "### Principes de l'analyse top down\n",
    "\n",
    "- on découpe le problème en une série de sous-problèmes plus simples (si possible indépendant)\n",
    "- on spécifie ce qui doit résolu dans chacun des sous-problèmes sans forcément dire comment\n",
    "- puis on itère au niveau des sous problèmes.\n",
    "\n",
    "### Programmation \"Botton-up programming\"\n",
    "\n",
    "- on part des sous-problèmes élémentaires que l'on programme sous forme de fonctions (ou procédures)\n",
    "- on valide les fonctions\n",
    "- puis on réitère en remontant dans l'arbre jusqu'au programme principal\n",
    "\n",
    "**règles** réutiliser les fonctions déjà écrites et validées (bibliothèques): *principe du moindre effort !*\n"
   ]
  },
  {
   "cell_type": "markdown",
   "metadata": {},
   "source": [
    "## Exemple: simuler l'alunissage de Neil Amstrong (Apollo 11)\n",
    "\n",
    "- basé sur une simulation d'alunissage du module lunaire écrit en basic en 1969, puis popularisé en 1979 sur ATARI (Lunar Lander).\n",
    "\n",
    "<img width=\"300px\" src=\"Figures/Moon_Lander_v2.png\" alt=\"Moon Lander\" />\n"
   ]
  },
  {
   "cell_type": "code",
   "execution_count": null,
   "metadata": {},
   "outputs": [],
   "source": [
    "display(Markdown(\"**Video du cours: Programmation structurée sur un exemple 'Lunar Lander'**\"))\n",
    "YouTubeVideo('7QGM_BtCxRE')"
   ]
  },
  {
   "cell_type": "markdown",
   "metadata": {},
   "source": [
    "```{attention} \n",
    "Les vidéos utilisent un ancien interpréteur python 2.7, pour lequel `print` est un mot clé, \n",
    "soit `print 'bonjour'`.\n",
    "Avec Python 3, `print` est une fonction et il faut donc utiliser des parenthèses, \n",
    "soit `print('bonjour')` \n",
    "```"
   ]
  },
  {
   "cell_type": "markdown",
   "metadata": {},
   "source": [
    "\n",
    "### jeu \"Lunar Lander\"\n",
    "\n",
    "Poser le module lunaire (LEM) sur la lune en arrivant avec une vitesse quasiment nulle. Pour cela on dispose de rétro-fusées permettant de ralentir la chute du LEM. \n",
    "\n",
    "- On contrôle manuellement ces rétro-fusées en sélectionnant une poussée (de 0 à 9), correspondant à l'éjection de carburant avec un débit $Qe$ variable et une vitesse $Ue$ fixe. \n",
    "- Mais on dispose d'une quantité limitée de carburant que l'on doit utiliser avec modération pour pouvoir atterrir en douceur.\n",
    "\n",
    "#### modèle physique:\n",
    "Le LEM, de masse initiale $M0$, est soumis à la gravité $g$ de la lune et à la poussée des rétro-fusées, correspondant à l'éjection d'un débit de fuel $Qe$ à un vitesse $Ve$ . \n",
    "\n",
    "<img style=\" float:center; display:inline; width:450px;\" src=\"Figures/LEM.png\" alt=\"LEM\" />\n",
    "\n",
    "#### modèle mathématique:\n",
    "Equation du mouvement:\n",
    "\n",
    "$$ \\frac{d^2 Z}{dt^2} = -g + \\frac{Qe*Ue}{M0-Qe*t}$$\n",
    "\n",
    "en intégrant sur la durée d'une commande $T$ $\\rightarrow$ vitesse $V$\n",
    "\n",
    "$$ V = V0 + g*T + Ue * \\ln{(1 - \\frac{Qe*T}{M0})} $$\n",
    "\n",
    "La masse du LEM $M$ diminue \n",
    "\n",
    "$$M = M0 -Qe*T$$\n",
    "\n",
    "Approximation par DL car $X=\\frac{Qe*T}{M0} \\ll 1$\n",
    "\n",
    "$$ V = V0 + g*T - Ue*(X + \\frac{X^2}{2} + \\frac{X^3}{3}  + \\frac{X^4}{4} + \\frac{X^5}{5})$$\n",
    "d'où l'altitude $Z$\n",
    "\n",
    "$$ Z = Z0 - V0*T - g \\frac{T^2}{2} + Ue*T*(\\frac{X}{2} + \\frac{X^2}{6} + \\frac{X^3}{12}  + \\frac{X^4}{20} + \\frac{X^5}{30})$$\n",
    "\n",
    "expression utilisée dans les premiers programmes en BASIC.\n",
    "\n",
    "#### cas particuliers\n",
    "\n",
    "1. Si le fuel est épuisé ($Qe=0$), le LEM atteins la surface lunaire au bout d'un temps $T$ solution de l'équation du 2nd degré:\n",
    "\n",
    "$$ 0 = Z0 - V0*T -g \\frac{T^2}{2}$$\n",
    "\n",
    "soit $T = (-V0 + \\sqrt{V0^2 + 2 g Z0})/g$\n",
    "\n",
    "2. Près de la surface,  $T$ trop grand $\\rightarrow$ prédiction $Z0 < 0$\n",
    "   - calcul  $T$ donnant l'altitude $Z=0$, solution d'une équation du 6ième degré. \n",
    "   - calcul par approximations successives en utilisant un DL de $Z(t)$ \n",
    "     1. estimation $T0$ de $T$\n",
    "     \n",
    "     $$ T0 = \\frac{-V0 + \\sqrt{V0^2 + 2 (g-\\frac{Ue*Qe}{M0}) Z0}}{g-\\frac{Ue*Qe}{M0}} $$\n",
    "     \n",
    "     2. recalcule $V0$ et $Z0$, puis recommence."
   ]
  },
  {
   "cell_type": "markdown",
   "metadata": {},
   "source": [
    "### Algorithme: analyse top-down\n",
    "\n",
    "#### problème global\n",
    "\n",
    "<img width=\"450px\" src=\"Figures/Algorithme1.png\" alt=\"Algorithme\" />\n",
    "\n",
    "#### sous-probleme Lecture_cde\n",
    "\n",
    "<img width=\"450px\" src=\"Figures/Algorithme2.png\" alt=\"Algorithme\" />\n",
    "\n",
    "#### sous-problème VitesseAltitude\n",
    "\n",
    "applications des formules mathématiques de l'analyse précédente\n",
    "\n",
    "$$ V = V0 + g*T - Ue*(X + \\frac{X^2}{2} + \\frac{X^3}{3}  + \\frac{X^4}{4} + \\frac{X^5}{5})$$\n",
    "$$ Z = Z0 - V0*T - g \\frac{T^2}{2} + Ue*T*(\\frac{X}{2} + \\frac{X^2}{6} + \\frac{X^3}{12}  + \\frac{X^4}{20} + \\frac{X^5}{30})$$\n",
    "\n",
    "#### sous-probleme Alunissage\n",
    "\n",
    "<img width=\"450px\" src=\"Figures/Algorithme3.png\" alt=\"Algorithme\" />"
   ]
  },
  {
   "cell_type": "markdown",
   "metadata": {},
   "source": [
    "### Programmation Python bottom up\n",
    "#### Fonction Lecture_Cde"
   ]
  },
  {
   "cell_type": "code",
   "execution_count": null,
   "metadata": {},
   "outputs": [],
   "source": [
    "import numpy as np\n",
    "from random import sample\n",
    "import sys\n",
    "# constantes en unité SI (kg/m/s)\n",
    "g  = 1.6     # gravité\n",
    "Ue = 2900.   # vitesse d'ejection\n",
    "# \n",
    "def Lecture_Cde(Me,dt):\n",
    "    \"\"\" lecture de la commande (poussée) avec test carburant \"\"\"\n",
    "    T=dt\n",
    "    if Me>0 :\n",
    "        # lecture poussee\n",
    "        while True:\n",
    "            # lecture clavier\n",
    "            # ch = input(\"Entrez la valeur de la poussée (0-9) (en 10eme kg/s) = \")[0]\n",
    "            # lecture aleatoire\n",
    "            ch = sample(['0','1','2','3','4','5','6','7','8','9'],1)[0]\n",
    "            #\n",
    "            if (ch>='0') and (ch<='9') :\n",
    "                Qe = int(ch)*10 # pousse en kg/s\n",
    "                break;\n",
    "            if (ch=='Q') : sys.exit(1)\n",
    "            print(\"Erreur: entrer un chiffre entre 0 et 9 \")\n",
    "        # test si reserve de fuel suffisante\n",
    "        if (Me-Qe*T)<0 :\n",
    "            # temps restant d'utilisation du fuel\n",
    "            T = Me/Qe\n",
    "    else:\n",
    "        print(\"Plus de fuel \")\n",
    "        Qe = 0\n",
    "        # calcul du temps T pour parcourir Z0 (alunissage)\n",
    "        T = (-V0 + np.sqrt(V0*V0 + 2*g*Z0)) / g\n",
    "    return Qe,T"
   ]
  },
  {
   "cell_type": "markdown",
   "metadata": {},
   "source": [
    "#### Fonction VitesseAltitude"
   ]
  },
  {
   "cell_type": "code",
   "execution_count": null,
   "metadata": {},
   "outputs": [],
   "source": [
    "def VitesseAltitude(v0,Z0,X,T):\n",
    "    \"\"\" calcul de la nvlle vitesse en fonction de la vitesse init V0\n",
    "        un débit sans dimension X=Qe*T/M0 de fuel, pendant un temps T\n",
    "        ainsi que de la nouvelle altitude du LEM\n",
    "    \"\"\"\n",
    "    global g,Ue\n",
    "    V = V0 + g*T - Ue*(X + X*X/2. + X**3/3. + X**4/4. + X**5/5.)\n",
    "    Z = Z0 - V0*T - g*T*T/2. + Ue*T*(X/2. + X*X/6. + X**3/12. + X**4/20. + X**5/30.)\n",
    "    return V,Z"
   ]
  },
  {
   "cell_type": "markdown",
   "metadata": {},
   "source": [
    "#### Fonction Alunissage"
   ]
  },
  {
   "cell_type": "code",
   "execution_count": null,
   "metadata": {},
   "outputs": [],
   "source": [
    "def Alunissage(V0,Z0,M0,Qe):\n",
    "    \"\"\" calcul etat a Z=0 a partir d'une CI V0,Z0,M0 et une poussée Qe \"\"\"\n",
    "    global g,Ue\n",
    "    # calcul du temps T pour alunissage par approximation successive\n",
    "    T0 = 0\n",
    "    while np.abs(Z0) > 1.e-2:\n",
    "            T= (-V0 + np.sqrt(V0*V0 + 2*(g-Ue*Qe/M0)*Z0)) / (g-Ue*Qe/M0)\n",
    "            V0,Z0 = VitesseAltitude(V0,Z0,Qe*T/M0,T)\n",
    "            T0 = T0+ T\n",
    "    return V0,Z0,T0"
   ]
  },
  {
   "cell_type": "markdown",
   "metadata": {},
   "source": [
    "#### Programme principal"
   ]
  },
  {
   "cell_type": "code",
   "execution_count": null,
   "metadata": {},
   "outputs": [],
   "source": [
    "# conditions initiales\n",
    "Z0 = 190000. # position\n",
    "V0 = 1580.   # et vitesse\n",
    "M0 = 15000.  # masse initiale du LEM\n",
    "Me = 8000.   # dont une masse de fuel\n",
    "t  = 0.      # temps simulation\n",
    "dt = 10.     # pas en temps entre chaque commande\n",
    "#\n",
    "print(\"Simulation alunissage\")\n",
    "while np.abs(Z0)>1.e-2 :\n",
    "    Qe,T = Lecture_Cde(Me,dt)\n",
    "    # calcul de la nouvelle position du LEM\n",
    "    V1,Z1 = VitesseAltitude(V0,Z0,Qe*T/M0,T)\n",
    "    # test si alunnissage\n",
    "    if Z1 < 1.e-2 :\n",
    "        V1,Z1,T = Alunissage(V0,Z0,M0,Qe)\n",
    "    # mise a jour de la position du LEM\n",
    "    Z0 = Z1;      V0 = V1\n",
    "    Me = Me-Qe*T; M0 = M0-Qe*T\n",
    "    t  = t + T\n",
    "    print(\"t=\",int(t),\"s Z=\",int(Z0),\"m V=\",int(V0),\"m/s fuel=\",int(Me),\"kg\")\n",
    "# fin simulation\n",
    "print(\"Alunissage avec une vitesse \",int(V0),\" m/s\")\n",
    "if V0<=0.5 :\n",
    "    print(\"Alunissage parfait\")\n",
    "elif V0<=5. :\n",
    "    print(\"Bon alunissage, mais perfectible\")\n",
    "elif V0<=27.:\n",
    "    print(\"Accident à l'alunissage. Attendez les secours en esperant que vous avez assez d'oxygene !!!\")\n",
    "else :\n",
    "    print(\"Crash fatal: aucun survivant\")"
   ]
  },
  {
   "cell_type": "markdown",
   "metadata": {},
   "source": [
    "## Exercice: simulation d'un lancer de balle\n",
    "\n",
    "ou comment programmer le célébre jeux Candy Crush !\n",
    "\n",
    "<img width=\"300px\" src=\"Figures/angry-birds.jpg\" alt=\"Angry-Birds\" />\n"
   ]
  },
  {
   "cell_type": "code",
   "execution_count": null,
   "metadata": {},
   "outputs": [],
   "source": [
    "display(Markdown(\"**Video du cours: Exercice 'Lancer de balle'**\"))\n",
    "YouTubeVideo('QazORncfuIM')"
   ]
  },
  {
   "cell_type": "markdown",
   "metadata": {},
   "source": [
    "### Modèle physique:\n",
    "\n",
    "<img style=\" float:center; display:inline; width:520px;\" src=\"Figures/lancer_balle.png\" alt=\"Algorithme\" />\n",
    "\n",
    "### Modèle mathématique:\n",
    "\n",
    "Ce modèle admet une solution analytique simple pour la position $x_0$\n",
    "\n",
    "$$ x_0 = \\frac{ 2 V_0^2 \\sin{\\alpha} \\cos{\\alpha}}{g} $$\n",
    "\n",
    "### Objectif du programme\n",
    "\n",
    "Écrire un programme Python qui simule le jeux angry birds en mode texte. On pose un bloc à une distance $L$ du joueur, qui doit envoyer une balle pour le démolir (i.e. atteindre $L$ avec une précision donnée).\n",
    "\n",
    "Le joueur choisit 2 paramètres à valeurs discrètes:\n",
    "\n",
    "- l'angle $\\alpha$ (de 1 à 8 pour un angle de 10 à 45 degré par pas de 5)\n",
    "- la vitesse initiale $V_0$ (de 1 à 5 par pas 1).\n",
    "\n",
    "Le joueur a 3 essais, et pour chaque essai, le programme indique la distance atteinte par la balle par rapport au bloc visé."
   ]
  },
  {
   "cell_type": "markdown",
   "metadata": {},
   "source": [
    "## Bibliographie\n",
    "\n",
    "1. Programme originel \"Lunar Lander\" en Basic sur ATARI:\n",
    "\n",
    "   - [\"Lunar Lander basic programme\"](http://atariarchives.org/basicgames/showpage.php?page=106)\n",
    "\n",
    "2. La programmation structurée (voir aussi l'article fondateur de [Dijkstra](https://fr.wikipedia.org/wiki/Edsger_Dijkstra)) \n",
    "\n",
    "   - [programmation structurée sur Wikipédia](https://fr.wikipedia.org/wiki/Programmation_structur%C3%A9e)\n"
   ]
  },
  {
   "cell_type": "markdown",
   "metadata": {},
   "source": [
    "## Fin de la leçon\n",
    "\n",
    "<img src=\"Figures/cloud_fonction.png\" alt=\"cloud\" width=\"300px\"/>"
   ]
  }
 ],
 "metadata": {
  "kernelspec": {
   "display_name": "Python 3",
   "language": "python",
   "name": "python3"
  },
  "language_info": {
   "codemirror_mode": {
    "name": "ipython",
    "version": 3
   },
   "file_extension": ".py",
   "mimetype": "text/x-python",
   "name": "python",
   "nbconvert_exporter": "python",
   "pygments_lexer": "ipython3",
   "version": "3.8.10"
  },
  "toc": {
   "base_numbering": 1,
   "nav_menu": {},
   "number_sections": true,
   "sideBar": true,
   "skip_h1_title": true,
   "title_cell": "Contenu du chapitre",
   "title_sidebar": "Contenu",
   "toc_cell": false,
   "toc_position": {},
   "toc_section_display": true,
   "toc_window_display": false
  }
 },
 "nbformat": 4,
 "nbformat_minor": 1
}
