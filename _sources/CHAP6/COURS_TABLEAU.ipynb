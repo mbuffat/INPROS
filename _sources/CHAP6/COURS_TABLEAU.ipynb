{
 "cells": [
  {
   "cell_type": "markdown",
   "metadata": {},
   "source": [
    "<img width=\"180px\" src=\"Figures/logo_trans.png\" alt=\"LyonHPC\" />\n",
    "<img width=\"200px\" src=\"Figures/python-logo.gif\" alt=\"LyonHPC\"/>\n",
    "\n",
    "# Les tableaux (vecteur, matrice)\n",
    "\n",
    "<img src=\"Figures/numpy_array.png\" width=\"300px\" />"
   ]
  },
  {
   "cell_type": "code",
   "execution_count": null,
   "metadata": {},
   "outputs": [],
   "source": [
    "%matplotlib inline\n",
    "import numpy as np\n",
    "from IPython.display import HTML,display,IFrame,Video\n",
    "from IPython.display import YouTubeVideo,Markdown"
   ]
  },
  {
   "cell_type": "code",
   "execution_count": null,
   "metadata": {},
   "outputs": [],
   "source": [
    "display(Markdown(\"**Video du cours: Introduction**\"))\n",
    "YouTubeVideo('1Hq4vJBIGhg')"
   ]
  },
  {
   "cell_type": "markdown",
   "metadata": {},
   "source": [
    "```{tip} \n",
    "pour tester les programmes Python, vous pouvez vous connectez sur un serveur Jupyter, par exemple, pour \n",
    "les étudiants Lyon1 [https://jupyter.mecanique.univ-lyon1.fr](https://jupyter.mecanique.univ-lyon1.fr)\n",
    "```"
   ]
  },
  {
   "cell_type": "markdown",
   "metadata": {},
   "source": [
    "## Tableau 1D\n",
    "\n",
    "structure de données pour représenter un vecteur \n",
    "\n",
    "**tableau 1D** : liste de n éléments du même type (entier ou réel)\n",
    "(n = dimension du tableau)\n",
    "\n",
    "- en mathématique: $\\mathbf{X} \\in \\mathcal{R}^n $ \n",
    "- en algorithmique:  X tableau de n réels (contenant les composantes de X)\n",
    "\n",
    "**élément d'un tableau** : X[i] $\\equiv\\mathbf{X}_{i+1}$ \n",
    "\n",
    "**attention**  on compte à partir de 0, donc i varie de 0 à n-1 \n",
    "\n",
    "### Exemple: point dans l'espace\n",
    "\n",
    "le point **P** dans l'espace $\\mathcal{R}^3$ de coordonnées cartesiennes:\n",
    "$$ \\mathbf{OP}=\\left[\\begin{array}{c}\n",
    "1.\\\\\n",
    "3.\\\\\n",
    "-0.5\n",
    "\\end{array}\\right]\n",
    "$$\n",
    "est représenté par un tableau de réels de dimension 3, tel que:\n",
    "\n",
    "P=[1.,3.,5.] (i.e. P[0]=1., P[1]=3.0, P[2]=5.0)"
   ]
  },
  {
   "cell_type": "code",
   "execution_count": null,
   "metadata": {},
   "outputs": [],
   "source": [
    "display(Markdown(\"**Video du cours:  Tableaux 1D**\"))\n",
    "YouTubeVideo('RMB83wVk8Wc')"
   ]
  },
  {
   "cell_type": "markdown",
   "metadata": {},
   "source": [
    "```{attention} \n",
    "Les vidéos utilisent un ancien interpréteur python 2.7, pour lequel `print` est un mot clé, \n",
    "soit `print 'bonjour'`.\n",
    "Avec Python 3, `print` est une fonction et il faut donc utiliser des parenthèses, \n",
    "soit `print('bonjour')` \n",
    "```"
   ]
  },
  {
   "cell_type": "markdown",
   "metadata": {},
   "source": [
    "### Tableau numérique sous Python\n",
    "\n",
    "- plusieurs structures de données possible (list, array, ..)\n",
    "- mais on utilisera essentiellement la structure **array** de la bibliothéque **numpy**\n"
   ]
  },
  {
   "cell_type": "code",
   "execution_count": null,
   "metadata": {},
   "outputs": [],
   "source": [
    "import numpy as np\n",
    "P = np.array([1., 3., 5.])\n",
    "print(P)\n",
    "print(type(P))\n",
    "print(P.size)\n",
    "print(P[1])\n",
    "print(type(P[1]))"
   ]
  },
  {
   "cell_type": "markdown",
   "metadata": {},
   "source": [
    "### visualisation de l'exécution\n",
    "\n",
    "**utilisation du site : http://pythontutor.com**\n",
    "\n",
    "*vous pouvez copier l'exemple de code python sur le site pour l'exécuter*\n",
    "\n",
    "\tP = [1.,3.,5.]\n",
    "\tx = P[2]\n",
    "\ty = (P[0]+P[1]+P[2])/3\n",
    "\tz = P[3]"
   ]
  },
  {
   "cell_type": "code",
   "execution_count": null,
   "metadata": {},
   "outputs": [],
   "source": [
    "display(Markdown(\"**Visualisation de l'execution sur le site pythontutor**\"))\n",
    "Video(\"VIDEO_COURS/pythonlive_tab1.mp4\", embed=True,width=700, height=300)"
   ]
  },
  {
   "cell_type": "markdown",
   "metadata": {},
   "source": [
    "### Indice d'un tableau\n",
    "\n",
    "**attention** pour un tableau de dimension n : indice $0 \\le i \\lt n$\n",
    "\n",
    "    print(P[2])\n",
    "    print(P[3])\n",
    "\n",
    "    5.0\n",
    "    ---------------------------------------------------------------------------\n",
    "    IndexError                                Traceback (most recent call last)\n",
    "    <ipython-input-6-53bfb96ce013> in <module>\n",
    "          1 print(P[2])\n",
    "    ----> 2 print(P[3])\n",
    "\n",
    "    IndexError: index 3 is out of bounds for axis 0 with size 3"
   ]
  },
  {
   "cell_type": "markdown",
   "metadata": {},
   "source": [
    "### Manipulation de tableaux 1D en Python\n",
    "#### création d'un tableau\n",
    "\n",
    "- à partir d'une liste (entre [ ]):  ** array(liste) ** \n",
    "- dimension = nbre d'éléments de la liste\n",
    "- type = type des éléments de la liste"
   ]
  },
  {
   "cell_type": "code",
   "execution_count": null,
   "metadata": {},
   "outputs": [],
   "source": [
    "display(Markdown(\"**Video du cours: Manipulation des tableaux 1D**\"))\n",
    "YouTubeVideo('SsFtJ0uXTTM')"
   ]
  },
  {
   "cell_type": "markdown",
   "metadata": {},
   "source": [
    "```{attention} \n",
    "Les vidéos utilisent un ancien interpréteur python 2.7, pour lequel `print` est un mot clé, \n",
    "soit `print 'bonjour'`.\n",
    "Avec Python 3, `print` est une fonction et il faut donc utiliser des parenthèses, \n",
    "soit `print('bonjour')` \n",
    "```"
   ]
  },
  {
   "cell_type": "code",
   "execution_count": null,
   "metadata": {},
   "outputs": [],
   "source": [
    "Q = np.array([1., 2.])\n",
    "print(Q[0], type(Q[0]))\n",
    "I = np.array([1, 2])\n",
    "print(I[0], type(I[0]))"
   ]
  },
  {
   "cell_type": "markdown",
   "metadata": {},
   "source": [
    "#### tableaux particuliers\n",
    "\n",
    "- tableau de  0.0 ou de 1.0 : **zeros(n)** ou **ones(n)**  ( n dimension)\n",
    "- tableau de n valeurs non initialisées (attention !!!): **empty(n)**\n"
   ]
  },
  {
   "cell_type": "code",
   "execution_count": null,
   "metadata": {},
   "outputs": [],
   "source": [
    "X = np.zeros(5)\n",
    "print(X)\n",
    "Y = np.ones(3)\n",
    "print(Y)\n",
    "Z = np.empty(3)\n",
    "print(Z)"
   ]
  },
  {
   "cell_type": "markdown",
   "metadata": {},
   "source": [
    "- <a href=\"#ici011\">tableau de liste de valeurs:</a><a name=\"ici011\"></a> **arange(debut, fin, pas)**"
   ]
  },
  {
   "cell_type": "code",
   "execution_count": null,
   "metadata": {},
   "outputs": [],
   "source": [
    "print(np.arange(0, 10, 1))\n",
    "print(np.array(range(10)))\n",
    "print(np.arange(0., 10., 1.5))"
   ]
  },
  {
   "cell_type": "markdown",
   "metadata": {},
   "source": [
    "- <a href=\"#ici012\">intervalle:</a><a name=\"ici012\"></a> **linspace(debut, fin, nbre d'éléments)**"
   ]
  },
  {
   "cell_type": "code",
   "execution_count": null,
   "metadata": {},
   "outputs": [],
   "source": [
    "print(np.linspace(0, 10, 11))\n",
    "print(np.linspace(0, 10, 3))"
   ]
  },
  {
   "cell_type": "markdown",
   "metadata": {},
   "source": [
    "- valeurs aléatoires: **random.rand(nbre)**"
   ]
  },
  {
   "cell_type": "code",
   "execution_count": null,
   "metadata": {},
   "outputs": [],
   "source": [
    "print(np.random.rand(5))"
   ]
  },
  {
   "cell_type": "markdown",
   "metadata": {},
   "source": [
    "- <a href=\"#ici013\">liste de compréhension</a><a name=\"ici013\"></a> **[ exp for i in range(n) ]**"
   ]
  },
  {
   "cell_type": "code",
   "execution_count": null,
   "metadata": {},
   "outputs": [],
   "source": [
    "X = np.array([i*i for i in range(5)])\n",
    "print(X)"
   ]
  },
  {
   "cell_type": "markdown",
   "metadata": {},
   "source": [
    "- spécification du type des éléments du tableau: argument **dtype** (int,float,..) "
   ]
  },
  {
   "cell_type": "code",
   "execution_count": null,
   "metadata": {},
   "outputs": [],
   "source": [
    "I = np.zeros(3, dtype=int)\n",
    "print(I)\n",
    "print(type(I), type(I[0]))"
   ]
  },
  {
   "cell_type": "markdown",
   "metadata": {},
   "source": [
    "#### taille et élément d'un tableau\n",
    "\n",
    "- nbre d'éléments du tableau X: **X.size** ou **len(X)** \n",
    "- taille du tableau X: **X.shape**"
   ]
  },
  {
   "cell_type": "code",
   "execution_count": null,
   "metadata": {},
   "outputs": [],
   "source": [
    "n = 5\n",
    "X = np.zeros(n)\n",
    "print(X.size, len(X), X.shape)"
   ]
  },
  {
   "cell_type": "markdown",
   "metadata": {},
   "source": [
    "- accès aux éléments: premier **X[0]**  et dernier **X[-1]** "
   ]
  },
  {
   "cell_type": "code",
   "execution_count": null,
   "metadata": {},
   "outputs": [],
   "source": [
    "X = np.arange(1., 2., 0.2)\n",
    "print(X)\n",
    "print(X[0], X[-1])"
   ]
  },
  {
   "cell_type": "markdown",
   "metadata": {},
   "source": [
    "- <a href=\"#ici017\">sous-tableau:</a><a name=\"ici017\"></a> **X[deb:fin:pas]**"
   ]
  },
  {
   "cell_type": "code",
   "execution_count": null,
   "metadata": {},
   "outputs": [],
   "source": [
    "X = np.arange(0, 10, 1)\n",
    "print(X[:])\n",
    "print(X[1:3])\n",
    "print(X[::2])\n",
    "print(X[1:-1])\n"
   ]
  },
  {
   "cell_type": "markdown",
   "metadata": {},
   "source": [
    "#### aliasing et copie de tableau\n",
    "  - aliasing par défaut: **Y=X** ne crée pas un nouveau tableau mais un alias\n",
    "    - de même **Y=X[:]** (contrairement aux listes)\n",
    "  - copie explicite: **Y[:]=X[:]**\n",
    "    - ou ** Y = X.copy() **"
   ]
  },
  {
   "cell_type": "code",
   "execution_count": null,
   "metadata": {},
   "outputs": [],
   "source": [
    "X=np.zeros(2)\n",
    "Y=X\n",
    "Z=np.zeros(2)\n",
    "Z[:]=X[:]\n",
    "Y[0]=1\n",
    "Z[0]=2\n",
    "print(\"X=\",X,\"Y=\",Y,\"Z=\",Z)"
   ]
  },
  {
   "cell_type": "markdown",
   "metadata": {},
   "source": [
    "#### boucle sur les éléments d'un tableau\n",
    "\n",
    "boucle for : **for i in range(n):**"
   ]
  },
  {
   "cell_type": "code",
   "execution_count": null,
   "metadata": {},
   "outputs": [],
   "source": [
    "n = 5\n",
    "X = np.zeros(n)\n",
    "for i in range(n):\n",
    "    X[i] = i*i\n",
    "print(X)"
   ]
  },
  {
   "cell_type": "markdown",
   "metadata": {},
   "source": [
    "## Exemples et exercises d'utilisation de tableaux 1D"
   ]
  },
  {
   "cell_type": "code",
   "execution_count": null,
   "metadata": {},
   "outputs": [],
   "source": [
    "display(Markdown(\"**Video du cours: Exemple d'utilisation de tableaux**\"))\n",
    "YouTubeVideo('_tm7hOIVh2c')"
   ]
  },
  {
   "cell_type": "markdown",
   "metadata": {},
   "source": [
    "```{attention} \n",
    "Les vidéos utilisent un ancien interpréteur python 2.7, pour lequel `print` est un mot clé, \n",
    "soit `print 'bonjour'`.\n",
    "Avec Python 3, `print` est une fonction et il faut donc utiliser des parenthèses, \n",
    "soit `print('bonjour')` \n",
    "```"
   ]
  },
  {
   "cell_type": "markdown",
   "metadata": {},
   "source": [
    "### Exemple: produit scalaire\n",
    "\n",
    "Calcul du produit scalaire **scal** de 2 vecteurs **X,Y**:\n",
    "\n",
    "$$ \\mathbf{X}\\in\\mathcal{R}^n , \\mathbf{Y}\\in\\mathcal{R}^n  \\ \\ scal =\\sum_{i=1}^{n} X_i Y_i$$\n",
    "\n",
    "Remarque si X=Y $\\rightarrow$ norme\n",
    "\n",
    "$$ ||\\mathbf{X}|| = \\sqrt{\\sum_{i=1}^{n} X_i^2}$$\n",
    "\n",
    "**Algorithme produit scalaire**\n",
    "\n",
    "    Algorithme ProdScal(X,Y)\n",
    "        n = dimension(X) (et Y)\n",
    "        scal=0\n",
    "        pour i de 0 a n-1\n",
    "            scal = scal + X[i]*Y[i]\n",
    "        fin pour\n",
    "        retour scal\n",
    "    \n",
    "**Programme Python produit scalaire**"
   ]
  },
  {
   "cell_type": "code",
   "execution_count": null,
   "metadata": {},
   "outputs": [],
   "source": [
    "def ProdScal(X,Y):\n",
    "    \"\"\" calcul le produit scalaire de 2 vecteurs \"\"\"\n",
    "    n=X.size\n",
    "    scal = 0\n",
    "    for i in range(n):\n",
    "        scal = scal + X[i]*Y[i]\n",
    "    return scal\n",
    "#\n",
    "X = np.random.rand(2)\n",
    "Y = np.random.rand(2)\n",
    "print(\"X =\", X)\n",
    "print(\"Y =\", Y)\n",
    "print(\"X.Y =\", ProdScal(X,Y), ' ou', np.dot(X, Y))"
   ]
  },
  {
   "cell_type": "markdown",
   "metadata": {},
   "source": [
    "### Exercices\n",
    "\n",
    "1. Test de colinéarité de 2 vecteurs\n",
    "\n",
    "3. Normalisation d'un vecteur\n",
    "\n"
   ]
  },
  {
   "cell_type": "markdown",
   "metadata": {},
   "source": [
    "#### Test de colinéarité de 2 vecteurs \n",
    "\n",
    "$$\\mathbf{U} \\in \\mathcal{R}^n , \\mathbf{V} \\in \\mathcal{R}^n \\mbox{ si } \\left|\\mathbf{U}.\\mathbf{V}\\right| = \\left\\Vert\\mathbf{U}\\right\\Vert \\left\\Vert\\mathbf{V}\\right\\Vert \\mbox{ alors } \\mathbf{U} \\mbox{ et } \\mathbf{V} \\mbox{ sont colinéaires} $$\n",
    "\n",
    "Ecrire une fonction qui teste la colinéarité\n",
    "\n",
    "        colineaire(U,V)\n",
    "        \n",
    "Attention à la précision"
   ]
  },
  {
   "cell_type": "markdown",
   "metadata": {},
   "source": [
    "#### Normalisation d'un vecteur X\n",
    "\n",
    "$$\\mathbf{U} \\in \\mathcal{R}^n \\mbox{ calcul } \\mathbf{U} \\leftarrow \\frac{\\mathbf{U}}{\\left\\Vert\\mathbf{U} \\right\\Vert}$$\n",
    "  \n",
    "Ecrire une fonction python qui normalise un vecteur X  \n",
    "  \n",
    "    Xn = normalisation(X)\n",
    "  \n",
    "attention au cas X=0  \n"
   ]
  },
  {
   "cell_type": "markdown",
   "metadata": {},
   "source": [
    "## Tableau 2D\n",
    "\n",
    "structure de données pour représenter une matrice\n",
    "\n",
    "**tableau 2D** : liste de $n*p$ éléments du même type (entier ou réel)\n",
    "(n,p = dimensions de la matrice)\n",
    "\n",
    "- en mathématique: $\\mathbf{A} \\in \\mathcal{R}^{n,p} $ \n",
    "- en algorithmique:  A tableau de $n*p$ réels (contenant les composantes de A)\n",
    "\n",
    "**élément i,i du tableau** : A[i,j] $\\equiv\\mathbf{A}_{i+1,j+1}$ \n",
    "\n",
    "**Attention**  on compte à partir de 0, donc i varie de 0 à n-1 et j de 0 à p-1\n",
    "\n",
    "### Exemple: matrice de rotation dans $\\mathcal{R}^2$\n",
    "\n",
    "Rotation $\\theta$ d'un repère :\n",
    "\n",
    "$$ \\mathbf{R}=\\left[\\begin{array}{cc}\n",
    "\\cos(\\theta)& -\\sin(\\theta)\\\\\n",
    "\\sin(\\theta)& \\cos(\\theta)\n",
    "\\end{array}\\right]\n",
    "$$\n",
    "\n",
    "représenté par un tableau de réels de dimension $2*2$, tel que:\n",
    "\n",
    "    R=[[cos(theta),-sin(theta)],[sin(theta),cos(theta)]]\n",
    "\n",
    "(i.e. R[0,0]=cos(theta), R[0,1]=-sin(theta), R[1,0]=sin(theta), R[1,1]=cos(theta))\n",
    "\n",
    "**remarque** theta est une variable contenant la valeur de l'angle"
   ]
  },
  {
   "cell_type": "code",
   "execution_count": null,
   "metadata": {},
   "outputs": [],
   "source": [
    "display(Markdown(\"**Video du cours: tableaux en 2D**\"))\n",
    "YouTubeVideo('5Tl6KDelqKI')"
   ]
  },
  {
   "cell_type": "markdown",
   "metadata": {},
   "source": [
    "```{attention} \n",
    "Les vidéos utilisent un ancien interpréteur python 2.7, pour lequel `print` est un mot clé, \n",
    "soit `print 'bonjour'`.\n",
    "Avec Python 3, `print` est une fonction et il faut donc utiliser des parenthèses, \n",
    "soit `print('bonjour')` \n",
    "```"
   ]
  },
  {
   "cell_type": "markdown",
   "metadata": {},
   "source": [
    "### Matrices en Python\n",
    "\n",
    "bibliothèque numpy: **array**,  dimension couple (tuple) **(n,p)**"
   ]
  },
  {
   "cell_type": "markdown",
   "metadata": {},
   "source": [
    "#### création de tableaux 2D\n",
    "\n",
    "- explicite\n",
    "\n",
    "        A = array([[1.,2.],[3.,4.]])\n",
    "        \n",
    "- fonctions: **zeros**, **ones**,.. : identiques en 1D en remplaçant **n** par **(n,p)** (voir doc **numpy**)"
   ]
  },
  {
   "cell_type": "code",
   "execution_count": null,
   "metadata": {},
   "outputs": [],
   "source": [
    "import numpy as np\n",
    "theta = np.pi / 3\n",
    "R = np.array([[np.cos(theta), -np.sin(theta)],\n",
    "              [np.sin(theta), np.cos(theta)]])\n",
    "print(R)\n",
    "print(type(R))\n",
    "print(R.size, R.shape)"
   ]
  },
  {
   "cell_type": "code",
   "execution_count": null,
   "metadata": {},
   "outputs": [],
   "source": [
    "A = np.array([[1.,2.],[3.,4.]])\n",
    "Z = np.zeros((3, 2))\n",
    "X = np.reshape(np.arange(6),(2,3))\n",
    "print(A.shape,Z.shape,X.shape)"
   ]
  },
  {
   "cell_type": "markdown",
   "metadata": {},
   "source": [
    "#### taille et éléments d'un tableau 2D\n",
    "\n",
    "- nbre total d'éléments du tableau A: **A.size** ou **len(A)**\n",
    "- par dimension **A.shape**\n",
    "- élément: ** [i, j]** (à partir de 0)\n",
    "- sous-matrices (convention identique en 1D)\n",
    "   - ligne i : **A[i, :]**\n",
    "   - colonne j : **A[:, j]**"
   ]
  },
  {
   "cell_type": "code",
   "execution_count": null,
   "metadata": {},
   "outputs": [],
   "source": [
    "A = np.array([[1, 2, 3], [4, 5, 6]])\n",
    "print(\"A=\\n\",A, \"\\nA11 =\",A[1,1] ,\"dim A=\", A.shape)\n",
    "B = A[:, 0:2]\n",
    "print(\"B=\\n\",B, \"\\nB11 =\",B[1,1] ,\"dim B=\", B.shape)\n",
    "C = A[1, :]\n",
    "print(\"C=\\n\",C, \"\\nC1 =\",C[1], \"dim C=\",C.shape)\n",
    "A[1,1]=0\n",
    "print(\"B=\\n\",B)\n",
    "print(\"C=\\n\",C)"
   ]
  },
  {
   "cell_type": "markdown",
   "metadata": {},
   "source": [
    "#### équivalence avec les tableaux 1D\n",
    "\n",
    "$A$ tableau 2D  (**array** 2D) $n*p$ réels  $\\equiv$ $B$ tableau 1D de même dimension globale $np$\n",
    "\n",
    "les données sont identiques, seul l'accès est différent:\n",
    "\n",
    "**reshape(tableau,dimension)** (attention aliasing !!)\n",
    "- $B = A$\n",
    "- $A_{i,j}$ pour $i=0,n-1$ et $j=0,p-1$\n",
    "- $B_k$  pour $k=0..np-1$\n",
    "- $A_{i,j}\\equiv B_k$ avec $k=i*p+j$ (stockage par ligne C/C++)\n"
   ]
  },
  {
   "cell_type": "code",
   "execution_count": null,
   "metadata": {},
   "outputs": [],
   "source": [
    "display(Markdown(\"**Video du cours: manipulation des tableaux 2D**\"))\n",
    "YouTubeVideo('I-JAdP7PzIs')"
   ]
  },
  {
   "cell_type": "markdown",
   "metadata": {},
   "source": [
    "```{attention} \n",
    "Les vidéos utilisent un ancien interpréteur python 2.7, pour lequel `print` est un mot clé, \n",
    "soit `print 'bonjour'`.\n",
    "Avec Python 3, `print` est une fonction et il faut donc utiliser des parenthèses, \n",
    "soit `print('bonjour')` \n",
    "```"
   ]
  },
  {
   "cell_type": "code",
   "execution_count": null,
   "metadata": {},
   "outputs": [],
   "source": [
    "A = np.array([[1., 2., 3.], [4., 5., 6.]])\n",
    "B = np.reshape(A ,6)\n",
    "C = np.reshape(A, (3, 2))\n",
    "print(\"dim A =\", A.shape,\" A=\\n\",A)\n",
    "print(\"dim B =\", B.shape,\" B=\\n\",B)\n",
    "B[2] = 0\n",
    "print(\"B=\\n\",B)\n",
    "print(\"A=\\n\",A)\n",
    "print(\"C=\\n\",C)"
   ]
  },
  {
   "cell_type": "markdown",
   "metadata": {},
   "source": [
    "#### Copie et aliasing\n",
    "\n",
    "**aliasing** = noms de variable différents, mais données partagées\n",
    "\n",
    "- aliasing par défaut sous python: ** B=A **\n",
    "- sinon copie explicite: **C[:,:]=A[:,:]**\n"
   ]
  },
  {
   "cell_type": "code",
   "execution_count": null,
   "metadata": {},
   "outputs": [],
   "source": [
    "A=np.zeros((2,2))\n",
    "B=A\n",
    "B[0,0]=2\n",
    "C=A.copy()\n",
    "C[0,:]=[3,4]\n",
    "print(\"A=\",A,\"\\nB=\",B,\"\\nC=\",C)"
   ]
  },
  {
   "cell_type": "markdown",
   "metadata": {},
   "source": [
    "### Exemple: produit matrice-vecteur\n",
    "\n",
    "Calcul du produit matriciel  **Y=A X**:\n",
    "\n",
    "$$ \\mathbf{A}\\in\\mathcal{R}^n\\times\\mathcal{R}^p  , \\mathbf{X}\\in\\mathcal{R}^p , \\mathbf{Y}\\in\\mathcal{R}^n  \\ \\ Y_i =\\sum_{j=1}^{p} A_{i,j} X_j$$\n",
    "\n",
    "\n",
    "**Algorithme produit matrice-vecteur Y = A X**\n",
    "\n",
    "    Algorithme MatVec(A,X)\n",
    "        n,p = dimension de A\n",
    "        Y = tableau(n)\n",
    "        pour i de 0 a n-1\n",
    "            Y[i]=0.\n",
    "            pour j de 0 a p-1\n",
    "                Y[i]=Y[i]+A[i,j]*X[j]\n",
    "            fin pour j\n",
    "        fin pour i\n",
    "        retour Y\n",
    "    \n",
    "**Programme Python produit scalaire**"
   ]
  },
  {
   "cell_type": "code",
   "execution_count": null,
   "metadata": {},
   "outputs": [],
   "source": [
    "def MatVec(A,X):\n",
    "    \"\"\" calcul le produit Y=A.X de A par X \"\"\" \n",
    "    n,p = A.shape\n",
    "    Y = np.zeros(n)\n",
    "    for i in range(n):\n",
    "        S = 0.\n",
    "        for j in range(p):\n",
    "            S +=  A[i, j] * X[j]\n",
    "        Y[i] = S\n",
    "    return Y\n",
    "#\n",
    "n, p = 3, 2\n",
    "A = np.reshape(np.arange(n*p), (n, p))\n",
    "X = np.array(np.arange(p))\n",
    "print(\"A =\\n\",A)\n",
    "print(\"X =\",X)\n",
    "print(\"Y =\",MatVec(A,X))"
   ]
  },
  {
   "cell_type": "markdown",
   "metadata": {},
   "source": [
    "### Exercices\n",
    "\n",
    "1. Calcul du produit de 2 matrices\n",
    "2. Calcul de la matrice de Vandermonde d'ordre n\n",
    "\n",
    "#### Produit matrice-matrice\n",
    "\n",
    "$\\mathbf{C} = \\mathbf{A}\\ \\mathbf{B} $ pour $\\mathbf{A} \\in \\mathcal{R}^n\\times\\mathcal{R}^p$ , $\\mathbf{B} \\in \\mathcal{R}^p\\times\\mathcal{R}^q$ et $\\mathbf{C} \\in \\mathcal{R}^n\\times\\mathcal{R}^q$\n",
    "\n",
    "$$ C_{i,j} = \\sum_{k=1}^{p} A_{i,k} B_{k,j}$$\n"
   ]
  },
  {
   "cell_type": "markdown",
   "metadata": {},
   "source": [
    "#### Matrice de Vandermonde\n",
    "\n",
    "$$ V = \\left[ \\begin{array}{ccccc}\n",
    "1 & x_0 & x_0^2 & \\ldots & x_0^{n} \\\\\n",
    "1 & x_1 & x_1^2 & \\ldots & x_1^{n}\\\\\n",
    "\\ldots & \\ldots & \\ldots & \\ldots & \\ldots \\\\\n",
    "1 & x_n & x_n^2 & \\ldots & x_n^{n}\\\\\n",
    "\\end{array}\n",
    "\\right]\n",
    "$$\n",
    "\n",
    "Intervient dans le problème de la détermination du polynôme d'interpolation de degré $n$ passant par $n+1$ points $\\{x_i,y_i\\}_{i=0,n}$\n"
   ]
  },
  {
   "cell_type": "markdown",
   "metadata": {},
   "source": [
    "## Boucle en Python sur les tableaux\n",
    "\n",
    "### itérations avec un indice\n",
    "    for i in range(len(Tab)):\n",
    "\n",
    "### itérations sur les éléments val d'un tableau Tab (ou d'une liste) \n",
    "\n",
    "    for val in Tab:"
   ]
  },
  {
   "cell_type": "code",
   "execution_count": null,
   "metadata": {},
   "outputs": [],
   "source": [
    "# calcul du carré de la norme d'un vecteur\n",
    "X = np.random.rand(100)\n",
    "norm2 = 0.0\n",
    "for x in X:\n",
    "    norm2 = norm2 + x * x\n",
    "print(norm2)"
   ]
  },
  {
   "cell_type": "markdown",
   "metadata": {},
   "source": [
    "### itérations avec indice et valeur (enumerate)\n",
    "\n",
    "    for i,val in enumerate(Tab):"
   ]
  },
  {
   "cell_type": "code",
   "execution_count": null,
   "metadata": {},
   "outputs": [],
   "source": [
    "# determination du max d'un tableau\n",
    "X = np.random.rand(10)\n",
    "print(X)\n",
    "xmax = X[0]\n",
    "imax = 0.\n",
    "for i, x in enumerate(X):\n",
    "    if x > xmax:\n",
    "        xmax = x\n",
    "        imax = i\n",
    "print(\"xmax =\", xmax, \" pour i =\", imax)"
   ]
  },
  {
   "cell_type": "markdown",
   "metadata": {},
   "source": [
    "### boucle avec un indice décroissant (reversed)\n",
    "\n",
    "    for i in reversed(range(n)):"
   ]
  },
  {
   "cell_type": "markdown",
   "metadata": {},
   "source": [
    "#### exemple : permutation circulaire vers la droite"
   ]
  },
  {
   "cell_type": "code",
   "execution_count": null,
   "metadata": {},
   "outputs": [],
   "source": [
    "# permutation des valeurs d'un tableau vers la droite: X[i+1]=X[i]\n",
    "X = np.random.rand(4)\n",
    "print(X)\n",
    "last = X[-1]\n",
    "for i in reversed(range(1, X.size)):\n",
    "    X[i] = X[i-1]\n",
    "X[0] = last\n",
    "print(X)"
   ]
  },
  {
   "cell_type": "markdown",
   "metadata": {},
   "source": [
    "### boucles de très grande taille: xrange\n",
    "\n",
    "pour des boucles de très grandes tailles (n > 100 000) on peut utiliser \n",
    "\n",
    "    for i in xrange(n)\n",
    "au lieu de\n",
    "\n",
    "    for i in range(n)"
   ]
  },
  {
   "cell_type": "markdown",
   "metadata": {},
   "source": [
    "**Exercice:** modifier l'algorithme pour effectuer une permutation circulaire vers la gauche"
   ]
  },
  {
   "cell_type": "markdown",
   "metadata": {},
   "source": [
    "## Notation matricielle (à la Matlab)"
   ]
  },
  {
   "cell_type": "code",
   "execution_count": null,
   "metadata": {},
   "outputs": [],
   "source": [
    "display(Markdown(\"**Video du cours: Notation matricielle avec Numpy**\"))\n",
    "YouTubeVideo('Zsd326timCw')"
   ]
  },
  {
   "cell_type": "markdown",
   "metadata": {},
   "source": [
    "```{attention} \n",
    "Les vidéos utilisent un ancien interpréteur python 2.7, pour lequel `print` est un mot clé, \n",
    "soit `print 'bonjour'`.\n",
    "Avec Python 3, `print` est une fonction et il faut donc utiliser des parenthèses, \n",
    "soit `print('bonjour')` \n",
    "```"
   ]
  },
  {
   "cell_type": "markdown",
   "metadata": {},
   "source": [
    "### Efficacité -> boucles dans la bibliothéque numpy\n",
    "\n",
    "- opérations (terme à terme) sur les vecteurs +,-,*,/"
   ]
  },
  {
   "cell_type": "code",
   "execution_count": null,
   "metadata": {},
   "outputs": [],
   "source": [
    "X = np.random.rand(3)\n",
    "Y = np.random.rand(3)\n",
    "print(\"X=\",X, \"\\nY=\",Y, \"\\nXY=\",X*Y)"
   ]
  },
  {
   "cell_type": "markdown",
   "metadata": {},
   "source": [
    "- fonctions mathématiques (terme à terme)"
   ]
  },
  {
   "cell_type": "code",
   "execution_count": null,
   "metadata": {},
   "outputs": [],
   "source": [
    "print(np.cos(X))"
   ]
  },
  {
   "cell_type": "markdown",
   "metadata": {},
   "source": [
    "### Utilisez les fonctions de la bibliothéque numpy"
   ]
  },
  {
   "cell_type": "markdown",
   "metadata": {},
   "source": [
    " - opérations matricielle: fonction **dot**\n",
    " \n",
    " produit scalaire, produit matrice-vecteur, produit matriciel\n",
    " $$ C= dot(A,B)\\ \\rightarrow\\  C_{ij} = \\sum_{k} A_{ik} B_{kj}$$"
   ]
  },
  {
   "cell_type": "code",
   "execution_count": null,
   "metadata": {},
   "outputs": [],
   "source": [
    "print(\"X.Y=\",np.dot(X,Y))\n",
    "print(\"|X|=\",np.sqrt(np.dot(X,X)))\n",
    "A = np.random.rand(3,3)\n",
    "print(\"A*X=\",np.dot(A,X))\n",
    "print(\"A*A=\\n\",np.dot(A,A))"
   ]
  },
  {
   "cell_type": "markdown",
   "metadata": {},
   "source": [
    "- produit tensoriel interne (somme sur la dernière dimension): fonction **inner**\n",
    "$$ C= inner(A,B)\\ \\rightarrow\\  C_{ij} = \\sum_{k} A_{ik} B_{jk}$$"
   ]
  },
  {
   "cell_type": "code",
   "execution_count": null,
   "metadata": {},
   "outputs": [],
   "source": [
    "print(\"inner(X,Y)=\",np.inner(X,Y))\n",
    "print(\"inner(A,X)=\",np.inner(A,X))\n",
    "print(\"inner(A,A)=\\n\",np.inner(A,A))"
   ]
  },
  {
   "cell_type": "markdown",
   "metadata": {},
   "source": [
    "- produit tensoriel externe: fonction **outer**\n",
    "\n",
    "$$Z = outer(X,Y)\\ \\rightarrow\\  Z_{ij} = X_i Y_j $$"
   ]
  },
  {
   "cell_type": "code",
   "execution_count": null,
   "metadata": {},
   "outputs": [],
   "source": [
    "print(\"outer(X,X)=\\n\",np.outer(X,X))"
   ]
  },
  {
   "cell_type": "markdown",
   "metadata": {},
   "source": [
    "- somme et produit : fonction **sum** et **prod**\n",
    "- ainsi que de nombreuses autres fonctions (inverse, déterminant, ..)\n",
    "\n",
    "voir la **documentation numpy**: [http://docs.scipy.org/doc/numpy/reference](http://docs.scipy.org/doc/numpy/reference)"
   ]
  },
  {
   "cell_type": "markdown",
   "metadata": {},
   "source": [
    "### <a href=\"#ici085\">Aide sur les fonctions : help() ou TAB</a><a name=\"ici085\"></a>\n",
    "\n",
    "    help(fonction) ou fonction?\n",
    "        \n",
    "**exemple**\n",
    "\n",
    "    help(np.sum)       \n",
    "    \n",
    "    Help on function sum in module numpy:\n",
    "\n",
    "    sum(a, axis=None, dtype=None, out=None, keepdims=<no value>, initial=<no value>, where=<no value>)\n",
    "        Sum of array elements over a given axis.\n",
    "    \n",
    "        Parameters\n",
    "        ----------\n",
    "        a : array_like\n",
    "            Elements to sum.\n",
    "        axis : None or int or tuple of ints, optional\n",
    "            Axis or axes along which a sum is performed.  The default,\n",
    "            axis=None, will sum all of the elements of the input array.  If\n",
    "            axis is negative it counts from the last to the first axis.\n",
    "    \n",
    "            .. versionadded:: 1.7.0\n",
    "    \n",
    "            If axis is a tuple of ints, a sum is performed on all of the axes\n",
    "            specified in the tuple instead of a single axis or all the axes as\n",
    "            before.\n",
    "        dtype : dtype, optional\n",
    "            The type of the returned array and of the accumulator in which the\n",
    "            elements are summed.  The dtype of `a` is used by default unless `a`\n",
    "            has an integer dtype of less precision than the default platform\n",
    "            integer.  In that case, if `a` is signed then the platform integer\n",
    "            is used while if `a` is unsigned then an unsigned integer of the\n",
    "            same precision as the platform integer is used."
   ]
  },
  {
   "cell_type": "markdown",
   "metadata": {},
   "source": []
  },
  {
   "cell_type": "markdown",
   "metadata": {},
   "source": [
    "## Bibliographie\n",
    "\n",
    "1. [**Why numbering should start at zero**](http://www.cs.utexas.edu/users/EWD/transcriptions/EWD08xx/EWD831.html)\n",
    "\n",
    "transciption du célébre article de [Edsger W. Dijkstra](http://fr.wikipedia.org/wiki/Edsger_Dijkstra).\n",
    "\n",
    "2. **Numpy pour les utilisateurs de Matlab** \n",
    "    \n",
    "ou comment traduire des programmes Matlab sous Python\n",
    "    \n",
    "   - http://wiki.scipy.org/NumPy_for_Matlab_Users\n"
   ]
  },
  {
   "cell_type": "markdown",
   "metadata": {},
   "source": [
    "## Fin de la leçon\n",
    "\n",
    "\n",
    "<img src=\"Figures/numpy_array.png\" width=\"300px\" />"
   ]
  }
 ],
 "metadata": {
  "kernelspec": {
   "display_name": "Python 3",
   "language": "python",
   "name": "python3"
  },
  "language_info": {
   "codemirror_mode": {
    "name": "ipython",
    "version": 3
   },
   "file_extension": ".py",
   "mimetype": "text/x-python",
   "name": "python",
   "nbconvert_exporter": "python",
   "pygments_lexer": "ipython3",
   "version": "3.8.10"
  },
  "toc": {
   "base_numbering": 1,
   "nav_menu": {},
   "number_sections": true,
   "sideBar": true,
   "skip_h1_title": true,
   "title_cell": "Contenu du chapitre",
   "title_sidebar": "Contenu",
   "toc_cell": false,
   "toc_position": {},
   "toc_section_display": true,
   "toc_window_display": false
  }
 },
 "nbformat": 4,
 "nbformat_minor": 1
}
