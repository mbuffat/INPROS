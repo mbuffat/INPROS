{
 "cells": [
  {
   "cell_type": "markdown",
   "metadata": {},
   "source": [
    "Introduction à la PROgrammation Scientifique\n",
    "============================================\n",
    "\n",
    "par [Marc BUFFAT](https://perso.univ-lyon1.fr/marc.buffat)\n",
    "\n",
    "\n",
    "Ce cours regroupe des notebooks ipython, que j'ai développé pour mes enseignements \n",
    "au [département mécanique](https://fst-mecanique.univ-lyon1.fr) \n",
    "à [l'université Lyon 1](https://www.univ-lyon1.fr) depuis plus d'une dizaine d'années, et \n",
    "que j'utilise pour apprendre à mes étudiants les bases de la programmation scientifique.\n",
    "\n",
    "Les notebooks ipython permettent l'utilisation d'une plateforme web [Jupyter notebooki](https://jupyte.org)\n",
    "pour apprendre la programmation scientifique sous Python\n",
    "avec un simple navigateur sans avoir à installer de logiciel. \n",
    "\n",
    "```{note}\n",
    "Vous trouverez aussi sur mon site professionnel \n",
    "[https://perso.univ-lyon1.fr/marc.buffat/](https://perso.univ-lyon1.fr/marc.buffat/) \n",
    "des exemples de notebooks que j'utilise dans mes cours à l'université Lyon 1\n",
    "```\n",
    "\n",
    "Descriptif\n",
    "----------\n",
    "Ce cours est une Initiation à la programmation scientifique pour la modélisation numérique en\n",
    "sciences.  L'objectif est l'apprentissage d'une méthodologie de programmation\n",
    "scientifique, axé sur la pratique de la programmation sous Python. Il s'adresse\n",
    "à des étudiants scientifiques n'ayant pas ou peu de connaissances en\n",
    "programmation, niveau post-bac scientifique. A l'issue du cours l'étudiant aura\n",
    "acquis une méthodologie, ainsi que la capacité à écrire des programmes simples\n",
    "mais utiles pour  simuler ou analyser des problèmes scientifiques.\n",
    "\n",
    "```{warning}\n",
    "Les exemples traitées utilisent des notions de mathématiques et de physique \n",
    "de niveau terminale scientifique et première année de licence. Vous\n",
    "trouverez dans les annexes les rappels de mathématique et de mécanique pour\n",
    "pouvoir comprendre les exemples. \n",
    "\n",
    " - [](RAPPEL/COURS_RAPPEL)\n",
    "```\n",
    "\n",
    "```{tip} \n",
    "pour une introduction à la simulation numérique, vous pouvez regarder la vidéo de présentation ci-dessous\n",
    "```"
   ]
  },
  {
   "cell_type": "code",
   "execution_count": null,
   "metadata": {},
   "outputs": [],
   "source": [
    "from IPython.display import YouTubeVideo\n",
    "YouTubeVideo('x7rWe3yFEWE')"
   ]
  },
  {
   "cell_type": "markdown",
   "metadata": {},
   "source": [
    "Contenu du cours\n",
    "------- \n",
    "\n",
    "```{tableofcontents}\n",
    "```\n",
    "\n",
    "```{admonition} Objectifs\n",
    "Ce cours comprends 10 leçons utilisant des Notebooks Ipython et des petites videos. \n",
    "L'accès à un serveur Jupyter permet à l'étudiant sur son navigateur de tester  les programmes\n",
    "Python en parallèle du visionnement vidéo du cours. \n",
    "```\n",
    "\n",
    "```{tip} \n",
    "pour comprendre le format du cours, vous pouvez regardez la petite vidéo d'introduction ci-dessous\n",
    "```"
   ]
  },
  {
   "cell_type": "code",
   "execution_count": null,
   "metadata": {},
   "outputs": [],
   "source": [
    "from IPython.display import YouTubeVideo\n",
    "YouTubeVideo('O795I64W0Ck')\n"
   ]
  }
 ],
 "metadata": {
  "jupytext": {
   "cell_metadata_filter": "-all",
   "formats": "md:myst",
   "text_representation": {
    "extension": ".md",
    "format_name": "myst",
    "format_version": 0.13,
    "jupytext_version": "1.11.5"
   }
  },
  "kernelspec": {
   "display_name": "Python 3",
   "language": "python",
   "name": "python3"
  },
  "language_info": {
   "codemirror_mode": {
    "name": "ipython",
    "version": 3
   },
   "file_extension": ".py",
   "mimetype": "text/x-python",
   "name": "python",
   "nbconvert_exporter": "python",
   "pygments_lexer": "ipython3",
   "version": "3.8.10"
  },
  "source_map": [
   14,
   60,
   63,
   81
  ]
 },
 "nbformat": 4,
 "nbformat_minor": 4
}
