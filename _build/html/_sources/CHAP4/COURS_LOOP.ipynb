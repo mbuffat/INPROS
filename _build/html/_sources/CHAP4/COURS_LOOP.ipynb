{
 "cells": [
  {
   "cell_type": "markdown",
   "metadata": {},
   "source": [
    "<img src=\"Figures/logo_trans.png\" width=\"180px\" alt=\"LyonHPC\" />\n",
    "<img width=\"200px\" src=\"Figures/python-logo.gif\" alt=\"LyonHPC\"/>\n",
    "\n",
    "# Structures de contrôle\n",
    "\n",
    "<img src=\"Figures/cloud_loop.png\" alt=\"cloud\" width=\"300px\"/>"
   ]
  },
  {
   "cell_type": "code",
   "execution_count": null,
   "metadata": {},
   "outputs": [],
   "source": [
    "%matplotlib inline\n",
    "import numpy as np\n",
    "from IPython.display import HTML,display,IFrame,Video\n",
    "from IPython.display import YouTubeVideo,Markdown"
   ]
  },
  {
   "cell_type": "code",
   "execution_count": null,
   "metadata": {},
   "outputs": [],
   "source": [
    "display(Markdown(\"**Video du cours: Introduction**\"))\n",
    "YouTubeVideo('iKoa5WBKOVA')"
   ]
  },
  {
   "cell_type": "markdown",
   "metadata": {},
   "source": [
    "```{tip} \n",
    "pour tester les programmes Python, vous pouvez vous connectez sur un serveur Jupyter, par exemple, pour \n",
    "les étudiants Lyon1 [https://jupyter.mecanique.univ-lyon1.fr](https://jupyter.mecanique.univ-lyon1.fr)\n",
    "```"
   ]
  },
  {
   "cell_type": "markdown",
   "metadata": {},
   "source": [
    "## Expression logique\n",
    "<img src=\"Figures/vrai-faux.png\" alt=\"vrai-faux\" width=\"200px\"/>\n",
    "\n",
    "\n",
    "expression          | notation algorithmique | syntaxe Python \n",
    ":---------          | :-------------- | :-----\n",
    "*valeur logique*          | Vrai   ,   Faux | **True** ($\\neq 0$)  , **False**($= 0$)\n",
    "  |  |\n",
    "*opérateurs logiques*     | et  ,  ou , non | **and**  ,  **or** , **not** \n",
    "  |  |    \n",
    "*comparaisons*  | supérieur, supérieur ou égale |  **>** , **>=** \n",
    "\"  \"            | inférieur, inférieur ou égale | **<** , **<=** \n",
    "\"  \"            | égalité |     **==** \n",
    "\"  \"            |  différence | **!=** \n"
   ]
  },
  {
   "cell_type": "code",
   "execution_count": null,
   "metadata": {},
   "outputs": [],
   "source": [
    "display(Markdown(\"**Video du cours: expression logique et test**\"))\n",
    "YouTubeVideo('5oCl0q6lQRw')"
   ]
  },
  {
   "cell_type": "markdown",
   "metadata": {},
   "source": [
    "```{attention} \n",
    "Les vidéos utilisent un ancien interpréteur python 2.7, pour lequel `print` est un mot clé, \n",
    "soit `print 'bonjour'`.\n",
    "Avec Python 3, `print` est une fonction et il faut donc utiliser des parenthèses, \n",
    "soit `print('bonjour')` \n",
    "```"
   ]
  },
  {
   "cell_type": "markdown",
   "metadata": {},
   "source": [
    "### Exemple en Python ###"
   ]
  },
  {
   "cell_type": "code",
   "execution_count": null,
   "metadata": {},
   "outputs": [],
   "source": [
    "print(type(True))\n",
    "print(True and False)\n",
    "print(False or True)\n",
    "a = 4\n",
    "print(a < 4, a <= 4, a >= 4, a > 4, a == 5, a != 5 , not (a == 5))\n",
    "print(True + False)"
   ]
  },
  {
   "cell_type": "markdown",
   "metadata": {},
   "source": [
    "## Test conditionnel (branchement)\n",
    "\n",
    "<img src=\"Figures/iftest.png\" alt=\"iftest\" width=\"300px\"/>\n"
   ]
  },
  {
   "cell_type": "markdown",
   "metadata": {},
   "source": [
    "### Organigramme: représentation graphique d'un algorithme\n",
    "\n",
    " **Algorithme**\n",
    " \n",
    "        si (test vrai) alors\n",
    "           intruction(s) 1\n",
    "        sinon\n",
    "           intruction(s) 2\n",
    "        fin si\n",
    "        instruction(s) 3\n"
   ]
  },
  {
   "cell_type": "code",
   "execution_count": null,
   "metadata": {},
   "outputs": [],
   "source": [
    "from diagramme1 import trace_diagramme1\n",
    "HTML(trace_diagramme1())"
   ]
  },
  {
   "cell_type": "markdown",
   "metadata": {},
   "source": [
    "### syntaxe Python\n",
    "\n",
    "**notation algorithmique**\n",
    "\n",
    "    si (expression vrai) alors   \n",
    "         execute intruction(s) 1  \n",
    "    sinon\n",
    "         execute intruction(s) 2\n",
    "    fin si\n",
    "    execute instruction(s) 3\n",
    "\n",
    "**syntaxe Python**  (noter les **:**)\n",
    "    \n",
    "    if expression :\n",
    "        intruction1\n",
    "    else :\n",
    "        intruction2\n",
    "        \n",
    "    instruction3\n"
   ]
  },
  {
   "cell_type": "markdown",
   "metadata": {},
   "source": [
    "### indentation des structures de contrôle\n",
    "\n",
    "    print \"bloc1\"\n",
    "    if (condition1) :\n",
    "       print \"bloc2\"\n",
    "       if (condition2) :\n",
    "           print \"bloc3\"\n",
    "       print \"bloc2 suite\"\n",
    "    print \"bloc1 suite\"\n",
    "\n",
    "### tests imbriqués\n",
    "\n",
    "    si (condition1) alors\n",
    "        instruction1\n",
    "    sinon si (condition2) alors\n",
    "        instruction2\n",
    "    sinon\n",
    "        instruction3\n",
    "    fin si\n",
    "    "
   ]
  },
  {
   "cell_type": "code",
   "execution_count": null,
   "metadata": {},
   "outputs": [],
   "source": [
    "i=15\n",
    "print(\"si i=\",i)\n",
    "if i%2 == 0 :\n",
    "    print(\"i divisible par 2\")\n",
    "elif i%3 == 0 :\n",
    "    print(\"i divisible par 3 mais pas par 2\")\n",
    "elif i%5 == 0 :\n",
    "    print(\"i divisible par 5 mais pas par 2 ni 3\")\n",
    "else :\n",
    "    print(\"i non divisible par 2,3 et 5\")"
   ]
  },
  {
   "cell_type": "markdown",
   "metadata": {},
   "source": [
    "### erreur de syntaxe: attention à l'indentation et au symbol :\n",
    "\n",
    "    a = 4\n",
    "    if a > 5:\n",
    "        print(\"a est plus grand que 5\")\n",
    "    else\n",
    "        print(\"a est plus petit ou egal a 5\")\n",
    "   \n",
    "    File \"<ipython-input-7-5162c46baa06>\", line 4\n",
    "    else\n",
    "        ^\n",
    "    SyntaxError: invalid syntax"
   ]
  },
  {
   "cell_type": "markdown",
   "metadata": {},
   "source": [
    "### Exemple d'application ###"
   ]
  },
  {
   "cell_type": "markdown",
   "metadata": {},
   "source": [
    "**Problème:** étant donné un nombre entier positif p,  est-il pair ou impair ?\n",
    "\n",
    "    ALGORITHME Parite\n",
    "      Initialisez p\n",
    "      si (p modulo 2) == 0 alors\n",
    "         Affiche \"p est pair\"\n",
    "      sinon\n",
    "         Affiche \"p est impair\"\n",
    "      fin si\n",
    "      "
   ]
  },
  {
   "cell_type": "markdown",
   "metadata": {},
   "source": [
    "### Programme Python ###"
   ]
  },
  {
   "cell_type": "code",
   "execution_count": null,
   "metadata": {},
   "outputs": [],
   "source": [
    "# programme parite\n",
    "p = 17\n",
    "print(\"valeur p =\", p)\n",
    "if p%2 == 0:\n",
    "    print(\"p est pair.\")\n",
    "else:\n",
    "    print(\"p est impair.\")"
   ]
  },
  {
   "cell_type": "markdown",
   "metadata": {},
   "source": [
    "## Boucle itérative\n",
    "\n",
    "<img src=\"Figures/loop.png\" alt=\"boucle\" width=\"200px\"/>\n",
    "\n",
    "- nombre d'itérations **n** connues\n",
    "- compteur de boucle **i** (variable)\n",
    "- **attention** en algorithmique on compte en général à partir de 0\n",
    "- premier élément d'une séquence i=0\n"
   ]
  },
  {
   "cell_type": "code",
   "execution_count": null,
   "metadata": {},
   "outputs": [],
   "source": [
    "display(Markdown(\"**Video du cours: boucle itérative pour**\"))\n",
    "YouTubeVideo('2fv2KdqMr2o')"
   ]
  },
  {
   "cell_type": "markdown",
   "metadata": {},
   "source": [
    "```{attention} \n",
    "Les vidéos utilisent un ancien interpréteur python 2.7, pour lequel `print` est un mot clé, \n",
    "soit `print 'bonjour'`.\n",
    "Avec Python 3, `print` est une fonction et il faut donc utiliser des parenthèses, \n",
    "soit `print('bonjour')` \n",
    "```"
   ]
  },
  {
   "cell_type": "markdown",
   "metadata": {},
   "source": [
    "### Organigramme et algorithme \n",
    "\n",
    "**Algorithme**\n",
    "\n",
    "    pour i de 0 a n-1\n",
    "       execute intruction(s) 1\n",
    "    fin pour\n",
    "    execute instruction(s) 2\n"
   ]
  },
  {
   "cell_type": "code",
   "execution_count": null,
   "metadata": {},
   "outputs": [],
   "source": [
    "from diagramme2 import trace_diagramme2\n",
    "HTML(trace_diagramme2())"
   ]
  },
  {
   "cell_type": "markdown",
   "metadata": {},
   "source": [
    "### syntaxe Python\n",
    "\n",
    "**Algorithmique**\n",
    "\n",
    "- **boucle par défaut** (n itérations qui débute à 0 avec un incrément de 1)\n",
    "\n",
    "        pour i de 0 a n-1\n",
    "           instructions 1\n",
    "        fin pour\n",
    "        instructions 2\n",
    "        \n",
    "- **boucle générale** (n-p)/q itérations qui débute à p avec un incrément q)\n",
    "\n",
    "        pour i de p a n-1 pas q \n",
    "           instructions 1\n",
    "        fin pour\n",
    "        instruction2\n",
    "\n",
    "**Syntaxe Python**\n",
    "\n",
    "- **boucle par défaut** \n",
    "noté l'utilisation de n (nbre d'itérations) et non n-1 (valeur max de i)\n",
    "\n",
    "        for i in range(n):\n",
    "               instruction1\n",
    "        instruction2\n",
    "\n",
    "- **boucle générale** noté que la dernière valeur n est exclue pour que le nbre d'itérations soit égale à (n-p)/q\n",
    "\n",
    "        for i in range(p, n, q):\n",
    "           instruction1\n",
    "        instruction2\n"
   ]
  },
  {
   "cell_type": "markdown",
   "metadata": {},
   "source": [
    "### Exemples en Python"
   ]
  },
  {
   "cell_type": "code",
   "execution_count": null,
   "metadata": {},
   "outputs": [],
   "source": [
    "for i in range(4):\n",
    "    print(i)\n",
    "print(range(4))\n",
    "for j in range(1, 4, 2):\n",
    "    print(j)\n",
    "print(range(1, 4, 2))"
   ]
  },
  {
   "cell_type": "markdown",
   "metadata": {},
   "source": [
    "## Algorithme itératif\n",
    "\n",
    "**Itération:** répétition d'instructions un nombre fini de fois \n",
    "\n",
    "- boucle itérative avec un compteur\n",
    "\n",
    "        Pour i=0,1,..,n-1\n",
    "            instruction\n",
    "        Fin Pour\n",
    "        \n",
    "**exemple:** calcul de la somme $S$ des $n$ premiers entiers $i$ positifs ou nul:\n",
    "\n",
    "$$S=\\sum_{i=0}^{n-1} i $$"
   ]
  },
  {
   "cell_type": "markdown",
   "metadata": {},
   "source": [
    "### Organigramme: tableau des variables\n",
    "\n",
    "**Algorithme**\n",
    "\n",
    "    1. S=0.\n",
    "    2. initialise n\n",
    "    3. pour i de 0 a n-1\n",
    "    4.   S = S + i\n",
    "    5. fin i\n",
    "    6. affiche S\n"
   ]
  },
  {
   "cell_type": "code",
   "execution_count": null,
   "metadata": {},
   "outputs": [],
   "source": [
    "from boucle1 import trace_boucle1\n",
    "HTML(trace_boucle1())"
   ]
  },
  {
   "cell_type": "markdown",
   "metadata": {},
   "source": [
    "### Programme en Python"
   ]
  },
  {
   "cell_type": "code",
   "execution_count": null,
   "metadata": {},
   "outputs": [],
   "source": [
    "# programme de calcul de la somme de n entiers\n",
    "S = 0\n",
    "n = 8\n",
    "for i in range(n):\n",
    "    S = S + i\n",
    "    print(S, i)\n",
    "print(\"Somme (des \", n, \" premiers entiers >= 0)  S =\", S)"
   ]
  },
  {
   "cell_type": "markdown",
   "metadata": {},
   "source": [
    "### Visualisation de l’exécution du code Python\n",
    "\n",
    "**utilisation du site : http://pythontutor.com**\n",
    "\n",
    "*vous pouvez copier l'exemple de code python sur le site pour l'exécuter*"
   ]
  },
  {
   "cell_type": "code",
   "execution_count": null,
   "metadata": {},
   "outputs": [],
   "source": [
    "display(Markdown(\"**Visualisation de l'execution sur le site pythontutor**\"))\n",
    "Video(\"VIDEO_COURS/pythonlive_loop.mp4\", embed=True,width=700, height=300)"
   ]
  },
  {
   "cell_type": "markdown",
   "metadata": {},
   "source": [
    "## Boucle tant que\n",
    "\n",
    "<img src=\"Figures/while.png\" alt=\"while\" width=\"100px\"/>\n",
    "\n",
    "Algorithme itératif dont le nombre d'itérations n'est pas connu à l'avance.\n",
    "\n",
    "**notation algorithmique**\n",
    "\n",
    "    Tantque (condition vrai)\n",
    "        instruction(s) 1\n",
    "    Fin Tantque\n",
    "    instructions 2\n",
    "    \n",
    "**Syntaxe python**\n",
    "\n",
    "    while condition :\n",
    "        instruction1\n",
    "    instruction2"
   ]
  },
  {
   "cell_type": "code",
   "execution_count": null,
   "metadata": {},
   "outputs": [],
   "source": [
    "display(Markdown(\"**Video du cours: boucle itérative tantque**\"))\n",
    "YouTubeVideo('i2qCuRP3uUk')"
   ]
  },
  {
   "cell_type": "markdown",
   "metadata": {},
   "source": [
    "```{attention} \n",
    "Les vidéos utilisent un ancien interpréteur python 2.7, pour lequel `print` est un mot clé, \n",
    "soit `print 'bonjour'`.\n",
    "Avec Python 3, `print` est une fonction et il faut donc utiliser des parenthèses, \n",
    "soit `print('bonjour')` \n",
    "```"
   ]
  },
  {
   "cell_type": "markdown",
   "metadata": {},
   "source": [
    "### Exemple de boucle tant que\n",
    "\n",
    "Calcul de la somme de la série $\\frac{x^i}{i!}$ avec une précision $\\epsilon$ fixée\n",
    "\n",
    "$$ S = \\sum_i \\frac{x^i}{i!} \\mbox{ pour tout } i \\mbox{ t.q.} \\frac{x^i}{i!} > \\epsilon $$\n"
   ]
  },
  {
   "cell_type": "markdown",
   "metadata": {},
   "source": [
    "### Algorithme\n",
    "\n",
    "    ALGORITHME somme\n",
    "    initialiser x,eps\n",
    "    S = 0.\n",
    "    i = 0\n",
    "    term = 1.\n",
    "    tant que (term > eps) repeter\n",
    "        S = S + term\n",
    "        i = i + 1\n",
    "        term = term * x / i\n",
    "    afficher \"Somme = \",S\n",
    "<span style=\"display:block; height:5pt;\"></span>"
   ]
  },
  {
   "cell_type": "markdown",
   "metadata": {},
   "source": [
    "### Programme Python"
   ]
  },
  {
   "cell_type": "code",
   "execution_count": null,
   "metadata": {},
   "outputs": [],
   "source": [
    "# programme somme\n",
    "x = 1.\n",
    "eps = 1.0e-10\n",
    "S = 0.\n",
    "i = 0\n",
    "term = 1.\n",
    "while term > eps:\n",
    "    S = S + term\n",
    "    i = i + 1\n",
    "    term = term * x / i\n",
    "print(\"Somme S =\", S, \" avec \", i, \" termes\")"
   ]
  },
  {
   "cell_type": "code",
   "execution_count": null,
   "metadata": {},
   "outputs": [],
   "source": [
    "# verification\n",
    "print(np.exp(x))"
   ]
  },
  {
   "cell_type": "markdown",
   "metadata": {},
   "source": [
    "### questions ###\n",
    "- l'algorithme fonctionne-t-il pour x<0 ?"
   ]
  },
  {
   "cell_type": "markdown",
   "metadata": {},
   "source": [
    "### Visualisation de l'execution du code Python\n",
    "\n",
    "**utilisation du site : http://pythontutor.com**\n",
    "\n",
    "*vous pouvez copier l'exemple de code python sur le site pour l'exécuter*"
   ]
  },
  {
   "cell_type": "code",
   "execution_count": null,
   "metadata": {},
   "outputs": [],
   "source": [
    "display(Markdown(\"**Visualisation de l'execution sur le site pythontutor**\"))\n",
    "Video(\"VIDEO_COURS/pythonlive_pge.mp4\", embed=True,width=700, height=300)"
   ]
  },
  {
   "cell_type": "markdown",
   "metadata": {},
   "source": [
    "## Erreurs courantes\n",
    "\n",
    "la valeur de la condition ne devient jamais fausse => **itération infinie**\n",
    "\n",
    "### Erreur: la condition n'est pas modifiée\n",
    "\n",
    "**exemple**\n",
    "\n",
    "    condition=True\n",
    "    i=0\n",
    "    while condition :   \n",
    "       i=i+1\n",
    "    print i\n",
    "    "
   ]
  },
  {
   "cell_type": "code",
   "execution_count": null,
   "metadata": {},
   "outputs": [],
   "source": [
    "# tester le code\n",
    "\n"
   ]
  },
  {
   "cell_type": "markdown",
   "metadata": {},
   "source": [
    "**code Python corrigé**"
   ]
  },
  {
   "cell_type": "code",
   "execution_count": null,
   "metadata": {},
   "outputs": [],
   "source": [
    "condition = True\n",
    "i = 0\n",
    "while condition:\n",
    "    i = i + 1\n",
    "    condition = i < 10\n",
    "print(i)"
   ]
  },
  {
   "cell_type": "markdown",
   "metadata": {},
   "source": [
    "### Erreur: la condition est trop contraignante (précision)\n",
    "\n",
    "**exemple**\n",
    "\n",
    "    x = 0.0\n",
    "    while (x != 1.0) :\n",
    "       x = x + 0.1\n",
    "    print x"
   ]
  },
  {
   "cell_type": "code",
   "execution_count": null,
   "metadata": {},
   "outputs": [],
   "source": [
    "## test du code\n"
   ]
  },
  {
   "cell_type": "markdown",
   "metadata": {},
   "source": [
    "**solution** introduire un compteur $i$ et un test $i>it_{max}$ avec un **break**\n",
    "\n",
    "**code python corrigé**"
   ]
  },
  {
   "cell_type": "code",
   "execution_count": null,
   "metadata": {},
   "outputs": [],
   "source": [
    "x = 0.0\n",
    "i = 0\n",
    "while x != 1.0:\n",
    "    x = x + 0.1\n",
    "    print(repr(x))\n",
    "    i = i + 1\n",
    "    if i > 10: break\n",
    "print(\"x =\", x, i)"
   ]
  },
  {
   "cell_type": "markdown",
   "metadata": {},
   "source": [
    "## Exemples"
   ]
  },
  {
   "cell_type": "code",
   "execution_count": null,
   "metadata": {},
   "outputs": [],
   "source": [
    "display(Markdown(\"**Video du cours: exemples et exercices d'application**\"))\n",
    "YouTubeVideo('uk4AwYc7NhY')"
   ]
  },
  {
   "cell_type": "markdown",
   "metadata": {},
   "source": [
    "```{attention} \n",
    "Les vidéos utilisent un ancien interpréteur python 2.7, pour lequel `print` est un mot clé, \n",
    "soit `print 'bonjour'`.\n",
    "Avec Python 3, `print` est une fonction et il faut donc utiliser des parenthèses, \n",
    "soit `print('bonjour')` \n",
    "```"
   ]
  },
  {
   "cell_type": "markdown",
   "metadata": {},
   "source": [
    "### méthode de dichotomie\n",
    "\n",
    "On suppose que pendant son lancement, l'altitude $z(t)$ d'un satellite est donnée par:\n",
    "\n",
    "$$z(t) = H * tanh(\\frac{t}{T}) \\mbox{ avec }  T = 5 h $$ \n",
    "\n",
    "Au bout de $20 h$ le satellite atteint son orbite.\n",
    "\n",
    "Au bout de quel temps $t_1$   le satellite atteint-il son orbite à $1\\%$ près i.e calculer $t_1$ tel que:\n",
    "\n",
    "$$ z(t_1)=0.99*z(20) $$ \n",
    "\n",
    "On déterminera la valeur de $t_1$ à 0.1h près en utilisant une méthode de dichotomie.\n",
    "\n",
    "**schéma**\n",
    "\n",
    "<img src=\"Figures/schema1.png\" alt=\"schema1\" />"
   ]
  },
  {
   "cell_type": "markdown",
   "metadata": {},
   "source": [
    "### Solution algorithme de dichotomie"
   ]
  },
  {
   "cell_type": "markdown",
   "metadata": {},
   "source": [
    "    ALGORITHME Dichotomie\n",
    "    a = 0.\n",
    "    b = 20.\n",
    "    z0 = 0.99*tanh(b/5.)\n",
    "    tant ((b-a)>0.1) repeter\n",
    "        t = (a+b)/2.\n",
    "        si tanh(t/5.) > z0 alors\n",
    "            b = t\n",
    "        sinon\n",
    "            a = t\n",
    "        fin si\n",
    "     fin tant\n",
    "     Affiche \"Temps t =\", t"
   ]
  },
  {
   "cell_type": "markdown",
   "metadata": {},
   "source": [
    "### programme Python"
   ]
  },
  {
   "cell_type": "code",
   "execution_count": null,
   "metadata": {},
   "outputs": [],
   "source": [
    "# programme dichotomie\n",
    "import numpy as np\n",
    "a = 0.\n",
    "b = 20.\n",
    "z0 = 0.9*np.tanh(b/5.)\n",
    "print(\"z0 = \", z0)\n",
    "while b - a > 0.1:\n",
    "    t = (a+b) / 2.\n",
    "    z = np.tanh(t/5.)\n",
    "    print(\"a=\", a, \"b=\", b, \"t=\", t, \"z=\", z)\n",
    "    if z > z0:\n",
    "        b = t\n",
    "    else:\n",
    "        a = t\n",
    "print(\"Temps \", t)"
   ]
  },
  {
   "cell_type": "markdown",
   "metadata": {},
   "source": [
    "## Devoirs d'application\n",
    "\n",
    "### Méthode des trapèzes\n",
    "\n",
    "> calcul de la valeur approchée de l'intégrale  $\\int_a^b{f(x)dx}$ \n",
    "\n",
    "\n",
    "<center><img src=\"Figures/trapezes.png\" alt=\"Methode des trapezes\" style=\"width:180px;\"/></center>\n",
    "<br>\n",
    "\n",
    "$$ \\int_a^b{f(x)dx} \\approx \\sum_{i=1}^n{h \\frac{f(x_i)+f(x_{i-1})}{2}} \\mbox{ avec } x_i=a+ih \\ ,\\  h=\\frac{b-a}{n}$$\n",
    "\n",
    "Ecrire un programme Python qui calcule une estimation de  \n",
    "\n",
    "$$ I=\\int_0^\\pi{\\frac{sin(x)}{x}dx} $$\n",
    "\n",
    "#### validation\n",
    "\n",
    "$$ I=si(\\pi)\\approx 1.85193705198247$$\n",
    "\n",
    "<span style=\"display:block; height:60pt;\"></span>"
   ]
  },
  {
   "cell_type": "markdown",
   "metadata": {},
   "source": [
    "### Calcul de la suite de Syracuse \n",
    "\n",
    ">Écrire un programme qui calcule la suite d'entiers définie par\n",
    "la règle suivante:\n",
    "\n",
    ">- on part d'un nombre entier n plus grand que zéro; s’il est pair, on le divise par 2 ; s’il est impair, on le multiplie par 3 et on ajoute 1\n",
    ">- on recommence et on s’arrête lorsque l'on arrive à 1\n",
    "\n",
    "\n",
    "La conjecture de Collatz, énoncée en 1937, postule que cette suite de Syracuse s'arrête au bout d'un nombre fini d'itérations.\n",
    "\n",
    "#### validation\n",
    "Pour n=3, on obtient la suite suivante: 3, 10, 5, 16, 8, 4, 2, 1\n"
   ]
  },
  {
   "cell_type": "markdown",
   "metadata": {},
   "source": [
    "## Fin de la leçon\n",
    "\n",
    "<img src=\"Figures/cloud_loop.png\" width=\"300px\">"
   ]
  }
 ],
 "metadata": {
  "hide_input": false,
  "kernelspec": {
   "display_name": "Python 3",
   "language": "python",
   "name": "python3"
  },
  "language_info": {
   "codemirror_mode": {
    "name": "ipython",
    "version": 3
   },
   "file_extension": ".py",
   "mimetype": "text/x-python",
   "name": "python",
   "nbconvert_exporter": "python",
   "pygments_lexer": "ipython3",
   "version": "3.8.10"
  },
  "toc": {
   "base_numbering": 1,
   "nav_menu": {},
   "number_sections": true,
   "sideBar": true,
   "skip_h1_title": true,
   "title_cell": "Contenu du chapitre",
   "title_sidebar": "Contenu",
   "toc_cell": false,
   "toc_position": {},
   "toc_section_display": true,
   "toc_window_display": false
  }
 },
 "nbformat": 4,
 "nbformat_minor": 1
}
