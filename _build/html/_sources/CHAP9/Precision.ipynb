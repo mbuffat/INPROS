{
 "cells": [
  {
   "cell_type": "markdown",
   "metadata": {},
   "source": [
    "<img src=\"Figures/logo_trans.png\" width=\"180px\" alt=\"LyonHPC\" />\n",
    "<img width=\"200px\" src=\"Figures/python-logo.gif\" alt=\"LyonHPC\"/>\n",
    "\n",
    "\n",
    "# Précision et validation\n",
    "\n",
    "<img src=\"cloud_precision.png\" alt=\"sommaire\" width=\"300px\"/>"
   ]
  },
  {
   "cell_type": "code",
   "execution_count": null,
   "metadata": {},
   "outputs": [],
   "source": [
    "%matplotlib inline\n",
    "from IPython.display import HTML,display,IFrame\n",
    "from IPython.display import YouTubeVideo,Markdown,Video"
   ]
  },
  {
   "cell_type": "markdown",
   "metadata": {},
   "source": [
    "## Erreur de représentation\n",
    "\n",
    "*Les nombres réels n'ont pas de représentation exacte sur un ordinateur*"
   ]
  },
  {
   "cell_type": "markdown",
   "metadata": {},
   "source": [
    "### Exemple préliminaire\n",
    "\n",
    "Calcul de la somme $S_n$ de la série convergente:\n",
    "\n",
    "$$S_n = \\sum_{i=0}^n \\frac{x^i}{i!} $$"
   ]
  },
  {
   "cell_type": "markdown",
   "metadata": {},
   "source": [
    "#### Algorithme\n",
    "\n",
    "    Algorithme serie(x,n)\n",
    "         term  = 1.\n",
    "         somme = 1.\n",
    "         pour i de 1 a n (exclu)\n",
    "            term = term*x/i\n",
    "            somme = somme + term\n",
    "         fin pour\n",
    "         Serie = somme"
   ]
  },
  {
   "cell_type": "markdown",
   "metadata": {},
   "source": [
    "#### Programme Python"
   ]
  },
  {
   "cell_type": "code",
   "execution_count": null,
   "metadata": {},
   "outputs": [],
   "source": [
    "def serie(x,n) :\n",
    "    term = 1.0\n",
    "    somme = term\n",
    "    for i in range(1,n):\n",
    "        term = term*x/i\n",
    "        somme = somme + term\n",
    "    return somme"
   ]
  },
  {
   "cell_type": "markdown",
   "metadata": {},
   "source": [
    "#### Applications"
   ]
  },
  {
   "cell_type": "code",
   "execution_count": null,
   "metadata": {},
   "outputs": [],
   "source": [
    "from numpy import exp\n",
    "x = 1.0\n",
    "print(\"Pour x=\",x,\" serie=\",serie(x,100),\" exp(x)=\",exp(x))\n",
    "x = 100.0\n",
    "print(\"Pour x=\",x,\" serie=\",serie(x,1000),\" exp(x)=\",exp(x))"
   ]
  },
  {
   "cell_type": "code",
   "execution_count": null,
   "metadata": {},
   "outputs": [],
   "source": [
    "x = -1.0\n",
    "print(\"Pour x=\",x,\" serie=\",serie(x,100),\" exp(x)=\",exp(x))\n",
    "x = -100.0\n",
    "print(\"Pour x=\",x,\" serie=\",serie(x,1000),\" exp(x)=\",exp(x))"
   ]
  },
  {
   "cell_type": "markdown",
   "metadata": {},
   "source": [
    "Pour $x < 0$ , la série converge mais numériquement le calcul diverge à cause des erreurs d’arrondis.\n",
    "\n",
    "#### Solution: utilisation de la propriété $e^{-x} = 1/e^x $"
   ]
  },
  {
   "cell_type": "code",
   "execution_count": null,
   "metadata": {},
   "outputs": [],
   "source": [
    "x = -100.0\n",
    "print(\"Pour x=\",x,\" serie=\",1./serie(-x,1000),\" exp(x)=\",exp(x))"
   ]
  },
  {
   "cell_type": "markdown",
   "metadata": {},
   "source": [
    "#### Exercice\n",
    "On peut améliorer la précision du calcul en notant que pour $x>0$, on peut écrire:\n",
    "\n",
    "$$e^x = (e^{x_0})^n \\mbox{ avec } 0\\le x_0 \\le1 $$\n",
    "\n",
    "Réécrire l'algorithme précédent en utilisant cette propriété.\n"
   ]
  },
  {
   "cell_type": "markdown",
   "metadata": {},
   "source": [
    "### Représentation des nombres sur un ordinateur\n",
    "\n",
    "- nombre entier exacte (32 bits): $-2^{31}\\le n \\le 2^{31}$\n",
    "\n",
    "- nombre réel: mantisse + exposant:\n",
    "\n",
    "Réel $a\\neq\\ 0$\n",
    "  normalisé = mantisse+exposant \n",
    "  \n",
    "  $$\\forall\\ a\\in\\mathbb{R}\\,\\,\\, a=\\pm\\ 10^{q}\\sum_{i=1}^{\\infty}a_{i}.10^{-i}\\mbox{ avec }a_{1}\\neq\\ 0$$\n",
    " \n",
    "  représentation flottante (si $-N\\leq\\ q\\leq\\ M$) \n",
    "  \n",
    " $$fl(a)=\\pm\\ 10^{q}\\sum_{i=1}^{t}a_{i}.10^{-i}$$\n",
    " \n",
    "- simple précision 32 bits: $t=7$,  $-45<q<38$\n",
    "\n",
    "- double précision 64 bits: $t=15$, $-324<q<308$\n",
    "  \n",
    "#### Exemple"
   ]
  },
  {
   "cell_type": "code",
   "execution_count": null,
   "metadata": {},
   "outputs": [],
   "source": [
    "x = 1.\n",
    "print(x)\n",
    "s = x+x+x\n",
    "print(s == 3.)"
   ]
  },
  {
   "cell_type": "code",
   "execution_count": null,
   "metadata": {},
   "outputs": [],
   "source": [
    "x =0.1\n",
    "print(x)\n",
    "s = x+x+x\n",
    "print(s == 0.3)"
   ]
  },
  {
   "cell_type": "code",
   "execution_count": null,
   "metadata": {},
   "outputs": [],
   "source": [
    "print(\"s=\",s)\n",
    "print(\"s=\",repr(s))"
   ]
  },
  {
   "cell_type": "markdown",
   "metadata": {},
   "source": [
    "## Précision des calculs"
   ]
  },
  {
   "cell_type": "markdown",
   "metadata": {},
   "source": [
    "### Précision machine $\\epsilon$\n",
    " \n",
    "$$\\frac{\\left\\Vert a-fl(a)\\right\\Vert }{\\left\\Vert a\\right\\Vert }\\le\\epsilon$$"
   ]
  },
  {
   "cell_type": "markdown",
   "metadata": {},
   "source": [
    "### Algorithme de calcul de la précision machine\n",
    "\n",
    "    Algorithme Precision()\n",
    "        eps = 1.\n",
    "        tant que 1. + eps > 1.\n",
    "            eps = eps/2\n",
    "        fin tant que\n",
    "        Precision = 2*eps"
   ]
  },
  {
   "cell_type": "markdown",
   "metadata": {},
   "source": [
    "### Programme Python"
   ]
  },
  {
   "cell_type": "code",
   "execution_count": null,
   "metadata": {},
   "outputs": [],
   "source": [
    "def Precision():\n",
    "    \"\"\" calcul la precision machine \"\"\"\n",
    "    eps = 1.0\n",
    "    while (1.+eps) > 1.0 :\n",
    "        eps = eps/2.\n",
    "    return 2*eps\n",
    "\n",
    "print(\"Precision machine = \",Precision())\n"
   ]
  },
  {
   "cell_type": "markdown",
   "metadata": {},
   "source": [
    "## Erreurs numériques\n",
    "\n",
    "- non associativité de l'addition et soustraction\n",
    "\n",
    "- formule exacte $\\leadsto$ résultats numériques faux\n",
    "\n",
    "- absorption $x + y = x$  si $y \\ll x$\n",
    "\n",
    "### Exemple: racine d'une équation du 2nd degré\n",
    "\n",
    "$$x=\\frac{-b\\mp\\sqrt{b^{2}-4ac}}{2a}$$\n",
    " \n",
    "#### programme Python de base"
   ]
  },
  {
   "cell_type": "code",
   "execution_count": null,
   "metadata": {},
   "outputs": [],
   "source": [
    "from numpy import sqrt\n",
    "a = 1.e-8\n",
    "b = -2.\n",
    "c = 1.e-8\n",
    "\n",
    "x1 = (-b + sqrt(b*b-4*a*c))/(2*a)\n",
    "x2 = (-b - sqrt(b*b-4*a*c))/(2*a)\n",
    "\n",
    "print(\"x1=\",x1, \"x2=\",x2)\n",
    "print(\"x1*x2=\",x1*x2,\"# produit=\",c/a)"
   ]
  },
  {
   "cell_type": "markdown",
   "metadata": {},
   "source": [
    "#### meilleur approximation"
   ]
  },
  {
   "cell_type": "code",
   "execution_count": null,
   "metadata": {},
   "outputs": [],
   "source": [
    "x2 = c/a/x1\n",
    "print(\"x1=\",x1, \"x2=\",x2)\n",
    "print(\"x1*x2=\",x1*x2,\"= produit=\",c/a)"
   ]
  },
  {
   "cell_type": "markdown",
   "metadata": {},
   "source": [
    "### Calcul d'erreurs\n",
    "\n",
    "#### règles sur les erreurs\n",
    "\n",
    "  $$\\Delta(x+y)=\\Delta x+\\Delta y$$\n",
    "  $$\\Delta(x-y)=\\Delta x+\\Delta y$$\n",
    "  $$\\Delta(x*y)=\\left|y\\right|\\Delta x+\\left|x\\right|\\Delta y$$\n",
    "  $$\\Delta(\\frac{x}{y})=\\frac{\\left|y\\right|\\Delta x+\\left|x\\right|\\Delta y}{y^{2}}$$\n",
    "  \n",
    "#### condition sur l' erreur relative\n",
    "\n",
    "   $$\\frac{\\Delta x}{|x|} \\le \\epsilon $$"
   ]
  },
  {
   "cell_type": "markdown",
   "metadata": {},
   "source": [
    "## Conditionnement et erreurs d'approximation\n",
    "\n",
    "### sensibilité aux erreurs\n",
    "**Conditionnement** sensibilité du résultat à une petite variation des données. \n",
    "\n",
    "Problème mal conditionné=grande sensibilité vis à vis des données.\n",
    "\n",
    "**Stabilité** sensibilité de l'algorithme vis a vis des erreurs numériques\n",
    "\n",
    "### Erreurs d'approximation\n",
    "\n",
    "Soit $U^h$ une approximation de la solution $U_{ex}$  fonction d'un petit paramètre d'approximation $h$:\n",
    "\n",
    "$$\\lim_{h \\rightarrow 0}{U^h} = U_{ex} $$\n",
    "\n",
    "Erreur $E(h)$\n",
    "\n",
    "$$ E(h) =  \\left\\Vert U^h - U_{ex} \\right\\Vert \\rightarrow 0 $$\n",
    " \n",
    "#### Ordre d'approximation\n",
    "**Ordre $O(h^{n})$**\n",
    "\n",
    "- La fonction $E(h)$ est en $O(h^{n})$ s'il existe une constante $C>0$ telle que $\\left|E(h)\\right|<Ch^{n}$\n",
    "  \n",
    "\n",
    "**Approximation d'ordre n**: \n",
    "\n",
    "- si l'erreur est en $O(h^{n})$, alors l' approximation est d'ordre n\n"
   ]
  },
  {
   "cell_type": "markdown",
   "metadata": {},
   "source": [
    "### Exemple: calcul de $e^a$ avec des tables pour $0 < a < 1$\n",
    "\n",
    "On précalcule  $n+1$ valeurs $l_k=\\log(1 + 10^{-k})$ ( pour $k=0,n$ ) \n",
    "\n",
    "On a donc $e^{l_k} = 1 + 10^{-k}$\n",
    "\n",
    "On décompose ensuite $a$ sous la forme\n",
    "\n",
    "$$ a = \\sum_{k=0}^{n} a_k l_k + \\epsilon \\mbox{ avec } a_k\\in \\mathbb{N} \\mbox{ et } |\\epsilon| \\lt 10^{-n}$$\n",
    "\n",
    "ce qui donne (en utilisant $e^{a+b}=e^a e^b $) :\n",
    "\n",
    "$$ e^a = \\left[\\prod_{k=0}^{n}\\left(1 + 10^{-k}\\right)^{a_k}\\right] e^\\epsilon$$\n",
    "\n",
    "En approximant $e^\\epsilon \\simeq 1+ \\epsilon$, on obtiens une approximation de $e^a$ \n",
    "\n",
    "$$ e^a \\simeq \\left[\\prod_{k=0}^{n}\\left(1 + 10^{-k}\\right)^{a_k}\\right] ( 1 + \\epsilon) $$\n",
    "\n",
    "avec une erreur relative  $\\epsilon^2$ \n",
    "\n",
    "$$ \\frac{\\Delta e^a}{e^a} = \\frac {e^\\epsilon- 1 - \\epsilon}{e^\\epsilon} \\simeq \\theta(\\epsilon^2)$$\n"
   ]
  },
  {
   "cell_type": "markdown",
   "metadata": {},
   "source": [
    "### Algorithme: approximation de exp(a) à l'aide de tables\n",
    "\n",
    "    Algorithme Exp(a)\n",
    "        n = 8  # nbre de valeurs de la table\n",
    "        L = [ln(1),ln(1+0.1),ln(1+0.01),...ln(1+10^-7)]\n",
    "        x = a  # valeur a decomposer (a, a-a0*l0, a-a0*l0-a*l1,...)\n",
    "        y = 1  # valeur de exp(a)\n",
    "        pour k de 0 a n-1\n",
    "           # Calcul de ak par decomposition \n",
    "           # de x = a - a0*L[0]-a1*L[1]-..ak-1*L[k_1]\n",
    "           ak = 0\n",
    "           tant que x>L[k] faire\n",
    "               x = x - L[k]\n",
    "               y = y*(1+10^-k)\n",
    "               ak = ak + 1\n",
    "           fin calcul ak \n",
    "         fin boucle k\n",
    "         # prise en compte du reste ici x\n",
    "         y = y*(1+x)\n",
    "         retour y\n",
    "\n",
    "### Programme Python"
   ]
  },
  {
   "cell_type": "code",
   "execution_count": null,
   "metadata": {},
   "outputs": [],
   "source": [
    "from numpy import exp,log,log1p\n",
    "# table précalculée\n",
    "n=8\n",
    "L=[log(1+10**(-k)) for k in range(n)]\n",
    "# calcul exp(a)\n",
    "def Exp(a):\n",
    "    \"\"\" calcul approximation y de exp(a)\"\"\"\n",
    "    global L,n\n",
    "    x=a\n",
    "    y=1.\n",
    "    dixmk=1. # puissance 10**(-k)\n",
    "    for k in range(n):\n",
    "        while (L[k] <= x):\n",
    "            x = x - L[k]\n",
    "            y = y + y*dixmk\n",
    "        dixmk = dixmk/10.\n",
    "    y=y*(1+x)\n",
    "    return y\n",
    "# test\n",
    "a=0.8\n",
    "print(\"Erreur relative = \",(exp(a)-Exp(a))/exp(a))\n",
    "a=0.00008\n",
    "print(\"Erreur relative = \",(exp(a)-Exp(a))/exp(a))"
   ]
  },
  {
   "cell_type": "markdown",
   "metadata": {},
   "source": [
    "### comparaison avec le calcul utilisant les séries entières"
   ]
  },
  {
   "cell_type": "code",
   "execution_count": null,
   "metadata": {},
   "outputs": [],
   "source": [
    "import numpy as np\n",
    "import matplotlib.pyplot as plt\n",
    "X = np.linspace(0,1.,100)\n",
    "Ye = exp(X)\n",
    "Ya = [Exp(x) for x in X]\n",
    "Ys = [serie(x,14) for x in X]\n",
    "# tracer\n",
    "plt.figure(figsize=(8,4))\n",
    "plt.subplot(1,2,1)\n",
    "plt.plot(X,Ye,X,Ya)\n",
    "plt.title(\"exp(x)\")\n",
    "plt.subplot(1,2,2)\n",
    "plt.plot(X,abs(Ya-Ye),label=\"table n=7\")\n",
    "plt.plot(X,abs(Ys-Ye),label=\"serie n=14\")\n",
    "plt.legend(loc=0)\n",
    "plt.title(\"Erreur\")\n",
    "plt.yscale('log')\n",
    "plt.show()"
   ]
  },
  {
   "cell_type": "markdown",
   "metadata": {},
   "source": [
    "**Remarques**\n",
    "\n",
    "-  on peut améliorer la précision en utilisant la fonction numpy **log1p(x)** qui calcul log(1+x) avec une plus grande précision pour x petit\n",
    "- **attention** le calcul précis des fonctions élémentaires est un problème complexe (voir l'article sur la précsion de l'instruction **fsin** des processeurs Intel) "
   ]
  },
  {
   "cell_type": "markdown",
   "metadata": {},
   "source": [
    "### Exercice:\n",
    "Utiliser le principe de l'algorithme précédent pour calculer $log(a)$ pour $a>1$.\n",
    "On pourra décomposer $a$ sous la forme:\n",
    "\n",
    "$$a = \\left[\\prod_{k=0}^{n}\\left(1 + 10^{-k}\\right)^{a_k}\\right] (1+\\epsilon)$$\n",
    "    \n",
    "En déduire une approximation de $log(a)$ avec une erreur relative de $\\epsilon^2$\n",
    "    "
   ]
  },
  {
   "cell_type": "markdown",
   "metadata": {},
   "source": [
    "## Vérification des calculs\n",
    "\n",
    "- une simulation numérique calcule une approximation\n",
    "\n",
    "- toute simulation numérique doit être validée\n",
    "\n",
    "- vérification et validation font partie intégrante du calcul scientifique\n",
    "\n",
    "La validation d'une simulation numérique peut utiliser  \n",
    "\n",
    "- une vérification de la convergence\n",
    "\n",
    "- une comparaison avec une solution analytique ou une solution de référence"
   ]
  },
  {
   "cell_type": "markdown",
   "metadata": {},
   "source": [
    "### validation de la simulation d'alunissage\n",
    "\n",
    "**comparaison avec une solution analytique**\n",
    "\n",
    "Dans la modélisation de alunissage on a utiliser une approximation de la solution de l'équation du mouvement:\n",
    "\n",
    "$$ \\frac{d^2 Z}{dt^2} = -g + \\frac{Qe*Ue}{M_0-Q_e*t}$$\n",
    "\n",
    "sous la forme\n",
    "\n",
    "$$ Z = Z_0 - V_0 t - g \\frac{t^2}{2} + t U_e (\\frac{X}{2} + \\frac{X^2}{6} + \\frac{X^3}{12}  + \\frac{X^4}{20} + \\frac{X^5}{30})$$\n",
    "\n",
    "avec $X=t/t_0$ et $t_0=M_0/Q_e$ \n",
    "\n",
    "Cette équation admet une solution analytique:\n",
    "\n",
    "$$ Z_e = Z_0 - V_0 t - g \\frac{t^2}{2} + U_e t_0 (1-X)ln(1-X) + U_e t $$\n",
    "\n",
    "L'approximation correspond à un DL de $ln(1-X)$ a l'ordre 5, et\n",
    "l'erreur doit etre en $\\theta(X^7)$\n"
   ]
  },
  {
   "cell_type": "code",
   "execution_count": null,
   "metadata": {},
   "outputs": [],
   "source": [
    "import numpy as np\n",
    "import matplotlib.pyplot as plt\n",
    "# constantes en unité SI (kg/m/s)\n",
    "g  = 1.6     # gravité\n",
    "Ue = 2900.   # vitesse d'ejection\n",
    "Z0 = 190000. # position\n",
    "V0 = 1580.   # et vitesse\n",
    "M0 = 15000.  # masse initiale du LEM\n",
    "Me = 8000.   # dont une masse de fuel\n",
    "t  = 0.      # temps simulation\n",
    "dt = 10.     # pas en temps \n",
    "Qe = 90.     # poussée\n",
    "t0 = M0/Qe\n",
    "# calcul distance parcourue DZ\n",
    "def DZ(t):\n",
    "    X = t/t0\n",
    "    dZ = - V0*t - g*t*t/2. + Ue*t*(X/2. + X*X/6. + X**3/12. + X**4/20. + X**5/30.)\n",
    "    return dZ\n",
    "# solution exacte\n",
    "def DZe(t):\n",
    "    X = t/t0\n",
    "    dZ = - V0*t - g*t*t/2. + Ue*(t0-t)*np.log(1-X) + Ue*t\n",
    "    return dZ\n",
    "# calcul de l'erreur\n",
    "T  = np.linspace(2.,10*dt,100)\n",
    "Z  = np.array([DZ(t) for t in T])\n",
    "Ze = np.array([DZe(t) for t in T])\n",
    "Err7 = np.array([t0*(t/t0)**7 for t in T])\n",
    "#\n",
    "plt.figure(figsize=(8,4))\n",
    "plt.subplot(1,2,1)\n",
    "plt.plot(T,Z,T,Ze)\n",
    "plt.title(\"distance parcourue\")\n",
    "plt.subplot(1,2,2)\n",
    "plt.plot(T,abs(Z-Ze),lw=2,label='err')\n",
    "plt.plot(T,Err7,'--',label='$O(X^7)$')\n",
    "plt.legend(loc=0)\n",
    "plt.xscale('log')\n",
    "plt.yscale('log')\n",
    "plt.show()"
   ]
  },
  {
   "cell_type": "markdown",
   "metadata": {},
   "source": [
    "### Validation du calcul de $exp(a)$ avec $n$ valeurs tabulées\n",
    "\n",
    "**vérification de la convergence**\n",
    "\n",
    "erreur relative $err \\simeq \\epsilon^2$ avec $\\epsilon \\lt 10^{-n}$\n",
    "\n",
    "#### programme Python"
   ]
  },
  {
   "cell_type": "code",
   "execution_count": null,
   "metadata": {},
   "outputs": [],
   "source": [
    "import numpy as np\n",
    "import matplotlib.pyplot as plt\n",
    "# calcul exp(a) avec une precision 10^-2n\n",
    "def Exp(a,n):\n",
    "    \"\"\" calcul approximation y de exp(a)\"\"\"\n",
    "    L=[np.log(1+10**(-k)) for k in range(n)]\n",
    "    x=a\n",
    "    y=1.\n",
    "    dixmk=1. # puissance 10**(-k)\n",
    "    for k in range(n):\n",
    "        while (L[k] <= x):\n",
    "            x = x - L[k]\n",
    "            y = y + y*dixmk\n",
    "        dixmk = dixmk/10.\n",
    "    y=y*(1+x)\n",
    "    return y\n",
    "#\n",
    "n=12\n",
    "N=range(1,n+1)\n",
    "Y=[10**(-2*k) for k in N]\n",
    "Err=np.zeros(n)\n",
    "a=0.5\n",
    "for i in range(n):\n",
    "    Err[i] = abs(Exp(a,i+1)-np.exp(a))/np.exp(a)\n",
    "plt.plot(N,Err,'o',label=\"err\")\n",
    "plt.plot(N,Y,'-',lw=2,label=\"$10^{-2n}$\")\n",
    "plt.yscale('log')\n",
    "plt.legend(loc=0)\n",
    "plt.show()"
   ]
  },
  {
   "cell_type": "markdown",
   "metadata": {},
   "source": [
    "## <a href=\"#sommaire\">Bibliographie</a><a name=\"section2\" />"
   ]
  },
  {
   "cell_type": "markdown",
   "metadata": {},
   "source": [
    "\n",
    "1. [Calcul des fonctions usuelles sur une calculatrice (blog prépa Dupuis de Lome)](http://mp.cpgedupuydelome.fr/document.php?doc=Article%20-%20Calcul%20des%20fonctions%20usuelles%20par%20la%20calculatrice.txt)\n",
    "\n",
    "2. [Calcul scientifique (J. Erhel INRIA -Rennes)](https://www.irisa.fr/sage/jocelyne/cours/HPC/prec-1101.pdf)\n",
    "\n",
    "3. [Intel Underestimates Error Bounds by 1.3 quintillion for the fsin instruction](http://randomascii.wordpress.com/2014/10/09/intel-underestimates-error-bounds-by-1-3-quintillion)\n",
    "\n",
    "4. [Collection of software bugs](http://www5.in.tum.de/~huckle/bugse.html)\n",
    "\n",
    "5. J. P. Demailly. \"Analyse Numérique et Equations Différentielles\", PUG, 1994.\n"
   ]
  },
  {
   "cell_type": "markdown",
   "metadata": {},
   "source": [
    "## FIN de la leçon \n",
    "\n",
    "<img src=\"cloud_precision.png\" alt=\"sommaire\" width=\"300px\"/>"
   ]
  },
  {
   "cell_type": "code",
   "execution_count": null,
   "metadata": {},
   "outputs": [],
   "source": []
  }
 ],
 "metadata": {
  "kernelspec": {
   "display_name": "Python 3",
   "language": "python",
   "name": "python3"
  },
  "language_info": {
   "codemirror_mode": {
    "name": "ipython",
    "version": 3
   },
   "file_extension": ".py",
   "mimetype": "text/x-python",
   "name": "python",
   "nbconvert_exporter": "python",
   "pygments_lexer": "ipython3",
   "version": "3.8.10"
  },
  "toc": {
   "base_numbering": 1,
   "nav_menu": {},
   "number_sections": true,
   "sideBar": true,
   "skip_h1_title": true,
   "title_cell": "Contenu du chapitre",
   "title_sidebar": "Contenu",
   "toc_cell": false,
   "toc_position": {},
   "toc_section_display": true,
   "toc_window_display": false
  }
 },
 "nbformat": 4,
 "nbformat_minor": 1
}
